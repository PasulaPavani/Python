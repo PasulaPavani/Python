{
  "nbformat": 4,
  "nbformat_minor": 0,
  "metadata": {
    "colab": {
      "provenance": [],
      "authorship_tag": "ABX9TyP8GgOhsvzf+rIP5VnLD8hZ",
      "include_colab_link": true
    },
    "kernelspec": {
      "name": "python3",
      "display_name": "Python 3"
    },
    "language_info": {
      "name": "python"
    }
  },
  "cells": [
    {
      "cell_type": "markdown",
      "metadata": {
        "id": "view-in-github",
        "colab_type": "text"
      },
      "source": [
        "<a href=\"https://colab.research.google.com/github/PasulaPavani/Python/blob/main/Task1.ipynb\" target=\"_parent\"><img src=\"https://colab.research.google.com/assets/colab-badge.svg\" alt=\"Open In Colab\"/></a>"
      ]
    },
    {
      "cell_type": "code",
      "source": [
        "#1.Write a python program to convert a string to lower case\n",
        "\n",
        "x=input(\"Please enter a word that you wish to convert to lower case : \")\n",
        "print(x.lower())"
      ],
      "metadata": {
        "colab": {
          "base_uri": "https://localhost:8080/"
        },
        "id": "O0yFPnMoupI0",
        "outputId": "9d7ecc12-19a6-4830-c974-b34b1054c775"
      },
      "execution_count": 3,
      "outputs": [
        {
          "output_type": "stream",
          "name": "stdout",
          "text": [
            "Please enter a word that you wish to convert to lower case : InnomAtiCs\n",
            "innomatics\n"
          ]
        }
      ]
    },
    {
      "cell_type": "code",
      "source": [
        "#2.Write a python program to convert only odd indexed characters to lower case\n",
        "\n",
        "b=input(\"Please enter a word to convert the odd index letters to lower case : \")\n",
        "a=\"\"\n",
        "for x in range(0,len(b)):\n",
        "    if x%2==0:\n",
        "        a+=str(b[x])\n",
        "    else:\n",
        "        a+=str(b[x]).lower()\n",
        "print(a) "
      ],
      "metadata": {
        "colab": {
          "base_uri": "https://localhost:8080/"
        },
        "id": "_Y1-ui7Pup14",
        "outputId": "205f1149-780b-4692-c8c6-3b1b2e3fa6d6"
      },
      "execution_count": 5,
      "outputs": [
        {
          "output_type": "stream",
          "name": "stdout",
          "text": [
            "Please enter a word to convert the odd index letters to lower caseDECATHLON\n",
            "DeCaThLoN\n"
          ]
        }
      ]
    },
    {
      "cell_type": "code",
      "source": [
        "#3.Write a python program to convert only even indexed characters to lower case\n",
        "#Ex:- PYTHON Output: - pYtHoN\n",
        "\n",
        "b=input(\"Please enter a word to convert the even index letters to lower case :\")\n",
        "a=\"\"\n",
        "for x in range(0,len(b)):\n",
        "    if x%2==0:\n",
        "        a+=str(b[x]).lower()\n",
        "    else:\n",
        "        a+=str(b[x])\n",
        "print(a) "
      ],
      "metadata": {
        "colab": {
          "base_uri": "https://localhost:8080/"
        },
        "id": "w-53Gv0UvEXB",
        "outputId": "6aa4cbba-75d2-43ef-a001-1b89b2f4d823"
      },
      "execution_count": 7,
      "outputs": [
        {
          "output_type": "stream",
          "name": "stdout",
          "text": [
            "Please enter a word to convert the even index letters to lower caseDECAthLoN\n",
            "dEcAthlon\n"
          ]
        }
      ]
    },
    {
      "cell_type": "code",
      "source": [
        "#4.Write a python program to convert only odd indexed characters to upper case\n",
        "#Ex:- python Output: - pYtHoN\n",
        "\n",
        "b=input(\"Please enter a word to convert the odd index letters to upper case : \")\n",
        "a=\"\"\n",
        "for x in range(0,len(b)):\n",
        "    if x%2==0:\n",
        "        a+=str(b[x])\n",
        "    else:\n",
        "        a+=str(b[x]).upper()\n",
        "print(a) "
      ],
      "metadata": {
        "colab": {
          "base_uri": "https://localhost:8080/"
        },
        "id": "gX53rTkdvbLZ",
        "outputId": "afb0b9f9-63c1-4c87-da55-254149e1cb34"
      },
      "execution_count": 9,
      "outputs": [
        {
          "output_type": "stream",
          "name": "stdout",
          "text": [
            "Please enter a word to convert the odd index letters to upper caseDecATHloN\n",
            "DEcATHlON\n"
          ]
        }
      ]
    },
    {
      "cell_type": "code",
      "source": [
        "#5.Write a python program to convert only even indexed characters to upper case\n",
        "#Ex:- python Output: - PyThOn\n",
        "\n",
        "b=input(\"Please enter a word to convert the even index letters to upper case : \")\n",
        "a=\"\"\n",
        "for x in range(0,len(b)):\n",
        "    if x%2==0:\n",
        "        a+=str(b[x]).upper()\n",
        "    else:\n",
        "        a+=str(b[x])\n",
        "print(a) "
      ],
      "metadata": {
        "colab": {
          "base_uri": "https://localhost:8080/"
        },
        "id": "gqp82wtNvuNQ",
        "outputId": "400c2608-2d1c-4845-cf66-1147b78a8922"
      },
      "execution_count": 11,
      "outputs": [
        {
          "output_type": "stream",
          "name": "stdout",
          "text": [
            "Please enter a word to convert the even index letters to upper case : INNOmatiCs\n",
            "INNOMaTiCs\n"
          ]
        }
      ]
    },
    {
      "cell_type": "code",
      "source": [
        "#6.Write a python program where you have different variable which contains\n",
        "#your name ,gender,age, phone no ,fathers name and mothers name.And by using this variable create a\n",
        "#variable named bio-data where you will use all this variable\n",
        "#Ex:-print(bio-data)\n",
        "#Output:- My name is ...., My age is ....,My phone-no is ....,my fathers name is ...,and my mothers name is......\n",
        "\n",
        "name=input(\"Please enter your name: \")\n",
        "gender=input(\"Please enter your gender: \")\n",
        "age=int(input(\"Please enter your age: \"))\n",
        "phno=int(input(\"Please enter your phone number: \"))\n",
        "father_name=input(\"Please enter your father's name: \")\n",
        "mother_name=input(\"Please enter you mother's name: \")\n",
        "bio_data=\"My name is {}, My gender is {}, My age is {}, My phone number is {}, My father's name is {}, My mother's name is {}\"\n",
        "print(bio_data.format(name,gender,age,phno,father_name,mother_name))"
      ],
      "metadata": {
        "colab": {
          "base_uri": "https://localhost:8080/"
        },
        "id": "22EQD415wofN",
        "outputId": "a970666e-2c43-4c7f-8fe2-7dd3917eeb66"
      },
      "execution_count": 12,
      "outputs": [
        {
          "output_type": "stream",
          "name": "stdout",
          "text": [
            "Please enter your name: Pasula Pavani\n",
            "Please enter your gender: Female\n",
            "Please enter your age: 24\n",
            "Please enter your phone number: 9876543210\n",
            "Please enter your father's name: P Venkataiah\n",
            "Please enter you mother's name: P Kavitha\n",
            "My name is Pasula Pavani, My gender is Female, My age is 24, My phone number is 9876543210, My father's name is P Venkataiah, My mother's name is P Kavitha\n"
          ]
        }
      ]
    },
    {
      "cell_type": "code",
      "source": [
        "#7.Write a python program to count how many times “@” occurred\n",
        "\n",
        "x=input(\"Please enter a string to know the number of times '@' occurred \")\n",
        "print(\"@ occurred \"+str(x.count(\"@\"))+\" number of times\")"
      ],
      "metadata": {
        "colab": {
          "base_uri": "https://localhost:8080/"
        },
        "id": "8TQa-QPrxOXN",
        "outputId": "331cead4-d2a5-4361-c761-31b5ac0baf57"
      },
      "execution_count": 13,
      "outputs": [
        {
          "output_type": "stream",
          "name": "stdout",
          "text": [
            "Please enter a string to know the number of times '@' occurred q@w@e@$RT@u@890\n",
            "@ occurred 5 number of times\n"
          ]
        }
      ]
    },
    {
      "cell_type": "code",
      "source": [
        "#8.Write a python program to get only names from the string “name1.@gmail.com,name2.@gmail.com,name3.@gmail.com”\n",
        "#Output-name1,name2,name3\n",
        "\n",
        "x=\"name1.@gmail.com,name2.@gmail.com,name3.@gmail.com\"\n",
        "y=x.split(\".@gmail.com\")\n",
        "a=\"\"\n",
        "for x in range(0,3):\n",
        "    a+=y[x]\n",
        "print(a)"
      ],
      "metadata": {
        "colab": {
          "base_uri": "https://localhost:8080/"
        },
        "id": "XPLqjNk3xiyF",
        "outputId": "e3cd477d-d7c6-49d3-831f-37097a926c4f"
      },
      "execution_count": 15,
      "outputs": [
        {
          "output_type": "stream",
          "name": "stdout",
          "text": [
            "name1,name2,name3\n"
          ]
        }
      ]
    },
    {
      "cell_type": "code",
      "source": [
        "#9.Given a string of odd length greater that 9, return a new string made of the middle three characters of a given String\n",
        "#Ex:- “mynameissan\n",
        "#Output:- “mei”\n",
        "\n",
        "x=input(\"Enter a string of odd length greater than 9: \")\n",
        "if len(x)<=9:\n",
        "  print(\"Please enter a string of odd length greater than 9\")\n",
        "else:\n",
        "\n",
        "  y=(len(x)+1)//2\n",
        "  print(x[(y-2):(y+1)])    "
      ],
      "metadata": {
        "colab": {
          "base_uri": "https://localhost:8080/"
        },
        "id": "FyxTwT87x9wU",
        "outputId": "46f5e4a9-7883-445b-f5e0-9b5b44915dbc"
      },
      "execution_count": 18,
      "outputs": [
        {
          "output_type": "stream",
          "name": "stdout",
          "text": [
            "Enter a string of odd length greater than 9: qwedcxzasfg\n",
            "cxz\n"
          ]
        }
      ]
    },
    {
      "cell_type": "code",
      "source": [
        "#10. Write a python program to insert a 2 string in the middle of 1 string\n",
        "#Ex:-Str1=”myn”\n",
        "#Str2=”sa” Output:-“msayn”\n",
        "\n",
        "x=input(\"Please enter a string : \")\n",
        "y=input(\"Enter a string of 2 characters you want to insert in the middle  : \")\n",
        "z=len(x)//2\n",
        "print(x[:z]+y+x[z:])"
      ],
      "metadata": {
        "colab": {
          "base_uri": "https://localhost:8080/"
        },
        "id": "WAfRGaWQyTTr",
        "outputId": "1591ca4c-f1fc-4c0a-df30-326e089d2c2b"
      },
      "execution_count": 21,
      "outputs": [
        {
          "output_type": "stream",
          "name": "stdout",
          "text": [
            "Please enter a string : qweruiop\n",
            "Enter a string of 2 characters you want to insert in the middle  : ty\n",
            "qwertyuiop\n"
          ]
        }
      ]
    },
    {
      "cell_type": "code",
      "source": [
        "#11. Write a program to remove vowels from the entire alphabets\n",
        "#Ex:- “abcdefghijklmnopqrstuvwxyz” Output:- “bcdfghjklmnpqrstvwxyz\n",
        "\n",
        "x=str(input(\"Enter a string: \"))\n",
        "a=\"\"\n",
        "for i in range(0,len(x)):\n",
        "    if x[i]==\"a\" or x[i]==\"e\" or x[i]==\"i\" or x[i]==\"o\" or x[i]==\"u\" or x[i]==\"A\" or x[i]==\"E\" or x[i]==\"I\" or x[i]==\"O\" or x[i]==\"U\":\n",
        "        a+=\"\"\n",
        "    else:\n",
        "        a+=(x[i])\n",
        "print(a)"
      ],
      "metadata": {
        "colab": {
          "base_uri": "https://localhost:8080/"
        },
        "id": "hY7LjSIZzCDo",
        "outputId": "b3c4f016-9239-4e4e-c1ea-b6f179848b73"
      },
      "execution_count": 27,
      "outputs": [
        {
          "output_type": "stream",
          "name": "stdout",
          "text": [
            "Enter a string: qwertyuiopasdfghjkl\n",
            "qwrtypsdfghjkl\n"
          ]
        }
      ]
    },
    {
      "cell_type": "code",
      "source": [],
      "metadata": {
        "id": "2VNnHkSnzjxC"
      },
      "execution_count": 23,
      "outputs": []
    }
  ]
}