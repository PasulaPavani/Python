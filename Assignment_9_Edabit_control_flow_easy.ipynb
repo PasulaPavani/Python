{
 "cells": [
  {
   "cell_type": "code",
   "execution_count": 7,
   "id": "a4a59987",
   "metadata": {},
   "outputs": [
    {
     "name": "stdout",
     "output_type": "stream",
     "text": [
      "no one online\n",
      "qwert,rtyu and 1 are online\n",
      "ret online\n",
      "wdc,ghj and 3 are online\n"
     ]
    }
   ],
   "source": [
    "#1 Write a function that returns the number of users in a chatroom based on the following rules:\n",
    "#If there is no one, return \"no one online\".\n",
    "#If there is 1 person, return \"user1 online\".\n",
    "#If there are 2 people, return \"user1 and user2 online\".\n",
    "#If there are n>2 people, return the first two names and add \"and n-2 more online\".\n",
    "def chatroom_status(users):\n",
    "    if len(users)==0:\n",
    "        return \"no one online\"\n",
    "    elif len(users)==1:\n",
    "        return users[0]+\" online\"\n",
    "    elif users==2:\n",
    "        return \"{},{} are online\".format(users[0],users[1])\n",
    "    else:\n",
    "        return \"{},{} and {} are online\".format(users[0],users[1],len(users)-1)\n",
    "print(chatroom_status([])) \n",
    "print(chatroom_status([\"qwert\",\"rtyu\"])) \n",
    "print(chatroom_status([\"ret\"]) )\n",
    "print(chatroom_status([\"wdc\",\"ghj\",\"jklo\",\"tyui\"]) )"
   ]
  },
  {
   "cell_type": "code",
   "execution_count": 37,
   "id": "d84f0e80",
   "metadata": {},
   "outputs": [
    {
     "name": "stdout",
     "output_type": "stream",
     "text": [
      "[['8']]\n",
      "[['8'], ['9']]\n",
      "[['8'], ['9'], ['11']]\n",
      "[['8'], ['9'], ['11'], ['22']]\n",
      "[['8'], ['9'], ['11'], ['22'], ['33']]\n",
      "count= 5\n",
      "None\n"
     ]
    }
   ],
   "source": [
    "#2 Create a function that returns the number of palindrome numbers in a specified range (inclusive).For example, \n",
    "#between 8 and 34, there are 5 palindromes: 8,9,11,22 and 33. Between 1550 and 1552 there is exactly one palindrome: 1551.\n",
    "def palindrome(x,y):\n",
    "    count=0\n",
    "    l=[]\n",
    "    for i in range(x,y+1):\n",
    "        i=str(i)\n",
    "        if i==i[::-1]:\n",
    "            count+=1\n",
    "            l.append([i])\n",
    "        else:\n",
    "            continue\n",
    "        print(l)   \n",
    "    print(\"count=\",count)\n",
    "    \n",
    "print(palindrome(8,34))"
   ]
  },
  {
   "cell_type": "code",
   "execution_count": 44,
   "id": "83e08382",
   "metadata": {},
   "outputs": [
    {
     "name": "stdout",
     "output_type": "stream",
     "text": [
      "6\n"
     ]
    }
   ],
   "source": [
    "#3 Create a function that returns the sum of all even elements in a 2D matrix.\n",
    "def summ(lst):\n",
    "    x=lst[0]\n",
    "    y=0\n",
    "    for i in lst:\n",
    "        if len(i)==len(x):\n",
    "            for j in x:\n",
    "                if j%2==0:\n",
    "                    y+=j\n",
    "                else:\n",
    "                    continue\n",
    "        else:\n",
    "            return \"matrices are of not same dimension\"\n",
    "    return y\n",
    "\n",
    "print(summ([[1,2,3],[3,4,5],[0,1,0]]))\n",
    "                    "
   ]
  },
  {
   "cell_type": "code",
   "execution_count": 46,
   "id": "d346f710",
   "metadata": {},
   "outputs": [
    {
     "name": "stdout",
     "output_type": "stream",
     "text": [
      "aeusdfghjrty@#\n"
     ]
    }
   ],
   "source": [
    "#4 Write a function that takes a string, breaks it up and returns it with vowels first, consonants second. \n",
    "#For any character that's not a vowel (like special characters or spaces), treat them like consonants.\n",
    "def vowel_cons(str):\n",
    "    g=\"\"\n",
    "    h=\"\"\n",
    "    for x in str:\n",
    "        if x==\"a\" or x==\"e\" or x==\"i\" or x==\"o\" or x==\"u\" or x==\"A\" or x==\"E\" or x==\"I\" or x==\"O\" or x==\"U\":\n",
    "            g+=x\n",
    "        else:\n",
    "            h+=x\n",
    "    return g+h        \n",
    "            \n",
    "print(vowel_cons(\"asdfghjertyu@#\"))    "
   ]
  },
  {
   "cell_type": "code",
   "execution_count": 50,
   "id": "ec20704e",
   "metadata": {},
   "outputs": [
    {
     "name": "stdout",
     "output_type": "stream",
     "text": [
      "sd3456klertyuir3vt4\n"
     ]
    }
   ],
   "source": [
    "#5 Create a function that takes a string as an argument and returns a coded (h4ck3r 5p34k) version of the string.\n",
    "def coded(str1):\n",
    "    g=str1.maketrans(\"fghj\",\"3456\")\n",
    "    h=str1.translate(g)\n",
    "    return h\n",
    "print(coded(\"sdfghjklertyuirfvtg\"))    "
   ]
  },
  {
   "cell_type": "code",
   "execution_count": 57,
   "id": "76d782a3",
   "metadata": {},
   "outputs": [
    {
     "data": {
      "text/plain": [
       "'124th century'"
      ]
     },
     "execution_count": 57,
     "metadata": {},
     "output_type": "execute_result"
    }
   ],
   "source": [
    "#6 Create a function that takes in a year and returns the correct century.\n",
    "def century(x):\n",
    "    return (str((x//100)+1)+\"th century\")\n",
    "\n",
    "century(12334)"
   ]
  },
  {
   "cell_type": "code",
   "execution_count": null,
   "id": "f1289b84",
   "metadata": {},
   "outputs": [],
   "source": []
  }
 ],
 "metadata": {
  "kernelspec": {
   "display_name": "Python 3 (ipykernel)",
   "language": "python",
   "name": "python3"
  },
  "language_info": {
   "codemirror_mode": {
    "name": "ipython",
    "version": 3
   },
   "file_extension": ".py",
   "mimetype": "text/x-python",
   "name": "python",
   "nbconvert_exporter": "python",
   "pygments_lexer": "ipython3",
   "version": "3.10.9"
  }
 },
 "nbformat": 4,
 "nbformat_minor": 5
}
