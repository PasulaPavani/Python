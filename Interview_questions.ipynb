{
 "cells": [
  {
   "cell_type": "code",
   "execution_count": 1,
   "id": "45c6dd4b",
   "metadata": {},
   "outputs": [
    {
     "name": "stdout",
     "output_type": "stream",
     "text": [
      "enter an integer to reverse 1234\n",
      "reversed number is : 4321\n"
     ]
    }
   ],
   "source": [
    "#1.Write a program to reverse an integer in Python\n",
    "i=int(input(\"enter an integer to reverse \"))\n",
    "k=0\n",
    "while i!=0:\n",
    "        d=i%10\n",
    "        k=k*10+d\n",
    "        i//=10\n",
    "print(\"reversed number is :\",k)       \n"
   ]
  },
  {
   "cell_type": "code",
   "execution_count": 2,
   "id": "28f6cc48",
   "metadata": {},
   "outputs": [
    {
     "name": "stdout",
     "output_type": "stream",
     "text": [
      "Enter a number : 136\n",
      "length of given number is:  3\n",
      "Given number is not an armstrong number\n"
     ]
    }
   ],
   "source": [
    "#2.Write a program in Python to check whether an integer is Armstrong number or not.\n",
    "num=int(input(\"Enter a number : \"))\n",
    "j=len(str(num))\n",
    "print(\"length of given number is: \",j)\n",
    "k=0\n",
    "x=num\n",
    "while x>0:\n",
    "    d=x%10\n",
    "    k=k+d**j\n",
    "    x//=10\n",
    "    \n",
    "    \n",
    "if num==k:\n",
    "    print(\"Given number is armstrong number\")\n",
    "else:\n",
    "    print(\"Given number is not an armstrong number\")\n",
    "    \n"
   ]
  },
  {
   "cell_type": "code",
   "execution_count": 36,
   "id": "bbf0a346",
   "metadata": {},
   "outputs": [
    {
     "name": "stdout",
     "output_type": "stream",
     "text": [
      "Enter a number :4\n",
      "4  is not a prime number\n"
     ]
    }
   ],
   "source": [
    "#3.Write a program in Python to check given number is prime or not.\n",
    "num=int(input(\"Enter a number :\"))\n",
    "if num <=1:\n",
    "    print(\"Enter a number greater than 1\")\n",
    "for x in (2,num-1):\n",
    "        if num%x==0:\n",
    "            print(num, \" is not a prime number\")\n",
    "            break\n",
    "        else:\n",
    "            print(num,\" is a prime number \")\n",
    "            break\n"
   ]
  },
  {
   "cell_type": "code",
   "execution_count": 22,
   "id": "875f3353",
   "metadata": {},
   "outputs": [
    {
     "name": "stdout",
     "output_type": "stream",
     "text": [
      "Enter a number to get fibonacci series :5\n",
      "fibonacci series is : \n",
      "0\n",
      "1\n",
      "1\n",
      "2\n",
      "3\n"
     ]
    }
   ],
   "source": [
    "#4.Write a program in Python to print the Fibonacci series using iterative method.\n",
    "\n",
    "num=int(input(\"Enter a number to get fibonacci series :\"))\n",
    "n=0\n",
    "N=1\n",
    "print(\"fibonacci series is : \")\n",
    "for i in range(0,num):\n",
    "    if i<=1:\n",
    "        result=i\n",
    "    else:\n",
    "        result = n+N\n",
    "        n=N\n",
    "        N=result\n",
    "    print(result)"
   ]
  },
  {
   "cell_type": "code",
   "execution_count": 40,
   "id": "5fa26ee3",
   "metadata": {},
   "outputs": [
    {
     "name": "stdout",
     "output_type": "stream",
     "text": [
      "Enter a positve number for fibonacci series :5\n",
      "0\n",
      "1\n",
      "1\n",
      "2\n",
      "3\n"
     ]
    }
   ],
   "source": [
    "#5.Write a program in Python to print the Fibonacci series using recursive method.\n",
    "num=int(input(\"Enter a positve number for fibonacci series :\"))\n",
    "def fibo(n):\n",
    "    if n <=1:\n",
    "        return(n)\n",
    "    else:\n",
    "        return(fibo(n-1)+fibo(n-2))\n",
    "if num<=0:\n",
    "     print(num)\n",
    "else:\n",
    "    for i in range(num):\n",
    "        print(fibo(i))"
   ]
  },
  {
   "cell_type": "code",
   "execution_count": 3,
   "id": "e57edce0",
   "metadata": {},
   "outputs": [
    {
     "name": "stdout",
     "output_type": "stream",
     "text": [
      "Enter a number 121\n",
      "Given number is palindrome\n"
     ]
    }
   ],
   "source": [
    "#6.\tWrite a program in Python to check whether a number is palindrome or not using iterative method.\n",
    "num=int(input(\"Enter a number \"))\n",
    "g=str(num)\n",
    "s=g[::-1]\n",
    "if s==g:\n",
    "        print(\"Given number is palindrome\")\n",
    "else:\n",
    "        print(\"Given number is not a palindrome\")"
   ]
  },
  {
   "cell_type": "code",
   "execution_count": null,
   "id": "54a88a3d",
   "metadata": {},
   "outputs": [],
   "source": [
    "#7.\tWrite a program in Python to check whether a number is palindrome or not using recursive method.\n",
    "num=int(input(\"Enter a number to check whether it is a palindrome or not \"))\n",
    "n=str(num)\n",
    "def rec(k):\n",
    "    if n[1]==n[-1]\n"
   ]
  },
  {
   "cell_type": "code",
   "execution_count": 5,
   "id": "7129e530",
   "metadata": {},
   "outputs": [
    {
     "name": "stdout",
     "output_type": "stream",
     "text": [
      "Enter 1st number 4\n",
      "Enter 2nd number 6\n",
      "Enter 3rd number 1\n",
      "Greates number is : 6\n"
     ]
    }
   ],
   "source": [
    "#8.\tWrite a program in Python to find greatest among three integers.\n",
    "a=int(input(\"Enter 1st number \"))\n",
    "b=int(input(\"Enter 2nd number \"))\n",
    "c=int(input(\"Enter 3rd number \"))\n",
    "if a>b and a>c:\n",
    "    print(\"Greatest number is :\",a)\n",
    "elif b>a and b>c:\n",
    "    print(\"Greates number is :\",b)\n",
    "else:\n",
    "    print(\"Greatest number is :\",c)"
   ]
  },
  {
   "cell_type": "code",
   "execution_count": 8,
   "id": "e5181d14",
   "metadata": {},
   "outputs": [
    {
     "name": "stdout",
     "output_type": "stream",
     "text": [
      "Enter a number 101010\n",
      "Given number is binary\n"
     ]
    }
   ],
   "source": [
    "#9.\tWrite a program in Python to check if a number is binary?\n",
    "num=int(input(\"Enter a number \"))\n",
    "s=str(num)\n",
    "def bi(x):\n",
    "    c=0\n",
    "    for i in range(0,len(s)-1):\n",
    "        if not(s[i]=='0' or s[i]=='1'):\n",
    "            c+=1 \n",
    "            break\n",
    "        else:\n",
    "            pass\n",
    "    if c>=1:\n",
    "        print(\"Given number is not binary\")\n",
    "    else:\n",
    "        print(\"Given number is binary\")\n",
    "    \n",
    "bi(s)       \n",
    "    "
   ]
  },
  {
   "cell_type": "code",
   "execution_count": 7,
   "id": "d450d8d4",
   "metadata": {},
   "outputs": [
    {
     "name": "stdout",
     "output_type": "stream",
     "text": [
      "Enter a number 101010\n",
      "Enter 2nd number 1111\n",
      "a= 1111 \n",
      "b= 101010\n"
     ]
    }
   ],
   "source": [
    "#10.Write a program in Python to swap two numbers without using third variable\n",
    "\n",
    "a=int(input(\"Enter a number \"))\n",
    "b=int(input(\"Enter 2nd number \"))\n",
    "a,b=b,a\n",
    "print(\"a=\",a,\"\\nb=\",b)"
   ]
  },
  {
   "cell_type": "code",
   "execution_count": 3,
   "id": "aa293cff",
   "metadata": {},
   "outputs": [
    {
     "name": "stdout",
     "output_type": "stream",
     "text": [
      "Enter ist number 3\n",
      "Enter 2nd number 5\n",
      "a= 5 \n",
      "b= 3\n"
     ]
    }
   ],
   "source": [
    "#12.\tWrite a program in Python to swap two numbers using third variable?\n",
    "a=int(input(\"Enter ist number \"))\n",
    "b=int(input(\"Enter 2nd number \"))\n",
    "c=0\n",
    "c=a\n",
    "a=b\n",
    "b=c\n",
    "print(\"a=\",a,\"\\nb=\",b)"
   ]
  },
  {
   "cell_type": "code",
   "execution_count": null,
   "id": "0f3bac30",
   "metadata": {},
   "outputs": [],
   "source": [
    "#13.\tWrite a program in Python to find prime factors of a given integer.\n",
    "num=int(input(\"Enter a number  \"))\n",
    "s=str(num)\n"
   ]
  },
  {
   "cell_type": "code",
   "execution_count": null,
   "id": "b5e493c0",
   "metadata": {},
   "outputs": [],
   "source": [
    "#14.\tWrite a program in Python to add two integer without using arithmetic operator?"
   ]
  },
  {
   "cell_type": "code",
   "execution_count": 12,
   "id": "31c3a570",
   "metadata": {},
   "outputs": [
    {
     "name": "stdout",
     "output_type": "stream",
     "text": [
      "Enter a number5\n",
      "Given number is not a perfect number\n"
     ]
    }
   ],
   "source": [
    "#15.\tWrite a program in Python to find given number is perfect or not?\n",
    "num=int(input(\"Enter a number\"))\n",
    "s=0\n",
    "for i in range(1,num):\n",
    "    if num%i==0:\n",
    "        s=s+i\n",
    "if s==num:\n",
    "    print(\"Given number is perfect number\")\n",
    "else:\n",
    "    print(\"Given number is not a perfect number\")\n",
    "    \n",
    "        \n"
   ]
  },
  {
   "cell_type": "code",
   "execution_count": null,
   "id": "f77bbe67",
   "metadata": {},
   "outputs": [],
   "source": [
    "#16.\tPython Program to find the Average of numbers with explanations.\n",
    "def avg(x):\n",
    "    average=sum(x)/len(x)\n",
    "    \n",
    "l=[]\n",
    "l1=int(input(\"Enter the size of the list \"))\n",
    "       \n",
    "for i in range(0,l1-1):\n",
    "    while i <l1:\n",
    "        g=int(input(\"Enter number\"))\n",
    "        l.append(g)\n",
    "    i+=1\n",
    "print(l)\n",
    "print(\"Average of given number is :\",avg(l))\n",
    "    "
   ]
  },
  {
   "cell_type": "code",
   "execution_count": null,
   "id": "91780017",
   "metadata": {},
   "outputs": [],
   "source": [
    "##### 17 Python Program to calculate factorial using iterative method"
   ]
  },
  {
   "cell_type": "code",
   "execution_count": null,
   "id": "709ab56e",
   "metadata": {},
   "outputs": [],
   "source": [
    "#18.\tPython Program to calculate factorial using recursion."
   ]
  },
  {
   "cell_type": "code",
   "execution_count": 1,
   "id": "29bb512e",
   "metadata": {},
   "outputs": [
    {
     "name": "stdout",
     "output_type": "stream",
     "text": [
      "Enter any positive number45\n",
      "Given number is odd \n"
     ]
    }
   ],
   "source": [
    "#19 .\tPython Program to check a given number is even or odd.\n",
    "def k(x):\n",
    "    if x%2==1:\n",
    "        print(\"Given number is odd \")\n",
    "    else:\n",
    "        print(\"Given number is even\")\n",
    "        \n",
    "h=int(input(\"Enter any positive number\"))\n",
    "k(h)"
   ]
  },
  {
   "cell_type": "code",
   "execution_count": 31,
   "id": "a7719238",
   "metadata": {},
   "outputs": [
    {
     "name": "stdout",
     "output_type": "stream",
     "text": [
      "Enter the number till the no. of  prime numbers to be printed 10\n",
      "1\n",
      "2\n",
      "3\n",
      "5\n",
      "7\n"
     ]
    }
   ],
   "source": [
    "#20 .\tPython program to print first n Prime Number with explanation.\n",
    "num=int(input(\"Enter the number till the no. of  prime numbers to be printed \"))\n",
    "if num<2:\n",
    "    print(\"Please enter a number greater than 1 \")\n",
    "for k in range(1,num):\n",
    "    for i in range(2,k):\n",
    "        if k%i==0:\n",
    "            break\n",
    "    else:\n",
    "            print(k)\n",
    "            \n",
    "\n",
    "        \n",
    "    \n"
   ]
  },
  {
   "cell_type": "code",
   "execution_count": 32,
   "id": "d03f283c",
   "metadata": {},
   "outputs": [
    {
     "name": "stdout",
     "output_type": "stream",
     "text": [
      "Enter lower range3\n",
      "Enter upper range10\n",
      "3\n",
      "5\n",
      "7\n"
     ]
    }
   ],
   "source": [
    "#21 .\tPython Program to print Prime Number in a given range.\n",
    "lower=int(input(\"Enter lower range \"))\n",
    "upper=int(input(\"Enter upper range \"))\n",
    "\n",
    "for k in range(lower,upper):\n",
    "    for i in range(2,k):\n",
    "        if k<2:\n",
    "            pass\n",
    "        if k%i==0:\n",
    "            break\n",
    "    else:\n",
    "            print(k)\n",
    "            \n",
    "\n",
    "        \n"
   ]
  },
  {
   "cell_type": "code",
   "execution_count": 33,
   "id": "ee9bd0d8",
   "metadata": {},
   "outputs": [
    {
     "name": "stdout",
     "output_type": "stream",
     "text": [
      "Enter 1st number 4\n",
      "Enter 2nd number 6\n",
      "Enter 3rd number 2\n",
      "Smallest number is : 2\n"
     ]
    }
   ],
   "source": [
    "#22 Python Program to find Smallest number among three\n",
    "a=int(input(\"Enter 1st number \"))\n",
    "b=int(input(\"Enter 2nd number \"))\n",
    "c=int(input(\"Enter 3rd number \"))\n",
    "if a<b and a<c:\n",
    "    print(\"Smallest number is :\",a)\n",
    "elif b<a and b<c:\n",
    "    print(\"Smallest number is :\",b)\n",
    "else:\n",
    "    print(\"Smallest number is :\",c)\n"
   ]
  },
  {
   "cell_type": "code",
   "execution_count": null,
   "id": "e4508a97",
   "metadata": {},
   "outputs": [],
   "source": [
    "23.\tPython program to calculate the power using the POW method."
   ]
  },
  {
   "cell_type": "code",
   "execution_count": null,
   "id": "5e454b97",
   "metadata": {},
   "outputs": [],
   "source": [
    "24.\tPython Program to calculate the power without using POW function.(using for loop)."
   ]
  },
  {
   "cell_type": "code",
   "execution_count": null,
   "id": "b2a20f42",
   "metadata": {},
   "outputs": [],
   "source": [
    "Python Program to calculate the power without using POW function.(using while loop)"
   ]
  },
  {
   "cell_type": "code",
   "execution_count": 146,
   "id": "0053eb63",
   "metadata": {},
   "outputs": [
    {
     "name": "stdout",
     "output_type": "stream",
     "text": [
      "Enter a number that is to be squared 6\n",
      "The square of the given number is  36.0\n"
     ]
    }
   ],
   "source": [
    "#26.\tPython Program to calculate the square of a given number\n",
    "num=float(input(\"Enter a number that is to be squared \"))\n",
    "print(\"The square of the given number is \",num**2)"
   ]
  },
  {
   "cell_type": "code",
   "execution_count": 17,
   "id": "d616e753",
   "metadata": {},
   "outputs": [
    {
     "name": "stdout",
     "output_type": "stream",
     "text": [
      "Enter a number to cube 5\n",
      "The cube of the given number is  125\n"
     ]
    }
   ],
   "source": [
    "#27.\tPython Program to calculate the cube of a given number.\n",
    "num=int(input(\"Enter a number to cube \"))\n",
    "if num<=0:\n",
    "    print(\"Give a positve number \")\n",
    "else:\n",
    "    print(\"The cube of the given number is \",num**(3))"
   ]
  },
  {
   "cell_type": "code",
   "execution_count": 19,
   "id": "9cdc18ae",
   "metadata": {},
   "outputs": [
    {
     "name": "stdout",
     "output_type": "stream",
     "text": [
      "Enter a number to get sqrt of the given number 2\n",
      "The squareroot of the given number is  1.4142135623730951\n"
     ]
    }
   ],
   "source": [
    "#28.\tPython Program to calculate the square root of a given number.\n",
    "num=int(input(\"Enter a number to get sqrt of the given number \"))\n",
    "if num<=0:\n",
    "    print(\"Give a positve number \")\n",
    "else:\n",
    "    print(\"The squareroot of the given number is \",num**(1/2))\n"
   ]
  },
  {
   "cell_type": "code",
   "execution_count": null,
   "id": "a8aed720",
   "metadata": {},
   "outputs": [],
   "source": [
    "29.\tPython program to calculate LCM of given two numbers.\n"
   ]
  },
  {
   "cell_type": "code",
   "execution_count": null,
   "id": "09266876",
   "metadata": {},
   "outputs": [],
   "source": [
    "30.\tPython Program to find GCD or HCF of two numbers."
   ]
  },
  {
   "cell_type": "code",
   "execution_count": null,
   "id": "eec75c1c",
   "metadata": {},
   "outputs": [],
   "source": [
    "\n",
    "31.\tPython Program to find GCD of two numbers using recursion.\n"
   ]
  },
  {
   "cell_type": "code",
   "execution_count": null,
   "id": "e7fccdf8",
   "metadata": {},
   "outputs": [],
   "source": [
    "32.\tPython Program to Convert Decimal Number into Binary."
   ]
  },
  {
   "cell_type": "code",
   "execution_count": null,
   "id": "c780cac0",
   "metadata": {},
   "outputs": [],
   "source": [
    "33.\tPython Program to convert Decimal number to Octal number."
   ]
  },
  {
   "cell_type": "code",
   "execution_count": 145,
   "id": "4a2f7428",
   "metadata": {},
   "outputs": [
    {
     "name": "stdout",
     "output_type": "stream",
     "text": [
      "Enter a year 1900\n",
      "1900 given year is not a leap year\n"
     ]
    }
   ],
   "source": [
    "#34.\tPython Program to check the given year is a leap year or not.\n",
    "year=int(input(\"Enter a year \"))\n",
    "if year%400==0 or (year%4==0 and year%100!=0):\n",
    "    print(year,\"given year is a leap year\")\n",
    "else:\n",
    "     print(year,\"given year is not a leap year\")"
   ]
  },
  {
   "cell_type": "code",
   "execution_count": 26,
   "id": "01c12730",
   "metadata": {},
   "outputs": [
    {
     "name": "stdout",
     "output_type": "stream",
     "text": [
      "Enter the temperaure in Celsius 0.5555555555555556\n",
      "The farehneit temperature in fahreneit is  33.0 ⁰F\n"
     ]
    }
   ],
   "source": [
    "#35.\tPython Program to convert Celsius to Fahrenheit.\n",
    "temp=float(input(\"Enter the temperaure in Celsius \"))\n",
    "far=(temp*1.8)+32\n",
    "print(\"The farehneit temperature in fahreneit is \",far,\"⁰F\")"
   ]
  },
  {
   "cell_type": "code",
   "execution_count": 25,
   "id": "41a142f8",
   "metadata": {},
   "outputs": [
    {
     "name": "stdout",
     "output_type": "stream",
     "text": [
      "Enter the temperaure in Fahrenheit 33\n",
      "The farehneit temperature in celsius is  0.5555555555555556 ⁰C\n"
     ]
    }
   ],
   "source": [
    "#36.\tPython Program to convert Fahrenheit to Celsius.\n",
    "temp=float(input(\"Enter the temperaure in Fahrenheit \"))\n",
    "cel=(temp-32)/1.800\n",
    "print(\"The farehneit temperature in celsius is \",cel,\"⁰C\")"
   ]
  },
  {
   "cell_type": "code",
   "execution_count": 30,
   "id": "a78c981e",
   "metadata": {},
   "outputs": [
    {
     "name": "stdout",
     "output_type": "stream",
     "text": [
      "Enter the principle amount 2500\n",
      "enter duration iin years 2\n",
      "Enter the rate of interest 3\n",
      "Simple interest for the given data is  150.0\n"
     ]
    }
   ],
   "source": [
    "#37.\tPython program to calculate Simple Interest with explanation\n",
    "def  si(p,t,r):\n",
    "       s_i=0\n",
    "       s_i=(p*t*r)/100\n",
    "       return s_i\n",
    "p=float(input(\"Enter the principle amount \"))\n",
    "t=float(input(\"enter duration iin years \"))\n",
    "r=float(input(\"Enter the rate of interest \"))\n",
    "\n",
    "print(\"Simple interest for the given data is \",si(p,t,r))\n"
   ]
  },
  {
   "cell_type": "code",
   "execution_count": 140,
   "id": "3636d0d5",
   "metadata": {},
   "outputs": [
    {
     "name": "stdout",
     "output_type": "stream",
     "text": [
      "Enter a string Innomatica reasearch Labs\n",
      "Enter a char that is to be removed from the string a\n",
      "The string after removing the required character is  Innomtic reserch Lbs\n"
     ]
    }
   ],
   "source": [
    "#38.\tPython program to remove given character from String.\n",
    "st=input(\"Enter a string \")\n",
    "d=input(\"Enter a char that is to be removed from the string \")\n",
    "print(\"The string after removing the required character is \",st.replace(d,\"\"))"
   ]
  },
  {
   "cell_type": "code",
   "execution_count": null,
   "id": "e669f155",
   "metadata": {},
   "outputs": [],
   "source": [
    "#39.\tPython Program to count occurrence of a given characters in string.\n",
    "st=input(\"Enter a string \")\n",
    "char={}\n",
    "for i in st:\n",
    "    char.values=[i]\n",
    "    char.freq="
   ]
  },
  {
   "cell_type": "code",
   "execution_count": null,
   "id": "701f0360",
   "metadata": {},
   "outputs": [],
   "source": [
    "40.Python Program to check if two Strings are Anagram"
   ]
  },
  {
   "cell_type": "code",
   "execution_count": 138,
   "id": "0c86d21c",
   "metadata": {},
   "outputs": [
    {
     "name": "stdout",
     "output_type": "stream",
     "text": [
      "Enter a string sts\n",
      "Given string is a palindrome\n"
     ]
    }
   ],
   "source": [
    "#41.\tPython program to check a String is palindrome or not.\n",
    "st=input(\"Enter a string \")\n",
    "if st==st[::-1]:\n",
    "    print(\"Given string is a palindrome\")\n",
    "else:\n",
    "    print(\"Given string is not a palindrome\")"
   ]
  },
  {
   "cell_type": "code",
   "execution_count": 132,
   "id": "acd580ca",
   "metadata": {},
   "outputs": [
    {
     "name": "stdout",
     "output_type": "stream",
     "text": [
      "Enter any character e\n",
      "The given char is vowel\n"
     ]
    }
   ],
   "source": [
    "#42.\tPython program to check given character is vowel or consonant.\n",
    "st=input(\"Enter any character \")\n",
    "if len(st)>1:\n",
    "        print(\"Please enter one character only\")\n",
    "if st in (\"a\", \"e\" , \"i\" , \"o\" , \"u\",\"A\",\"E\",\"I\",\"O\",\"U\"):\n",
    "        print(\"The given char is vowel\")\n",
    "elif st in (\"b\",\"c\",\"d\",\"f\",\"g\",\"h\",\"j\",\"k\",\"l\",\"m\",\"n\",\"p\",\"q\",\"r\",\"s\",\"t\",\"v\",\"w\",\"x\",\"y\",\"z\",\"B\",\"C\",\"D\",\"F\",\"G\",\"H\",\"J\",\"K\",\"L\",\"M\",\"N\",\"P\",\"Q\",\"R\",\"S\",\"T\",\"V\",\"W\",\"X\",\"Y\",\"Z\"):\n",
    "        print(\"The given char is consonant\")     \n",
    "              "
   ]
  },
  {
   "cell_type": "code",
   "execution_count": 126,
   "id": "08c934b3",
   "metadata": {},
   "outputs": [
    {
     "name": "stdout",
     "output_type": "stream",
     "text": [
      "Enter any character e\n",
      "Given char is not a digit\n"
     ]
    }
   ],
   "source": [
    "#43.\tPython program to check given character is digit or not.\n",
    "\n",
    "st=input(\"Enter any character \")\n",
    "if len(st)>1:\n",
    "        print(\"Please enter one character only\")\n",
    "    \n",
    "elif st in (\"0\",\"1\",\"2\",\"3\",\"4\",\"5\",\"6\",\"7\",\"8\",\"9\"):\n",
    "        print(\"Given character is digit\")\n",
    "else:\n",
    "        print(\"Given char is not a digit\")"
   ]
  },
  {
   "cell_type": "code",
   "execution_count": 122,
   "id": "2ac170fa",
   "metadata": {},
   "outputs": [
    {
     "name": "stdout",
     "output_type": "stream",
     "text": [
      "Enter a string of type alphanum qwerty\n",
      "The given string does not contain any digits\n"
     ]
    }
   ],
   "source": [
    "#44.\tPython program to check given character is digit or not using isdigit() method.\n",
    "st=input(\"Enter a string of type alphanum \")\n",
    "count=0\n",
    "for i in st:\n",
    "    if i==\"0\" or i==\"1\" or i==\"2\" or i==\"3\" or i==\"4\" or i==\"5\" or i==\"6\" or i==\"7\" or i==\"8\" or i==\"9\" :\n",
    "        count+=1\n",
    "else:\n",
    "    print(\"The given string does not contain any digits\")\n",
    "if count>0:\n",
    "    print(\"The given string contains digits\")"
   ]
  },
  {
   "cell_type": "code",
   "execution_count": 116,
   "id": "f04022bc",
   "metadata": {},
   "outputs": [
    {
     "name": "stdout",
     "output_type": "stream",
     "text": [
      "Enter a string Innomatica reasearch Labs\n",
      "Enter the char that is to be replaced with $\n",
      "Converted string after replace is  Innomatica$reasearch$Labs\n"
     ]
    }
   ],
   "source": [
    "#45.\tPython program to replace the string space with a given character.\n",
    "st=input(\"Enter a string \")\n",
    "d=input(\"Enter the char that is to be replaced with \")\n",
    "k=d.join(st.split())\n",
    "print(\"Converted string after replace is \",k)"
   ]
  },
  {
   "cell_type": "code",
   "execution_count": 112,
   "id": "5e4252ae",
   "metadata": {},
   "outputs": [
    {
     "name": "stdout",
     "output_type": "stream",
     "text": [
      "Enter a string Innomatica reasearch Labs\n",
      "Enter the char that is to be replaced with @\n",
      "Converted string after replace is  Innomatica@reasearch@Labs\n"
     ]
    }
   ],
   "source": [
    "#46.\tPython program to replace the string space with a given character using replace() method.\n",
    "st=input(\"Enter a string \")\n",
    "d=input(\"Enter the char that is to be replaced with \")\n",
    "print(\"Converted string after replace is \",st.replace(\" \",d))"
   ]
  },
  {
   "cell_type": "code",
   "execution_count": 109,
   "id": "66ba7adc",
   "metadata": {},
   "outputs": [
    {
     "name": "stdout",
     "output_type": "stream",
     "text": [
      "Enter a string InnoMatics\n",
      "Converted string from lowercase to uppercase is  INNOMATICS\n"
     ]
    }
   ],
   "source": [
    "#47.\tPython program to convert lowercase char to uppercase of string.\n",
    "st=input(\"Enter a string \")\n",
    "print(\"Converted string from lowercase to uppercase is \",st.upper())"
   ]
  },
  {
   "cell_type": "code",
   "execution_count": null,
   "id": "c9ba8af7",
   "metadata": {},
   "outputs": [],
   "source": [
    "48.\tPython program to convert lowercase vowel to uppercase in string."
   ]
  },
  {
   "cell_type": "code",
   "execution_count": null,
   "id": "b2472f4f",
   "metadata": {},
   "outputs": [],
   "source": [
    "#49.ython program to convert lowercase vowel to uppercase in string\n",
    "st=input(\"Enter a string \")\n",
    "s=\"\"\n",
    "dic1={\"a\":\"A\",\"e\":\"E\",\"i\":\"I\",\"o\":\"O\",\"u\":\"U\"}\n",
    "for i in st:\n",
    "    if i not in (\"a\", \"e\" , \"i\" , \"o\" )\n",
    "        s=s+i\n",
    "    else:\n",
    "        s=s+(for keys,values in dic1:)\n",
    "print(\"The string after removing vowels is :\",s)   "
   ]
  },
  {
   "cell_type": "code",
   "execution_count": 107,
   "id": "1766be9f",
   "metadata": {},
   "outputs": [
    {
     "name": "stdout",
     "output_type": "stream",
     "text": [
      "Enter a string wertyuiop\n",
      "The string after removing vowels is : wrtyp\n"
     ]
    }
   ],
   "source": [
    "#50.Python program to delete vowels in a given string\n",
    "st=input(\"Enter a string \")\n",
    "s=\"\"\n",
    "for i in st:\n",
    "    if i not in (\"a\", \"e\" , \"i\" , \"o\" , \"u\",\"A\",\"E\",\"I\",\"O\",\"U\"):\n",
    "        s=s+i\n",
    "print(\"The string after removing vowels is :\",s)    "
   ]
  },
  {
   "cell_type": "code",
   "execution_count": null,
   "id": "9a49f495",
   "metadata": {},
   "outputs": [],
   "source": [
    "#50.\tPython program to count the Occurrence Of Vowels & Consonants in a String.\n",
    "st=input(\"Enter a string or a sentence \")\n",
    "v_count=0\n",
    "c_count=0\n",
    "for i in st:\n",
    "    if i in (\"a\", \"e\" , \"i\" , \"o\" , \"u\",\"A\",\"E\",\"I\",\"O\",\"U\"):\n",
    "        v_count+=1\n",
    "    elif i in (\"b\",\"c\",\"d\",\"f\",\"g\",\"h\",\"j\",\"k\",\"l\",\"m\",\"n\",\"p\",\"q\",\"r\",\"s\",\"t\",\"v\",\"w\",\"x\",\"y\",\"z\",\"B\",\"C\",\"D\",\"F\",\"G\",\"H\",\"J\",\"K\",\"L\",\"M\",\"N\",\"P\",\"Q\",\"R\",\"S\",\"T\",\"V\",\"W\",\"X\",\"Y\",\"Z\"):\n",
    "        c_count+=1\n",
    "print(\"the number of vowels in the given string are : \",v_count)\n",
    "print(\"The number of consonants in the given string are : \",c_count)"
   ]
  },
  {
   "cell_type": "code",
   "execution_count": 91,
   "id": "e346b567",
   "metadata": {},
   "outputs": [
    {
     "name": "stdout",
     "output_type": "stream",
     "text": [
      "Enter a string QWERTYUIASDFGHJKL\n",
      "Most frequent character:  Q\n"
     ]
    }
   ],
   "source": [
    "#51.Python program to print the highest frequency character in a String\n",
    "st=input(\"Enter a string \")\n",
    "\n",
    "char_freq={}\n",
    "\n",
    "for i in st:\n",
    "    if i in char_freq:\n",
    "        char_freq[i]=char_freq[i]+1\n",
    "    else:\n",
    "        char_freq[i] = 1\n",
    "result= max(char_freq, key = char_freq.get)\n",
    "\n",
    "print(\"Most frequent character: \",result)\n",
    "\n"
   ]
  },
  {
   "cell_type": "code",
   "execution_count": 84,
   "id": "0ca39849",
   "metadata": {},
   "outputs": [
    {
     "name": "stdout",
     "output_type": "stream",
     "text": [
      "Enter a string or a sentence qsertyo\n"
     ]
    },
    {
     "data": {
      "text/plain": [
       "-1"
      ]
     },
     "execution_count": 84,
     "metadata": {},
     "output_type": "execute_result"
    }
   ],
   "source": [
    "#52.\tPython program to Replace First Occurrence Of Vowel With ‘-‘ in String.\n",
    "st=input(\"Enter a string or a sentence \")\n",
    "count=0\n",
    "for i in st:\n",
    "    if i in (\"a\", \"e\" , \"i\" , \"o\" , \"u\"):\n",
    "        \n",
    "        count=1\n",
    "print(st.replace[])        "
   ]
  },
  {
   "cell_type": "code",
   "execution_count": 83,
   "id": "1d58ea98",
   "metadata": {},
   "outputs": [
    {
     "name": "stdout",
     "output_type": "stream",
     "text": [
      "Enter a string which is a mix of alphabets,numbers and special characters 123qazsf$%678\n",
      "number of alphabets are  5\n",
      "number os digitd are  6\n",
      "number of special characters are  2\n"
     ]
    }
   ],
   "source": [
    "#53.\tPython program to count alphabets, digits and special characters.\n",
    "alpha_count=0\n",
    "num_count=0\n",
    "sp_count=0\n",
    "st=input(\"Enter a string which is a mix of alphabets,numbers and special characters \")\n",
    "for i in st:\n",
    "    if (ord(\"a\")<=ord(i)<=ord(\"z\")) or (ord(\"A\")<=ord(i)<=ord(\"Z\")):\n",
    "        alpha_count+=1\n",
    "    elif ord(\"0\")<=ord(i)<=ord(\"9\"):\n",
    "        num_count+=1\n",
    "    else:\n",
    "        sp_count+=1\n",
    "print(\"number of alphabets are \",alpha_count)\n",
    "print(\"number os digitd are \",num_count)\n",
    "print(\"number of special characters are \",sp_count)"
   ]
  },
  {
   "cell_type": "code",
   "execution_count": 80,
   "id": "549e4608",
   "metadata": {},
   "outputs": [
    {
     "name": "stdout",
     "output_type": "stream",
     "text": [
      "Enter a sentence qwerty\n",
      "['q', 'w', 'e', 'r', 't', 'y']\n"
     ]
    }
   ],
   "source": [
    "#54.\tPython program to separate characters in a given string.\n",
    "st=input(\"Enter a sentence \")\n",
    "s=list(st)\n",
    "print(s)"
   ]
  },
  {
   "cell_type": "code",
   "execution_count": 77,
   "id": "c1e32a70",
   "metadata": {},
   "outputs": [
    {
     "name": "stdout",
     "output_type": "stream",
     "text": [
      "Enter a sentence qwert asdf vbnm\n",
      "String after removing spaces is  qwertasdfvbnm\n"
     ]
    }
   ],
   "source": [
    "#55.\tPython program to remove blank space from string.\n",
    "st=input(\"Enter a sentence \")\n",
    "s=st.split(\" \")\n",
    "print(\"String after removing spaces is \",\"\".join(s))\n"
   ]
  },
  {
   "cell_type": "code",
   "execution_count": 72,
   "id": "91c423e3",
   "metadata": {},
   "outputs": [
    {
     "name": "stdout",
     "output_type": "stream",
     "text": [
      "Enter 1st string string1\n",
      "Enter 2nd string string2\n",
      "The string after concating 2 strings using join is  string1string2\n"
     ]
    }
   ],
   "source": [
    "#56.\tPython program to concatenate two strings using join() method.\n",
    "str1=input(\"Enter 1st string \")\n",
    "str2=input(\"Enter 2nd string \")\n",
    "str3=\"\".join(list([str1,str2]))\n",
    "print(\"The string after concating 2 strings using join is \",str3)"
   ]
  },
  {
   "cell_type": "code",
   "execution_count": 65,
   "id": "378ac1cb",
   "metadata": {},
   "outputs": [
    {
     "name": "stdout",
     "output_type": "stream",
     "text": [
      "Enter 1st string string1\n",
      "Enter 2nd string string2\n",
      "The string after concating 2 strings is  string1string2\n"
     ]
    }
   ],
   "source": [
    "#57.Python program to concatenate two strings without using join() method\n",
    "str1=input(\"Enter 1st string \")\n",
    "str2=input(\"Enter 2nd string \")\n",
    "str3=str1+str2\n",
    "print(\"The string after concating 2 strings is \",str3)"
   ]
  },
  {
   "cell_type": "code",
   "execution_count": 63,
   "id": "4d142ea9",
   "metadata": {},
   "outputs": [
    {
     "name": "stdout",
     "output_type": "stream",
     "text": [
      "Enter a string hdfg81hhahdfj\n",
      "The string after removing the repeated character is  8g1fdhja\n"
     ]
    }
   ],
   "source": [
    "#58.\tPython program to remove repeated character from string.\n",
    "st=input(\"Enter a string \")\n",
    "d=\"\".join(set(st))\n",
    "print(\"The string after removing the repeated character is \",d)\n"
   ]
  },
  {
   "cell_type": "code",
   "execution_count": 59,
   "id": "4b00bf35",
   "metadata": {},
   "outputs": [
    {
     "name": "stdout",
     "output_type": "stream",
     "text": [
      "Enter a string of type alphanum fshdtu125673lm\n",
      "sum of numbers in given string is  24\n"
     ]
    }
   ],
   "source": [
    "#59.\tPython program to calculate sum of integers in string.\n",
    "st=input(\"Enter a string of type alphanum \")\n",
    "k=0\n",
    "for i in st:\n",
    "    if i==\"0\" or i==\"1\" or i==\"2\" or i==\"3\" or i==\"4\" or i==\"5\" or i==\"6\" or i==\"7\" or i==\"8\" or i==\"9\" :\n",
    "        k=k+int(i)\n",
    "print(\"sum of numbers in given string is \",k)        "
   ]
  },
  {
   "cell_type": "code",
   "execution_count": 54,
   "id": "8f2b528e",
   "metadata": {},
   "outputs": [
    {
     "name": "stdout",
     "output_type": "stream",
     "text": [
      "Enter a string qwertyqwesdf\n",
      "Non repeating character in the given string are : r\n",
      "Non repeating character in the given string are : t\n",
      "Non repeating character in the given string are : y\n",
      "Non repeating character in the given string are : s\n",
      "Non repeating character in the given string are : d\n",
      "Non repeating character in the given string are : f\n"
     ]
    }
   ],
   "source": [
    "#60.\tPython program to print all non repeating character in string.\n",
    "st=input(\"Enter a string \")\n",
    "for k in st:\n",
    "    g=0\n",
    "    for i in st:\n",
    "        if k==i:\n",
    "            g+=1\n",
    "        if g>1:\n",
    "            break\n",
    "    else:\n",
    "        print(\"Non repeating character in the given string are :\",k)"
   ]
  },
  {
   "cell_type": "code",
   "execution_count": 45,
   "id": "646ea9fe",
   "metadata": {},
   "outputs": [
    {
     "name": "stdout",
     "output_type": "stream",
     "text": [
      "enter a string qwerty\n",
      "The string you given for st  qwerty\n",
      "The string copied to anoher string is  qwerty\n"
     ]
    }
   ],
   "source": [
    "#61.\tPython program to copy one string to another string.\n",
    "st=input(\"enter a string \")\n",
    "d=st\n",
    "print(\"The string you given for st \",st)\n",
    "print(\"The string copied to anoher string is \",d)"
   ]
  },
  {
   "cell_type": "code",
   "execution_count": 43,
   "id": "0640dd1b",
   "metadata": {},
   "outputs": [
    {
     "name": "stdout",
     "output_type": "stream",
     "text": [
      "Enter a string qwert\n",
      "sorted string is  eqrtw\n"
     ]
    }
   ],
   "source": [
    "#62.\tPython Program to sort characters of string in ascending order.\n",
    "st=input(\"Enter a string \")\n",
    "s=sorted(st)\n",
    "k=\"\"\n",
    "k=k.join(s)\n",
    "print(\"sorted string is \",k)"
   ]
  },
  {
   "cell_type": "code",
   "execution_count": 42,
   "id": "15a03bfc",
   "metadata": {},
   "outputs": [
    {
     "name": "stdout",
     "output_type": "stream",
     "text": [
      "Enter a string qwerty\n",
      "sorted string in descending order : ywtrqe\n"
     ]
    }
   ],
   "source": [
    "#63.\tPython Program to sort character of string in descending order.\n",
    "st=input(\"Enter a string \")\n",
    "s=sorted(st,reverse=True)\n",
    "k=\"\"\n",
    "k=k.join(s)\n",
    "print(\"sorted string in descending order :\",k)"
   ]
  },
  {
   "cell_type": "code",
   "execution_count": null,
   "id": "ffb386ae",
   "metadata": {},
   "outputs": [],
   "source": []
  },
  {
   "cell_type": "code",
   "execution_count": null,
   "id": "a4bbf85d",
   "metadata": {},
   "outputs": [],
   "source": []
  },
  {
   "cell_type": "code",
   "execution_count": null,
   "id": "2f5dd41f",
   "metadata": {},
   "outputs": [],
   "source": []
  },
  {
   "cell_type": "code",
   "execution_count": null,
   "id": "6bdb9d18",
   "metadata": {},
   "outputs": [],
   "source": []
  },
  {
   "cell_type": "code",
   "execution_count": null,
   "id": "ea5130d2",
   "metadata": {},
   "outputs": [],
   "source": []
  }
 ],
 "metadata": {
  "kernelspec": {
   "display_name": "Python 3 (ipykernel)",
   "language": "python",
   "name": "python3"
  },
  "language_info": {
   "codemirror_mode": {
    "name": "ipython",
    "version": 3
   },
   "file_extension": ".py",
   "mimetype": "text/x-python",
   "name": "python",
   "nbconvert_exporter": "python",
   "pygments_lexer": "ipython3",
   "version": "3.10.9"
  }
 },
 "nbformat": 4,
 "nbformat_minor": 5
}
