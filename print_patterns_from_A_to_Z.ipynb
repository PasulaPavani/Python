{
 "cells": [
  {
   "cell_type": "code",
   "execution_count": 1,
   "id": "6b9a81d2",
   "metadata": {},
   "outputs": [
    {
     "name": "stdout",
     "output_type": "stream",
     "text": [
      "*****\n",
      "*   *\n",
      "*   *\n",
      "*****\n",
      "*   *\n",
      "*   *\n"
     ]
    }
   ],
   "source": [
    "#printing of A\n",
    "a1=1\n",
    "a2=2\n",
    "a3=3\n",
    "a4=4\n",
    "a5=5\n",
    "a6=6\n",
    "if a1==1:\n",
    "    print(\"*****\")\n",
    "if a2==2:\n",
    "    print(\"*   *\")\n",
    "if a3==3:\n",
    "    print(\"*   *\")\n",
    "if a4==4:\n",
    "    print(\"*****\")\n",
    "if a5==5:\n",
    "    print(\"*   *\")\n",
    "if a6==6:\n",
    "    print(\"*   *\")\n",
    "    \n",
    "    \n",
    "\n"
   ]
  },
  {
   "cell_type": "code",
   "execution_count": 27,
   "id": "aec43b61",
   "metadata": {},
   "outputs": [
    {
     "name": "stdout",
     "output_type": "stream",
     "text": [
      "***\n",
      "*  *\n",
      "*   *\n",
      "*  *\n",
      "****\n",
      "*  *\n",
      "*   *\n",
      "*  *\n",
      "***\n"
     ]
    }
   ],
   "source": [
    "#printing of B\n",
    "b1=1\n",
    "b2=2\n",
    "b3=3\n",
    "b4=4\n",
    "b5=5\n",
    "b6=6\n",
    "b7=7\n",
    "b8=8\n",
    "b9=9\n",
    "if b1==1:\n",
    "    print(\"***\")\n",
    "if b2==2:\n",
    "    print(\"*  *\")\n",
    "if b3==3:\n",
    "    print(\"*   *\")\n",
    "if b4==4:\n",
    "    print(\"*  *\")\n",
    "if b5==5:\n",
    "    print(\"****\")\n",
    "if b6==6:\n",
    "    print(\"*  *\")    \n",
    "if b7==7:\n",
    "    print(\"*   *\")\n",
    "if b8==8:\n",
    "    print(\"*  *\")\n",
    "if b9==9:\n",
    "    print(\"***\")\n",
    "    \n",
    "    "
   ]
  },
  {
   "cell_type": "code",
   "execution_count": 26,
   "id": "7464d73f",
   "metadata": {},
   "outputs": [
    {
     "name": "stdout",
     "output_type": "stream",
     "text": [
      " * * * *\n",
      "*  \n",
      "* \n",
      "*\n",
      "*\n",
      " * * * *\n"
     ]
    }
   ],
   "source": [
    "#printing of C\n",
    "c1=1\n",
    "c2=2\n",
    "c3=3\n",
    "c4=4\n",
    "c5=5\n",
    "c6=6\n",
    "if c1==1:\n",
    "    print(\" * * * *\")\n",
    "if c2==2:\n",
    "    print(\"*  \")\n",
    "if c3==3:\n",
    "    print(\"* \")\n",
    "if c4==4:\n",
    "    print(\"*\")\n",
    "if c5==5:\n",
    "    print(\"*\")\n",
    "if c6==6:\n",
    "    print(\" * * * *\")\n",
    "    \n",
    "    "
   ]
  },
  {
   "cell_type": "code",
   "execution_count": 3,
   "id": "d071d08d",
   "metadata": {},
   "outputs": [
    {
     "name": "stdout",
     "output_type": "stream",
     "text": [
      "*****\n",
      "*    *\n",
      "*     *\n",
      "*      *\n",
      "*     *\n",
      "*    *\n",
      "*****\n"
     ]
    }
   ],
   "source": [
    "#printing of D\n",
    "d1=1\n",
    "d2=2\n",
    "d3=3\n",
    "d4=4\n",
    "d5=5\n",
    "d6=6\n",
    "d7=7\n",
    "if d1==1:\n",
    "    print(\"*****\")\n",
    "if d2==2:\n",
    "    print(\"*    *\")\n",
    "if d3==3:\n",
    "    print(\"*     *\")\n",
    "if d4==4:\n",
    "    print(\"*      *\")\n",
    "if d5==5:\n",
    "    print(\"*     *\")\n",
    "if d6==6:\n",
    "    print(\"*    *\")\n",
    "if d7==7:\n",
    "    print(\"*****\")\n",
    "    \n",
    "    "
   ]
  },
  {
   "cell_type": "code",
   "execution_count": 4,
   "id": "2ee83ad3",
   "metadata": {},
   "outputs": [
    {
     "name": "stdout",
     "output_type": "stream",
     "text": [
      "* * *\n",
      "*\n",
      "*\n",
      "* * *\n",
      "*\n",
      "*\n",
      "* * *\n"
     ]
    }
   ],
   "source": [
    "#printing of E\n",
    "e1=1\n",
    "e2=2\n",
    "e3=3\n",
    "e4=4\n",
    "e5=5\n",
    "e6=6\n",
    "e7=7\n",
    "if e1==1:\n",
    "    print(\"* * *\")\n",
    "if e2==2:\n",
    "    print(\"*\")\n",
    "if e3==3:\n",
    "    print(\"*\")\n",
    "if e4==4:\n",
    "    print(\"* * *\")\n",
    "if e5==5:\n",
    "    print(\"*\")\n",
    "if e6==6:\n",
    "    print(\"*\")\n",
    "if e7==7:\n",
    "    print(\"* * *\")\n",
    "    \n",
    "    "
   ]
  },
  {
   "cell_type": "code",
   "execution_count": 5,
   "id": "0f52e497",
   "metadata": {},
   "outputs": [
    {
     "name": "stdout",
     "output_type": "stream",
     "text": [
      "* * *\n",
      "*\n",
      "*\n",
      "* * *\n",
      "*\n",
      "*\n",
      "*\n"
     ]
    }
   ],
   "source": [
    "#printing of F\n",
    "f1=1\n",
    "f2=2\n",
    "f3=3\n",
    "f4=4\n",
    "f5=5\n",
    "f6=6\n",
    "f7=7\n",
    "if f1==1:\n",
    "    print(\"* * *\")\n",
    "if f2==2:\n",
    "    print(\"*\")\n",
    "if f3==3:\n",
    "    print(\"*\")\n",
    "if f4==4:\n",
    "    print(\"* * *\")\n",
    "if f5==5:\n",
    "    print(\"*\")\n",
    "if f6==6:\n",
    "    print(\"*\")\n",
    "if f7==7:\n",
    "    print(\"*\")\n",
    "    \n",
    "    "
   ]
  },
  {
   "cell_type": "code",
   "execution_count": 6,
   "id": "65a07c71",
   "metadata": {},
   "outputs": [
    {
     "name": "stdout",
     "output_type": "stream",
     "text": [
      " ******\n",
      "*\n",
      "*\n",
      "*  ****\n",
      "*     *\n",
      "*     *\n",
      "*****\n"
     ]
    }
   ],
   "source": [
    "#printing of G\n",
    "g1=1\n",
    "g2=2\n",
    "g3=3\n",
    "g4=4\n",
    "g5=5\n",
    "g6=6\n",
    "g7=7\n",
    "if g1==1:\n",
    "    print(\" ******\")\n",
    "if g2==2:\n",
    "    print(\"*\")\n",
    "if g3==3:\n",
    "    print(\"*\")\n",
    "if g4==4:\n",
    "    print(\"*  ****\")\n",
    "if g5==5:\n",
    "    print(\"*     *\")\n",
    "if g6==6:\n",
    "    print(\"*     *\")\n",
    "if g7==7:\n",
    "    print(\"*****\")\n",
    "    \n",
    "    "
   ]
  },
  {
   "cell_type": "code",
   "execution_count": 7,
   "id": "74e160ae",
   "metadata": {},
   "outputs": [
    {
     "name": "stdout",
     "output_type": "stream",
     "text": [
      "*     *\n",
      "*     *\n",
      "*     *\n",
      "*******\n",
      "*     *\n",
      "*     *\n",
      "*     *\n"
     ]
    }
   ],
   "source": [
    "#printing of H\n",
    "h1=1\n",
    "h2=2\n",
    "h3=3\n",
    "h4=4\n",
    "h5=5\n",
    "h6=6\n",
    "h7=7\n",
    "if h1==1:\n",
    "    print(\"*     *\")\n",
    "if h2==2:\n",
    "    print(\"*     *\")\n",
    "if h3==3:\n",
    "    print(\"*     *\")\n",
    "if h4==4:\n",
    "    print(\"*******\")\n",
    "if h5==5:\n",
    "    print(\"*     *\")\n",
    "if h6==6:\n",
    "    print(\"*     *\")\n",
    "if h7==7:\n",
    "    print(\"*     *\")\n",
    "    \n",
    "    "
   ]
  },
  {
   "cell_type": "code",
   "execution_count": 8,
   "id": "7b17d50f",
   "metadata": {},
   "outputs": [
    {
     "name": "stdout",
     "output_type": "stream",
     "text": [
      "*****\n",
      "  *\n",
      "  *\n",
      "  *\n",
      "  *\n",
      "  *\n",
      "*****\n"
     ]
    }
   ],
   "source": [
    "#printing of I\n",
    "i1=1\n",
    "i2=2\n",
    "i3=3\n",
    "i4=4\n",
    "i5=5\n",
    "i6=6\n",
    "i7=7\n",
    "if i1==1:\n",
    "    print(\"*****\")\n",
    "if i2==2:\n",
    "    print(\"  *\")\n",
    "if i3==3:\n",
    "    print(\"  *\")\n",
    "if i4==4:\n",
    "    print(\"  *\")\n",
    "if i5==5:\n",
    "    print(\"  *\")\n",
    "if i6==6:\n",
    "    print(\"  *\")\n",
    "if i7==7:\n",
    "    print(\"*****\")\n",
    "    \n",
    "    "
   ]
  },
  {
   "cell_type": "code",
   "execution_count": 9,
   "id": "cfe1cfc2",
   "metadata": {},
   "outputs": [
    {
     "name": "stdout",
     "output_type": "stream",
     "text": [
      "* * * * * * *\n",
      "     *\n",
      "     *\n",
      "     *\n",
      "     *\n",
      "*    *\n",
      "* * * \n"
     ]
    }
   ],
   "source": [
    "#printing of J\n",
    "j1=1\n",
    "j2=2\n",
    "j3=3\n",
    "j4=4\n",
    "j5=5\n",
    "j6=6\n",
    "j7=7\n",
    "if j1==1:\n",
    "    print(\"* * * * * * *\")\n",
    "if j2==2:\n",
    "    print(\"     *\")\n",
    "if j3==3:\n",
    "    print(\"     *\")\n",
    "if j4==4:\n",
    "    print(\"     *\")\n",
    "if j5==5:\n",
    "    print(\"     *\")\n",
    "if j6==6:\n",
    "    print(\"*    *\")\n",
    "if j7==7:\n",
    "    print(\"* * * \")\n",
    "    \n",
    "    "
   ]
  },
  {
   "cell_type": "code",
   "execution_count": 10,
   "id": "759d09ed",
   "metadata": {},
   "outputs": [
    {
     "name": "stdout",
     "output_type": "stream",
     "text": [
      "*     *\n",
      "*   *\n",
      "*  *\n",
      "***\n",
      "*  *\n",
      "*    *\n",
      "*       *\n"
     ]
    }
   ],
   "source": [
    "#printing of K\n",
    "k1=1\n",
    "k2=2\n",
    "k3=3\n",
    "k4=4\n",
    "k5=5\n",
    "k6=6\n",
    "k7=7\n",
    "if k1==1:\n",
    "    print(\"*     *\")\n",
    "if k2==2:\n",
    "    print(\"*   *\")\n",
    "if k3==3:\n",
    "    print(\"*  *\")\n",
    "if k4==4:\n",
    "    print(\"***\")\n",
    "if k5==5:\n",
    "    print(\"*  *\")\n",
    "if k6==6:\n",
    "    print(\"*    *\")\n",
    "if k7==7:\n",
    "    print(\"*       *\")\n",
    "    \n",
    "    "
   ]
  },
  {
   "cell_type": "code",
   "execution_count": 11,
   "id": "144edac9",
   "metadata": {},
   "outputs": [
    {
     "name": "stdout",
     "output_type": "stream",
     "text": [
      "*\n",
      "*\n",
      "*\n",
      "*\n",
      "*\n",
      "*\n",
      "* * * * *\n"
     ]
    }
   ],
   "source": [
    "#printing of L\n",
    "l1=1\n",
    "l2=2\n",
    "l3=3\n",
    "l4=4\n",
    "l5=5\n",
    "l6=6\n",
    "l7=7\n",
    "if l1==1:\n",
    "    print(\"*\")\n",
    "if l2==2:\n",
    "    print(\"*\")\n",
    "if l3==3:\n",
    "    print(\"*\")\n",
    "if l4==4:\n",
    "    print(\"*\")\n",
    "if l5==5:\n",
    "    print(\"*\")\n",
    "if l6==6:\n",
    "    print(\"*\")\n",
    "if l7==7:\n",
    "    print(\"* * * * *\")\n",
    "    \n",
    "    "
   ]
  },
  {
   "cell_type": "code",
   "execution_count": 12,
   "id": "4186801c",
   "metadata": {},
   "outputs": [
    {
     "name": "stdout",
     "output_type": "stream",
     "text": [
      "*        *\n",
      "*  *  *  *\n",
      "*   **   *\n",
      "*    *   *\n",
      "*    *   * \n"
     ]
    }
   ],
   "source": [
    "#printing of M\n",
    "m1=1\n",
    "m2=2\n",
    "m3=3\n",
    "m4=4\n",
    "m5=5\n",
    "if m1==1:\n",
    "    print(\"*        *\")\n",
    "if m2==2:\n",
    "    print(\"*  *  *  *\")\n",
    "if m3==3:\n",
    "    print(\"*   **   *\")\n",
    "if m4==4:\n",
    "    print(\"*    *   *\")\n",
    "if m5==5:\n",
    "    print(\"*    *   * \")\n",
    "\n",
    "\n",
    "    \n",
    "    "
   ]
  },
  {
   "cell_type": "code",
   "execution_count": 13,
   "id": "2c2b6c72",
   "metadata": {},
   "outputs": [
    {
     "name": "stdout",
     "output_type": "stream",
     "text": [
      "*        *\n",
      "*  *     *\n",
      "*   *    *\n",
      "*    *   *\n",
      "*      * *\n",
      "*       ** \n",
      "*        *\n"
     ]
    }
   ],
   "source": [
    "#printing of N\n",
    "n1=1\n",
    "n2=2\n",
    "n3=3\n",
    "n4=4\n",
    "n5=5\n",
    "n6=6\n",
    "n7=7\n",
    "if n1==1:\n",
    "    print(\"*        *\")\n",
    "if n2==2:\n",
    "    print(\"*  *     *\")\n",
    "if n3==3:\n",
    "    print(\"*   *    *\")\n",
    "if n4==4:\n",
    "    print(\"*    *   *\")\n",
    "if n5==5:\n",
    "    print(\"*      * *\")\n",
    "if n6==6:\n",
    "    print(\"*       ** \")\n",
    "if n7==7:\n",
    "    print(\"*        *\")\n"
   ]
  },
  {
   "cell_type": "code",
   "execution_count": 14,
   "id": "dd084b8e",
   "metadata": {},
   "outputs": [
    {
     "name": "stdout",
     "output_type": "stream",
     "text": [
      " * * * *\n",
      "*       *\n",
      "*       *\n",
      "*       *\n",
      "*       *\n",
      "*       *\n",
      " * * * *  \n"
     ]
    }
   ],
   "source": [
    "#printing of O\n",
    "o1=1\n",
    "o2=2\n",
    "o3=3\n",
    "o4=4\n",
    "o5=5\n",
    "o6=6\n",
    "o7=7\n",
    "if o1==1:\n",
    "    print(\" * * * *\")\n",
    "if o2==2:\n",
    "    print(\"*       *\")\n",
    "if o3==3:\n",
    "    print(\"*       *\")\n",
    "if o4==4:\n",
    "    print(\"*       *\")\n",
    "if o5==5:\n",
    "    print(\"*       *\")\n",
    "if o6==6:\n",
    "    print(\"*       *\")\n",
    "if o7==7:\n",
    "    print(\" * * * *  \")\n"
   ]
  },
  {
   "cell_type": "code",
   "execution_count": 15,
   "id": "d2e7a14d",
   "metadata": {},
   "outputs": [
    {
     "name": "stdout",
     "output_type": "stream",
     "text": [
      "* * * *\n",
      "*       *\n",
      "*       *\n",
      "* * * *\n",
      "*\n",
      "*  \n",
      "* \n"
     ]
    }
   ],
   "source": [
    "#printing of P\n",
    "p1=1\n",
    "p2=2\n",
    "p3=3\n",
    "p4=4\n",
    "p5=5\n",
    "p6=6\n",
    "p7=7\n",
    "if p1==1:\n",
    "    print(\"* * * *\")\n",
    "if p2==2:\n",
    "    print(\"*       *\")\n",
    "if p3==3:\n",
    "    print(\"*       *\")\n",
    "if p4==4:\n",
    "    print(\"* * * *\")\n",
    "if p5==5:\n",
    "    print(\"*\")\n",
    "if p6==6:\n",
    "    print(\"*  \")\n",
    "if p7==7:\n",
    "    print(\"* \")\n"
   ]
  },
  {
   "cell_type": "code",
   "execution_count": 16,
   "id": "c14ca3bd",
   "metadata": {},
   "outputs": [
    {
     "name": "stdout",
     "output_type": "stream",
     "text": [
      " * * * * * \n",
      "*         *\n",
      "*         *\n",
      "*         *\n",
      "*    *    *\n",
      "*      *  * \n",
      " * * * * * * *\n"
     ]
    }
   ],
   "source": [
    "#printing of Q\n",
    "q1=1\n",
    "q2=2\n",
    "q3=3\n",
    "q4=4\n",
    "q5=5\n",
    "q6=6\n",
    "q7=7\n",
    "if q1==1:\n",
    "    print(\" * * * * * \")\n",
    "if q2==2:\n",
    "    print(\"*         *\")\n",
    "if q3==3:\n",
    "    print(\"*         *\")\n",
    "if q4==4:\n",
    "    print(\"*         *\")\n",
    "if q5==5:\n",
    "    print(\"*    *    *\")\n",
    "if q6==6:\n",
    "    print(\"*      *  * \")\n",
    "if q7==7:\n",
    "    print(\" * * * * * * *\")\n"
   ]
  },
  {
   "cell_type": "code",
   "execution_count": 17,
   "id": "8fad1299",
   "metadata": {},
   "outputs": [
    {
     "name": "stdout",
     "output_type": "stream",
     "text": [
      "** * * * * \n",
      "*          *\n",
      "*         *\n",
      "* * * * *   \n",
      "*       *\n",
      "*        * \n",
      "*         *\n"
     ]
    }
   ],
   "source": [
    "#printing of R\n",
    "r1=1\n",
    "r2=2\n",
    "r3=3\n",
    "r4=4\n",
    "r5=5\n",
    "r6=6\n",
    "r7=7\n",
    "if r1==1:\n",
    "    print(\"** * * * * \")\n",
    "if r2==2:\n",
    "    print(\"*          *\")\n",
    "if r3==3:\n",
    "    print(\"*         *\")\n",
    "if r4==4:\n",
    "    print(\"* * * * *   \")\n",
    "if r5==5:\n",
    "    print(\"*       *\")\n",
    "if r6==6:\n",
    "    print(\"*        * \")\n",
    "if r7==7:\n",
    "    print(\"*         *\")\n"
   ]
  },
  {
   "cell_type": "code",
   "execution_count": 18,
   "id": "478ea014",
   "metadata": {},
   "outputs": [
    {
     "name": "stdout",
     "output_type": "stream",
     "text": [
      " * * * * *\n",
      "*       \n",
      "  *    \n",
      "    *   \n",
      "      * \n",
      "        * \n",
      "* * * * * \n"
     ]
    }
   ],
   "source": [
    "#printing of S\n",
    "s1=1\n",
    "s2=2\n",
    "s3=3\n",
    "s4=4\n",
    "s5=5\n",
    "s6=6\n",
    "s7=7\n",
    "if s1==1:\n",
    "    print(\" * * * * *\")\n",
    "if s2==2:\n",
    "    print(\"*       \")\n",
    "if s3==3:\n",
    "    print(\"  *    \")\n",
    "if s4==4:\n",
    "    print(\"    *   \")\n",
    "if s5==5:\n",
    "    print(\"      * \")\n",
    "if s6==6:\n",
    "    print(\"        * \")\n",
    "if s7==7:\n",
    "    print(\"* * * * * \")\n"
   ]
  },
  {
   "cell_type": "code",
   "execution_count": 19,
   "id": "dca315dc",
   "metadata": {},
   "outputs": [
    {
     "name": "stdout",
     "output_type": "stream",
     "text": [
      "* * * * *\n",
      "    *\n",
      "    *\n",
      "    *\n",
      "    *\n",
      "    *\n",
      "    *\n"
     ]
    }
   ],
   "source": [
    "#printing of T\n",
    "t1=1\n",
    "t2=2\n",
    "t3=3\n",
    "t4=4\n",
    "t5=5\n",
    "t6=6\n",
    "t7=7\n",
    "if t1==1:\n",
    "    print(\"* * * * *\")\n",
    "if t2==2:\n",
    "    print(\"    *\")\n",
    "if t3==3:\n",
    "    print(\"    *\")\n",
    "if t4==4:\n",
    "    print(\"    *\")\n",
    "if t5==5:\n",
    "    print(\"    *\")\n",
    "if t6==6:\n",
    "    print(\"    *\")\n",
    "if t7==7:\n",
    "    print(\"    *\")\n"
   ]
  },
  {
   "cell_type": "code",
   "execution_count": 20,
   "id": "51d54156",
   "metadata": {},
   "outputs": [
    {
     "name": "stdout",
     "output_type": "stream",
     "text": [
      "*       *\n",
      "*       *\n",
      "*       *\n",
      "*       *\n",
      "*       *\n",
      "*       * \n",
      " * * * * \n"
     ]
    }
   ],
   "source": [
    "#printing of U\n",
    "u1=1\n",
    "u2=2\n",
    "u3=3\n",
    "u4=4\n",
    "u5=5\n",
    "u6=6\n",
    "u7=7\n",
    "if u1==1:\n",
    "    print(\"*       *\")\n",
    "if u2==2:\n",
    "    print(\"*       *\")\n",
    "if u3==3:\n",
    "    print(\"*       *\")\n",
    "if u4==4:\n",
    "    print(\"*       *\")\n",
    "if u5==5:\n",
    "    print(\"*       *\")\n",
    "if u6==6:\n",
    "    print(\"*       * \")\n",
    "if u7==7:\n",
    "    print(\" * * * * \")\n"
   ]
  },
  {
   "cell_type": "code",
   "execution_count": 21,
   "id": "ba988748",
   "metadata": {},
   "outputs": [
    {
     "name": "stdout",
     "output_type": "stream",
     "text": [
      "*       *\n",
      "*       *\n",
      "*       *\n",
      "*       *\n",
      " *     *\n",
      "  *   * \n",
      "    *     \n"
     ]
    }
   ],
   "source": [
    "#printing of V\n",
    "v1=1\n",
    "v2=2\n",
    "v3=3\n",
    "v4=4\n",
    "v5=5\n",
    "v6=6\n",
    "v7=7\n",
    "if v1==1:\n",
    "    print(\"*       *\")\n",
    "if v2==2:\n",
    "    print(\"*       *\")\n",
    "if v3==3:\n",
    "    print(\"*       *\")\n",
    "if v4==4:\n",
    "    print(\"*       *\")\n",
    "if v5==5:\n",
    "    print(\" *     *\")\n",
    "if v6==6:\n",
    "    print(\"  *   * \")\n",
    "if v7==7:\n",
    "    print(\"    *     \")\n"
   ]
  },
  {
   "cell_type": "code",
   "execution_count": 22,
   "id": "ffe5e697",
   "metadata": {},
   "outputs": [
    {
     "name": "stdout",
     "output_type": "stream",
     "text": [
      "*         *\n",
      "*    *    *\n",
      "*   * *   *\n",
      "*   * *   *\n",
      "*  *   *  *\n",
      "* *     * * \n",
      "**       **\n"
     ]
    }
   ],
   "source": [
    "#printing of W \n",
    "w1=1\n",
    "w2=2\n",
    "w3=3\n",
    "w4=4\n",
    "w5=5\n",
    "w6=6\n",
    "w7=7\n",
    "if w1==1:\n",
    "    print(\"*         *\")\n",
    "if w2==2:\n",
    "    print(\"*    *    *\")\n",
    "if w3==3:\n",
    "    print(\"*   * *   *\")\n",
    "if w4==4:\n",
    "    print(\"*   * *   *\")\n",
    "if w5==5:\n",
    "    print(\"*  *   *  *\")\n",
    "if w6==6:\n",
    "    print(\"* *     * * \")\n",
    "if w7==7:\n",
    "    print(\"**       **\")\n"
   ]
  },
  {
   "cell_type": "code",
   "execution_count": 23,
   "id": "a7688c76",
   "metadata": {},
   "outputs": [
    {
     "name": "stdout",
     "output_type": "stream",
     "text": [
      "*          *\n",
      "  *      *\n",
      "    *  *\n",
      "      *   \n",
      "    *   * \n",
      "  *       *\n",
      "*           *\n"
     ]
    }
   ],
   "source": [
    "#printing of X\n",
    "x1=1\n",
    "x2=2\n",
    "x3=3\n",
    "x4=4\n",
    "x5=5\n",
    "x6=6\n",
    "x7=7\n",
    "if x1==1:\n",
    "    print(\"*          *\")\n",
    "if x2==2:\n",
    "    print(\"  *      *\")\n",
    "if x3==3:\n",
    "    print(\"    *  *\")\n",
    "if x4==4:\n",
    "    print(\"      *   \")\n",
    "if x5==5:\n",
    "    print(\"    *   * \")\n",
    "if x6==6: \n",
    "    print(\"  *       *\")\n",
    "if x7==7:\n",
    "    print(\"*           *\")\n"
   ]
  },
  {
   "cell_type": "code",
   "execution_count": 24,
   "id": "e9f04b09",
   "metadata": {},
   "outputs": [
    {
     "name": "stdout",
     "output_type": "stream",
     "text": [
      "*       *\n",
      "  *   *\n",
      "   * *\n",
      "    * \n",
      "    *\n",
      "    * \n",
      "    *\n"
     ]
    }
   ],
   "source": [
    "#printing of Y\n",
    "y1=1\n",
    "y2=2\n",
    "y3=3\n",
    "y4=4\n",
    "y5=5\n",
    "y6=6\n",
    "y7=7\n",
    "if y1==1:\n",
    "    print(\"*       *\")\n",
    "if y2==2:\n",
    "    print(\"  *   *\")\n",
    "if y3==3:\n",
    "    print(\"   * *\")\n",
    "if y4==4:\n",
    "    print(\"    * \")\n",
    "if y5==5:\n",
    "    print(\"    *\")\n",
    "if y6==6:\n",
    "    print(\"    * \")\n",
    "if y7==7:\n",
    "    print(\"    *\")\n"
   ]
  },
  {
   "cell_type": "code",
   "execution_count": 31,
   "id": "646a0f22",
   "metadata": {},
   "outputs": [
    {
     "name": "stdout",
     "output_type": "stream",
     "text": [
      "* * * * *\n",
      "      *\n",
      "     *\n",
      "    *\n",
      "   *\n",
      "  *\n",
      "* * * * *\n"
     ]
    }
   ],
   "source": [
    "#printing of Z\n",
    "z1=1\n",
    "z2=2\n",
    "z3=3\n",
    "z4=4\n",
    "z5=5\n",
    "z6=6\n",
    "z7=7\n",
    "if z1==1:\n",
    "    print(\"* * * * *\")\n",
    "if z2==2: \n",
    "    print(\"      *\")\n",
    "if z3==3:\n",
    "    print(\"     *\")\n",
    "if z4==4:\n",
    "    print(\"    *\")\n",
    "if z5==5:\n",
    "    print(\"   *\")\n",
    "if z6==6:\n",
    "    print(\"  *\")\n",
    "if z7==7:\n",
    "    print(\"* * * * *\")\n"
   ]
  },
  {
   "cell_type": "code",
   "execution_count": null,
   "id": "f309c59e",
   "metadata": {},
   "outputs": [],
   "source": []
  },
  {
   "cell_type": "code",
   "execution_count": null,
   "id": "82f1ed81",
   "metadata": {},
   "outputs": [],
   "source": []
  },
  {
   "cell_type": "code",
   "execution_count": null,
   "id": "b3662a75",
   "metadata": {},
   "outputs": [],
   "source": []
  },
  {
   "cell_type": "code",
   "execution_count": null,
   "id": "c4fdb7b3",
   "metadata": {},
   "outputs": [],
   "source": []
  },
  {
   "cell_type": "code",
   "execution_count": null,
   "id": "763ff0ff",
   "metadata": {},
   "outputs": [],
   "source": []
  }
 ],
 "metadata": {
  "kernelspec": {
   "display_name": "Python 3 (ipykernel)",
   "language": "python",
   "name": "python3"
  },
  "language_info": {
   "codemirror_mode": {
    "name": "ipython",
    "version": 3
   },
   "file_extension": ".py",
   "mimetype": "text/x-python",
   "name": "python",
   "nbconvert_exporter": "python",
   "pygments_lexer": "ipython3",
   "version": "3.10.9"
  }
 },
 "nbformat": 4,
 "nbformat_minor": 5
}
