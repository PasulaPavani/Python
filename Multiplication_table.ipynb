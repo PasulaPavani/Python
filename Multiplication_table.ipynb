{
  "nbformat": 4,
  "nbformat_minor": 0,
  "metadata": {
    "colab": {
      "provenance": [],
      "authorship_tag": "ABX9TyMMjvbYr4h0PnHd3sCiFr4h",
      "include_colab_link": true
    },
    "kernelspec": {
      "name": "python3",
      "display_name": "Python 3"
    },
    "language_info": {
      "name": "python"
    }
  },
  "cells": [
    {
      "cell_type": "markdown",
      "metadata": {
        "id": "view-in-github",
        "colab_type": "text"
      },
      "source": [
        "<a href=\"https://colab.research.google.com/github/PasulaPavani/Python/blob/main/Multiplication_table.ipynb\" target=\"_parent\"><img src=\"https://colab.research.google.com/assets/colab-badge.svg\" alt=\"Open In Colab\"/></a>"
      ]
    },
    {
      "cell_type": "code",
      "execution_count": 1,
      "metadata": {
        "colab": {
          "base_uri": "https://localhost:8080/"
        },
        "id": "W_tX6glM4Fic",
        "outputId": "0e94d174-21da-4294-a258-3323d5bb7d9c"
      },
      "outputs": [
        {
          "output_type": "stream",
          "name": "stdout",
          "text": [
            "Please enter the number you want to see the table of: 7\n",
            "Please enter the number you would like to multiply the prior number upto: 30\n",
            "7x1=7\n",
            "7x2=14\n",
            "7x3=21\n",
            "7x4=28\n",
            "7x5=35\n",
            "7x6=42\n",
            "7x7=49\n",
            "7x8=56\n",
            "7x9=63\n",
            "7x10=70\n",
            "7x11=77\n",
            "7x12=84\n",
            "7x13=91\n",
            "7x14=98\n",
            "7x15=105\n",
            "7x16=112\n",
            "7x17=119\n",
            "7x18=126\n",
            "7x19=133\n",
            "7x20=140\n",
            "7x21=147\n",
            "7x22=154\n",
            "7x23=161\n",
            "7x24=168\n",
            "7x25=175\n",
            "7x26=182\n",
            "7x27=189\n",
            "7x28=196\n",
            "7x29=203\n",
            "7x30=210\n"
          ]
        }
      ],
      "source": [
        "# Create a simple multiplication table:\n",
        "num=int(input(\"Please enter the number you want to see the table of: \"))\n",
        "n1=int(input(\"Please enter the number you would like to multiply the prior number upto: \"))\n",
        "for x in range(1,(n1+1)):\n",
        "      print(str(num)+\"x\"+str(x)+\"=\"+str(num*x)) "
      ]
    },
    {
      "cell_type": "code",
      "source": [],
      "metadata": {
        "id": "SM95nXbi4yTs"
      },
      "execution_count": null,
      "outputs": []
    }
  ]
}