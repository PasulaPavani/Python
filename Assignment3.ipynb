{
  "nbformat": 4,
  "nbformat_minor": 0,
  "metadata": {
    "colab": {
      "provenance": [],
      "authorship_tag": "ABX9TyNRneoRsvztmlv3vU0a644D"
    },
    "kernelspec": {
      "name": "python3",
      "display_name": "Python 3"
    },
    "language_info": {
      "name": "python"
    }
  },
  "cells": [
    {
      "cell_type": "code",
      "execution_count": 2,
      "metadata": {
        "colab": {
          "base_uri": "https://localhost:8080/"
        },
        "id": "8_3rgDLbhcGV",
        "outputId": "dfe31a3b-08c9-49b8-a424-3989d91eb1e9"
      },
      "outputs": [
        {
          "output_type": "stream",
          "name": "stdout",
          "text": [
            "0\n",
            "1\n",
            "2\n",
            "4\n",
            "5\n"
          ]
        }
      ],
      "source": [
        "#1) Write a Python program that prints all the numbers from 0 to 6 except 3 and 6\n",
        "for i in range(0,6):\n",
        "  if not( i > 0 and i%3==0):\n",
        "    print(i)\n"
      ]
    },
    {
      "cell_type": "code",
      "source": [
        "#2) Write a program to accept a number from a user and calculate the sum of all numbers from 1 to a given number\n",
        "x=int(input(\"Enter any number\"))\n",
        "y=0\n",
        "for x in range(0,x+1):\n",
        "  y+=x\n",
        "print(y)  "
      ],
      "metadata": {
        "colab": {
          "base_uri": "https://localhost:8080/"
        },
        "id": "0EuhoM0zhxRQ",
        "outputId": "79e245df-4335-4c11-b22e-e3e055aac824"
      },
      "execution_count": 6,
      "outputs": [
        {
          "output_type": "stream",
          "name": "stdout",
          "text": [
            "Enter any number5\n",
            "15\n"
          ]
        }
      ]
    },
    {
      "cell_type": "code",
      "source": [
        "#4) Write a program to count the total number of digits in a number using a while loop.\n",
        "#For example, the number is 75869, so the output should be 5.\n",
        "c=input(\"enter any number \")\n",
        "d=0\n",
        "while d<len(c):\n",
        "  d+=1\n",
        "print(\"Total number of digits :\",len(c))\n",
        "    \n"
      ],
      "metadata": {
        "colab": {
          "base_uri": "https://localhost:8080/"
        },
        "id": "yZZrtpKqiUBH",
        "outputId": "89e0a3b6-d36f-4c32-efd4-bcb8a2059a33"
      },
      "execution_count": 14,
      "outputs": [
        {
          "output_type": "stream",
          "name": "stdout",
          "text": [
            "enter any number 1234567\n",
            "Total number of digits : 7\n"
          ]
        }
      ]
    },
    {
      "cell_type": "code",
      "source": [
        "\n",
        "#5) Write a Python program to guess a number between 1 to\n",
        "#Example:\n",
        "#User is prompted to enter a guess. If the user guesses wrong then the prompt appears again until the guess\n",
        "#is correct, on successful guess, user will get a \"Well guessed!\" message, and the program will exit.\n",
        "g=int(input(\"guess a number from 1 to 20: \"))\n",
        "while g >0:\n",
        "   if g == 7:\n",
        "        print(\"Well guessed!\")\n",
        "        continue\n",
        "   else:\n",
        "        print(int(input(\"Guess a number\")))\n"
      ],
      "metadata": {
        "colab": {
          "base_uri": "https://localhost:8080/",
          "height": 467
        },
        "id": "f75FUGTujJZ0",
        "outputId": "85d962aa-48ed-4a64-a8d6-7d11deb0f263"
      },
      "execution_count": 31,
      "outputs": [
        {
          "output_type": "stream",
          "name": "stdout",
          "text": [
            "guess a number from 1 to 20: 6\n",
            "Guess a number4\n",
            "4\n",
            "Guess a number6\n",
            "6\n",
            "Guess a number7\n",
            "7\n"
          ]
        },
        {
          "output_type": "error",
          "ename": "KeyboardInterrupt",
          "evalue": "ignored",
          "traceback": [
            "\u001b[0;31m---------------------------------------------------------------------------\u001b[0m",
            "\u001b[0;31mKeyboardInterrupt\u001b[0m                         Traceback (most recent call last)",
            "\u001b[0;32m<ipython-input-31-a78ff836d024>\u001b[0m in \u001b[0;36m<cell line: 6>\u001b[0;34m()\u001b[0m\n\u001b[1;32m      9\u001b[0m         \u001b[0;32mpass\u001b[0m\u001b[0;34m\u001b[0m\u001b[0;34m\u001b[0m\u001b[0m\n\u001b[1;32m     10\u001b[0m    \u001b[0;32melse\u001b[0m\u001b[0;34m:\u001b[0m\u001b[0;34m\u001b[0m\u001b[0;34m\u001b[0m\u001b[0m\n\u001b[0;32m---> 11\u001b[0;31m         \u001b[0mprint\u001b[0m\u001b[0;34m(\u001b[0m\u001b[0mint\u001b[0m\u001b[0;34m(\u001b[0m\u001b[0minput\u001b[0m\u001b[0;34m(\u001b[0m\u001b[0;34m\"Guess a number\"\u001b[0m\u001b[0;34m)\u001b[0m\u001b[0;34m)\u001b[0m\u001b[0;34m)\u001b[0m\u001b[0;34m\u001b[0m\u001b[0;34m\u001b[0m\u001b[0m\n\u001b[0m",
            "\u001b[0;32m/usr/local/lib/python3.10/dist-packages/ipykernel/kernelbase.py\u001b[0m in \u001b[0;36mraw_input\u001b[0;34m(self, prompt)\u001b[0m\n\u001b[1;32m    849\u001b[0m                 \u001b[0;34m\"raw_input was called, but this frontend does not support input requests.\"\u001b[0m\u001b[0;34m\u001b[0m\u001b[0;34m\u001b[0m\u001b[0m\n\u001b[1;32m    850\u001b[0m             )\n\u001b[0;32m--> 851\u001b[0;31m         return self._input_request(str(prompt),\n\u001b[0m\u001b[1;32m    852\u001b[0m             \u001b[0mself\u001b[0m\u001b[0;34m.\u001b[0m\u001b[0m_parent_ident\u001b[0m\u001b[0;34m,\u001b[0m\u001b[0;34m\u001b[0m\u001b[0;34m\u001b[0m\u001b[0m\n\u001b[1;32m    853\u001b[0m             \u001b[0mself\u001b[0m\u001b[0;34m.\u001b[0m\u001b[0m_parent_header\u001b[0m\u001b[0;34m,\u001b[0m\u001b[0;34m\u001b[0m\u001b[0;34m\u001b[0m\u001b[0m\n",
            "\u001b[0;32m/usr/local/lib/python3.10/dist-packages/ipykernel/kernelbase.py\u001b[0m in \u001b[0;36m_input_request\u001b[0;34m(self, prompt, ident, parent, password)\u001b[0m\n\u001b[1;32m    893\u001b[0m             \u001b[0;32mexcept\u001b[0m \u001b[0mKeyboardInterrupt\u001b[0m\u001b[0;34m:\u001b[0m\u001b[0;34m\u001b[0m\u001b[0;34m\u001b[0m\u001b[0m\n\u001b[1;32m    894\u001b[0m                 \u001b[0;31m# re-raise KeyboardInterrupt, to truncate traceback\u001b[0m\u001b[0;34m\u001b[0m\u001b[0;34m\u001b[0m\u001b[0m\n\u001b[0;32m--> 895\u001b[0;31m                 \u001b[0;32mraise\u001b[0m \u001b[0mKeyboardInterrupt\u001b[0m\u001b[0;34m(\u001b[0m\u001b[0;34m\"Interrupted by user\"\u001b[0m\u001b[0;34m)\u001b[0m \u001b[0;32mfrom\u001b[0m \u001b[0;32mNone\u001b[0m\u001b[0;34m\u001b[0m\u001b[0;34m\u001b[0m\u001b[0m\n\u001b[0m\u001b[1;32m    896\u001b[0m             \u001b[0;32mexcept\u001b[0m \u001b[0mException\u001b[0m \u001b[0;32mas\u001b[0m \u001b[0me\u001b[0m\u001b[0;34m:\u001b[0m\u001b[0;34m\u001b[0m\u001b[0;34m\u001b[0m\u001b[0m\n\u001b[1;32m    897\u001b[0m                 \u001b[0mself\u001b[0m\u001b[0;34m.\u001b[0m\u001b[0mlog\u001b[0m\u001b[0;34m.\u001b[0m\u001b[0mwarning\u001b[0m\u001b[0;34m(\u001b[0m\u001b[0;34m\"Invalid Message:\"\u001b[0m\u001b[0;34m,\u001b[0m \u001b[0mexc_info\u001b[0m\u001b[0;34m=\u001b[0m\u001b[0;32mTrue\u001b[0m\u001b[0;34m)\u001b[0m\u001b[0;34m\u001b[0m\u001b[0;34m\u001b[0m\u001b[0m\n",
            "\u001b[0;31mKeyboardInterrupt\u001b[0m: Interrupted by user"
          ]
        }
      ]
    },
    {
      "cell_type": "code",
      "source": [
        "#6) Write a Python program which iterates the integers from 1 to 60.\n",
        "#For multiples of three print \"Fizz\" instead of the number and for the multiples of five print \"Buzz\".\n",
        "#For numbers which are multiples of both three and five print \"FizzBuzz\".\n",
        "\n",
        "for x in range(1,61):\n",
        "    if x%3==0 and x%5==0:\n",
        "        print(\"FizzBuzz\")\n",
        "    elif x%3==0:\n",
        "        print(\"Fizz\")\n",
        "    elif x%5==0:\n",
        "        print(\"Buzz\")\n",
        "    else:\n",
        "        print(x)\n"
      ],
      "metadata": {
        "colab": {
          "base_uri": "https://localhost:8080/"
        },
        "id": "uDcnSApdlKb9",
        "outputId": "f0c84de9-97cb-4acc-9ca7-9a96bbbcfe6e"
      },
      "execution_count": 32,
      "outputs": [
        {
          "output_type": "stream",
          "name": "stdout",
          "text": [
            "1\n",
            "2\n",
            "Fizz\n",
            "4\n",
            "Buzz\n",
            "Fizz\n",
            "7\n",
            "8\n",
            "Fizz\n",
            "Buzz\n",
            "11\n",
            "Fizz\n",
            "13\n",
            "14\n",
            "FizzBuzz\n",
            "16\n",
            "17\n",
            "Fizz\n",
            "19\n",
            "Buzz\n",
            "Fizz\n",
            "22\n",
            "23\n",
            "Fizz\n",
            "Buzz\n",
            "26\n",
            "Fizz\n",
            "28\n",
            "29\n",
            "FizzBuzz\n",
            "31\n",
            "32\n",
            "Fizz\n",
            "34\n",
            "Buzz\n",
            "Fizz\n",
            "37\n",
            "38\n",
            "Fizz\n",
            "Buzz\n",
            "41\n",
            "Fizz\n",
            "43\n",
            "44\n",
            "FizzBuzz\n",
            "46\n",
            "47\n",
            "Fizz\n",
            "49\n",
            "Buzz\n",
            "Fizz\n",
            "52\n",
            "53\n",
            "Fizz\n",
            "Buzz\n",
            "56\n",
            "Fizz\n",
            "58\n",
            "59\n",
            "FizzBuzz\n"
          ]
        }
      ]
    },
    {
      "cell_type": "code",
      "source": [
        "#7) Write a Python program that accepts a string and calculate the number of digits and letters\n",
        "#Example: Input\n",
        "#Python 3.2\n",
        "#Output\n",
        "#Letters 6 Digits 2\n",
        "s=input(\"Enter a combination of alphabets and numbers\")\n",
        "d=0\n",
        "g=0\n",
        "for i in range (0,len(s)):\n",
        "     if s[i].isalpha():\n",
        "           d+=1\n",
        "     elif s[i].isdigit():\n",
        "           g+=1  \n",
        "print(\"Number of alphabets:\",d)\n",
        "print(\"Number of digits:\",g)    \n",
        "    \n"
      ],
      "metadata": {
        "colab": {
          "base_uri": "https://localhost:8080/"
        },
        "id": "wtQJkh-Pn1ht",
        "outputId": "0d6e4878-4200-42f2-fed6-67aaa0772d64"
      },
      "execution_count": 40,
      "outputs": [
        {
          "output_type": "stream",
          "name": "stdout",
          "text": [
            "Enter a combination of alphabets and numbers1qaz2wsx3edc4567\n",
            "Number of alphabets: 9\n",
            "Number of digits: 7\n"
          ]
        }
      ]
    },
    {
      "cell_type": "code",
      "source": [
        "#8) Write a Python program to check the validity of password input by users.\n",
        "#Validation:\n",
        "#At least 1 letter between [a-z] and 1 letter between [A-Z].\n",
        "#At least 1 number between [0-9]. At least 1 character from [$#@].\n",
        "#Minimum length 6 characters. Maximum length 16 characters.\n",
        "\n",
        "pwd=input(\"Enter your password\")\n",
        "a=n=s=0\n",
        "for x in range (0,len(pwd)):\n",
        "  if pwd[x].isalpha():\n",
        "    if pwd[x].isupper():\n",
        "        a+=1\n",
        "  if pwd[x].isdigit():\n",
        "    n+=1\n",
        "  if len(pwd)>6 and len(pwd)<16:\n",
        "    s+=1\n",
        "if a>=1 and n>=1 and s>=1:\n",
        "    print(\"valid password\")\n",
        "else:\n",
        "  print(\"invalid password .Try again\")\n",
        "  print(\"At least 1 letter between [a-z] and 1 letter between [A-Z]\\n At least 1 number between [0-9]. At least 1 character from [$#@].\\nMinimum length 6 characters. Maximum length 16 characters\")    \n",
        "\n",
        "\n"
      ],
      "metadata": {
        "colab": {
          "base_uri": "https://localhost:8080/"
        },
        "id": "LDLpfPOFo6Vb",
        "outputId": "1407f108-7241-4963-cf9f-314ade9efd6e"
      },
      "execution_count": 44,
      "outputs": [
        {
          "output_type": "stream",
          "name": "stdout",
          "text": [
            "Enter your passwordwerty2tyy\n",
            "invalid password .Try again\n",
            "At least 1 letter between [a-z] and 1 letter between [A-Z]\n",
            " At least 1 number between [0-9]. At least 1 character from [$#@].\n",
            "Minimum length 6 characters. Maximum length 16 characters\n"
          ]
        }
      ]
    },
    {
      "cell_type": "code",
      "source": [
        "#9) Write a program in Python to reverse a word by using while loop.\n",
        "word=input(\"Enter a word \")\n",
        "y=\"\"\n",
        "x=len(word)-1\n",
        "while len(y) <len(word):\n",
        "    y+=word[x]\n",
        "    x-=1\n",
        "print(y)    "
      ],
      "metadata": {
        "colab": {
          "base_uri": "https://localhost:8080/"
        },
        "id": "OnPhhgAovBRa",
        "outputId": "eb407e17-9e11-4eed-9976-2bfd7c8246e1"
      },
      "execution_count": 62,
      "outputs": [
        {
          "output_type": "stream",
          "name": "stdout",
          "text": [
            "Enter a word qwerty\n",
            "ytrewq\n"
          ]
        }
      ]
    },
    {
      "cell_type": "code",
      "source": [
        "#10) Write a program which takes 10 integers as input using loop and print their average value on the screen\n",
        "y=0\n",
        "for x in range (0,10):\n",
        "  k=int(input(\"enter any number :\"))\n",
        "  y+=k\n",
        "avg=y//10  \n",
        "print(\"Average of given numbers is :\",avg)"
      ],
      "metadata": {
        "colab": {
          "base_uri": "https://localhost:8080/"
        },
        "id": "coz9FB7NwKqd",
        "outputId": "fd4062ca-b1ba-4769-cad9-ace1b580b545"
      },
      "execution_count": 64,
      "outputs": [
        {
          "output_type": "stream",
          "name": "stdout",
          "text": [
            "enter any number :2\n",
            "enter any number :2\n",
            "enter any number :2\n",
            "enter any number :2\n",
            "enter any number :2\n",
            "enter any number :2\n",
            "enter any number :2\n",
            "enter any number :2\n",
            "enter any number :2\n",
            "enter any number :2\n",
            "Average of given numbers is : 2\n"
          ]
        }
      ]
    },
    {
      "cell_type": "code",
      "source": [
        "#11) Write a program which takes integer inputs from user until he/she presses “q” \n",
        "#(Ask to press q to quit after every integer input). Print average and product of all numbers.\n",
        "s=0\n",
        "x=\"\"\n",
        "p=1\n",
        "while not(x==\"q\" or x==\"Q\"):\n",
        "    y=int(input(\"Enter a number \")) \n",
        "    s+=y\n",
        "    p*=y\n",
        "    x=input(\"Press q to quit \")\n",
        "print(\"Sum is \"+str(s)+\"\\nProduct is \"+str(p))"
      ],
      "metadata": {
        "colab": {
          "base_uri": "https://localhost:8080/",
          "height": 321
        },
        "id": "0B9WliHpzNtI",
        "outputId": "6075a31f-e433-48d5-9dd4-775c7b1682d4"
      },
      "execution_count": 65,
      "outputs": [
        {
          "name": "stdout",
          "output_type": "stream",
          "text": [
            "Enter a number 1\n",
            "Press q to quit 3\n",
            "Enter a number 5\n",
            "Press q to quit r\n",
            "Enter a number q\n"
          ]
        },
        {
          "output_type": "error",
          "ename": "ValueError",
          "evalue": "ignored",
          "traceback": [
            "\u001b[0;31m---------------------------------------------------------------------------\u001b[0m",
            "\u001b[0;31mValueError\u001b[0m                                Traceback (most recent call last)",
            "\u001b[0;32m<ipython-input-65-2b4d1af19be6>\u001b[0m in \u001b[0;36m<cell line: 6>\u001b[0;34m()\u001b[0m\n\u001b[1;32m      5\u001b[0m \u001b[0mp\u001b[0m\u001b[0;34m=\u001b[0m\u001b[0;36m1\u001b[0m\u001b[0;34m\u001b[0m\u001b[0;34m\u001b[0m\u001b[0m\n\u001b[1;32m      6\u001b[0m \u001b[0;32mwhile\u001b[0m \u001b[0;32mnot\u001b[0m\u001b[0;34m(\u001b[0m\u001b[0mx\u001b[0m\u001b[0;34m==\u001b[0m\u001b[0;34m\"q\"\u001b[0m \u001b[0;32mor\u001b[0m \u001b[0mx\u001b[0m\u001b[0;34m==\u001b[0m\u001b[0;34m\"Q\"\u001b[0m\u001b[0;34m)\u001b[0m\u001b[0;34m:\u001b[0m\u001b[0;34m\u001b[0m\u001b[0;34m\u001b[0m\u001b[0m\n\u001b[0;32m----> 7\u001b[0;31m     \u001b[0my\u001b[0m\u001b[0;34m=\u001b[0m\u001b[0mint\u001b[0m\u001b[0;34m(\u001b[0m\u001b[0minput\u001b[0m\u001b[0;34m(\u001b[0m\u001b[0;34m\"Enter a number \"\u001b[0m\u001b[0;34m)\u001b[0m\u001b[0;34m)\u001b[0m\u001b[0;34m\u001b[0m\u001b[0;34m\u001b[0m\u001b[0m\n\u001b[0m\u001b[1;32m      8\u001b[0m     \u001b[0ms\u001b[0m\u001b[0;34m+=\u001b[0m\u001b[0my\u001b[0m\u001b[0;34m\u001b[0m\u001b[0;34m\u001b[0m\u001b[0m\n\u001b[1;32m      9\u001b[0m     \u001b[0mp\u001b[0m\u001b[0;34m*=\u001b[0m\u001b[0my\u001b[0m\u001b[0;34m\u001b[0m\u001b[0;34m\u001b[0m\u001b[0m\n",
            "\u001b[0;31mValueError\u001b[0m: invalid literal for int() with base 10: 'q'"
          ]
        }
      ]
    },
    {
      "cell_type": "code",
      "source": [
        "#12) Write a Python program which will remove all digits or any other characters from the string except alphabets\n",
        "#Example: Input:\n",
        "#“asd12.asd22”\n",
        "#Output: 'asdasd'\n",
        "st=input(\"Enter any value comb. of number and chars :\")\n",
        "t=\"\"\n",
        "for x in range(0,len(st)):\n",
        "  if st[x].isalpha():\n",
        "    t+=st[x]\n",
        "  else:\n",
        "    continue\n",
        "print(t)      "
      ],
      "metadata": {
        "colab": {
          "base_uri": "https://localhost:8080/"
        },
        "id": "TmlBDVgc0CrA",
        "outputId": "6ee1c65d-ff2b-44f6-c95e-f093466f62f8"
      },
      "execution_count": 68,
      "outputs": [
        {
          "output_type": "stream",
          "name": "stdout",
          "text": [
            "Enter any value comb. of number and chars :we213lldo56ne\n",
            "welldone\n"
          ]
        }
      ]
    },
    {
      "cell_type": "code",
      "source": [
        "#13)  Write a python program to find the sum of all even numbers from 0 to 10.\n",
        "g=0\n",
        "for i in range (0,11):\n",
        "  if i % 2 ==0:\n",
        "     g+=i\n",
        "  else:\n",
        "    continue   \n",
        "print(\"Sum is:\",g)  "
      ],
      "metadata": {
        "colab": {
          "base_uri": "https://localhost:8080/"
        },
        "id": "s0aLd11n0xdP",
        "outputId": "5ef07cbe-d9e1-4006-f3e0-f4200be5aa5c"
      },
      "execution_count": 73,
      "outputs": [
        {
          "output_type": "stream",
          "name": "stdout",
          "text": [
            "Sum is: 30\n"
          ]
        }
      ]
    },
    {
      "cell_type": "code",
      "source": [
        "#14) Write a python program which will accept a digit and print All the numbers before it till 0\n",
        "#Example: Input: 5\n",
        "#Output:\n",
        "#4 \n",
        "#3 \n",
        "#2 \n",
        "#1 \n",
        "#0\n",
        "\n",
        "x=int(input(\"Enter a number \"))\n",
        "for y in range(x,-1,-1):\n",
        "    print(y)\n",
        "    "
      ],
      "metadata": {
        "colab": {
          "base_uri": "https://localhost:8080/"
        },
        "id": "ik4pcrrq1yte",
        "outputId": "ea8b1a98-7260-46ba-c70d-a750184c9c97"
      },
      "execution_count": 74,
      "outputs": [
        {
          "output_type": "stream",
          "name": "stdout",
          "text": [
            "Enter a number 7\n",
            "7\n",
            "6\n",
            "5\n",
            "4\n",
            "3\n",
            "2\n",
            "1\n",
            "0\n"
          ]
        }
      ]
    },
    {
      "cell_type": "code",
      "source": [],
      "metadata": {
        "id": "7Wkgw8xa2j_O"
      },
      "execution_count": null,
      "outputs": []
    }
  ]
}