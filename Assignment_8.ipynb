{
 "cells": [
  {
   "cell_type": "code",
   "execution_count": 3,
   "id": "2f018c6a",
   "metadata": {},
   "outputs": [
    {
     "name": "stdout",
     "output_type": "stream",
     "text": [
      "Enter len og the list 5\n",
      "enter a number to add in list2\n",
      "enter a number to add in list3\n",
      "enter a number to add in list4\n",
      "enter a number to add in list5\n",
      "enter a number to add in list5\n",
      "[2, 3, 4, 5, 5]\n",
      "[2, 3, 4, 5]\n"
     ]
    }
   ],
   "source": [
    "#1. Given a list of numbers, write a python program that returns a new list which Has all duplicate elements removed. \n",
    "#And is sorted in an increasing order.\n",
    "#Ex: Input: [2,1,3,4,2,3,3,2,7,9,8,7]\n",
    "#Output: [1,2,3,4,7,8,9]\n",
    "l=[];\n",
    "f=int(input(\"Enter len og the list \"))\n",
    "for i in range (0,f):\n",
    "    l.append(int(input(\"enter a number to add in list\")))\n",
    "print(l)\n",
    "for y in l :    \n",
    "    if l.count(y)>1:\n",
    "        \n",
    "        l.remove(y)\n",
    "    else:\n",
    "        continue\n",
    "l.sort()\n",
    "print(l)\n"
   ]
  },
  {
   "cell_type": "code",
   "execution_count": 10,
   "id": "37fa7855",
   "metadata": {},
   "outputs": [
    {
     "name": "stdout",
     "output_type": "stream",
     "text": [
      "enter size of dictionary 3\n",
      "Enter key value :1\n",
      "Enter the value :value1\n",
      "Enter key value :2\n",
      "Enter the value :value2\n",
      "Enter key value :3\n",
      "Enter the value :value3\n",
      "\n",
      "Key : 1    value= value1\n",
      "Key : 2    value= value2\n",
      "Key : 3    value= value3\n"
     ]
    }
   ],
   "source": [
    "#2. Write a Python program where you will iterate over both keys and values in dictionaries.\n",
    "d=int(input(\"enter size of dictionary \"))\n",
    "dic={}\n",
    "for x in range(0,d):\n",
    "    k=input(\"Enter key value :\")\n",
    "    v=input(\"Enter the value :\")\n",
    "    dic.update({k:v})\n",
    "print()\n",
    "\n",
    "for p,q in dic.items():\n",
    "    print(\"Key :\",p,\"   value=\",q)"
   ]
  },
  {
   "cell_type": "code",
   "execution_count": 15,
   "id": "5113299f",
   "metadata": {},
   "outputs": [
    {
     "name": "stdout",
     "output_type": "stream",
     "text": [
      "enter number of students 3\n",
      "enter student nameManoj\n",
      "enter student nameGeon\n",
      "enter student nameTharun\n",
      "{'Student1': 'Manoj', 'Student2': 'Geon', 'Student3': 'Tharun'}\n",
      "['Geon', 'Manoj', 'Tharun']\n"
     ]
    }
   ],
   "source": [
    "#3. Write a Python program that takes a dictionary of student names and returns a list of student names in alphabetical order\n",
    "#Ex: Input: {“Student 1”: \"Tarun\", \"Student 2”: \"Manoj\", \"Student 3”: \"Gephi”}\n",
    "#Output:[“Gephi”,”Manoj”,” Tarun”]\n",
    "s=int(input(\"enter number of students \"))\n",
    "d={}\n",
    "l=[]\n",
    "for x in range(0,s):\n",
    "    k=\"Student\"+str(x+1)\n",
    "    v=input(\"enter student name\")\n",
    "    d.update({k:v})\n",
    "print(d)\n",
    "\n",
    "for p in d.values():\n",
    "    l.append(p)\n",
    "    \n",
    "l.sort()\n",
    "print(l)\n"
   ]
  },
  {
   "cell_type": "code",
   "execution_count": 20,
   "id": "c372a2cd",
   "metadata": {},
   "outputs": [
    {
     "name": "stdout",
     "output_type": "stream",
     "text": [
      "Enter the  Number of type boolean 101\n",
      "['True', 'False', 'True']\n"
     ]
    }
   ],
   "source": [
    "#4.Write a Python which returns a new list of Booleans, from a given number. Iterating through the number one digit at a time, append True if the digit is 1 and False if it is 0.\n",
    "#Ex: Input: “01001”\n",
    "#Output: [“False”, “True”, “False”,” False”,” True”]\n",
    "l=[]\n",
    "t=input(\"Enter the  Number of type boolean \")\n",
    "for x in t:\n",
    "    if x ==\"1\":\n",
    "        l.append(\"True\")\n",
    "    else:\n",
    "        l.append(\"False\")\n",
    "print(l)    "
   ]
  },
  {
   "cell_type": "code",
   "execution_count": 22,
   "id": "61ab2cc3",
   "metadata": {},
   "outputs": [
    {
     "name": "stdout",
     "output_type": "stream",
     "text": [
      "Enter a string mmmy name is innomatics\n",
      "{'m': 5, 'y': 1, 'n': 3, 'a': 2, 'e': 1, 'i': 3, 's': 2, 'o': 1, 't': 1, 'c': 1}\n"
     ]
    }
   ],
   "source": [
    "#5. Write a Python program where you will return a dictionary where the keys will be the character and \n",
    "#the values will be the occurrence of the character in the string, and it should for any string inputs (dynamic).\n",
    "#Ex: Input: “my name is ame”\n",
    "#Output: {“m”:3,” y”:1,” n”:1,” a”:2,” e”:2,” i”:1,” s”:1}\n",
    "\n",
    "dic={}\n",
    "y=input(\"Enter a string \")\n",
    "for x in y:\n",
    "    if not(x==\" \"):\n",
    "        dic.update({x:y.count(x)})\n",
    "    else:\n",
    "        continue\n",
    "print(dic)        \n"
   ]
  },
  {
   "cell_type": "code",
   "execution_count": 24,
   "id": "7e443b34",
   "metadata": {},
   "outputs": [
    {
     "name": "stdout",
     "output_type": "stream",
     "text": [
      "Enter size of dictionary 3\n",
      "Enter name of the person Ackes\n",
      "Enter the age 22\n",
      "Enter name of the person Bakes\n",
      "Enter the age 67\n",
      "Enter name of the person cakes\n",
      "Enter the age 54\n",
      "{'Ackes': 22, 'Bakes': 67, 'cakes': 54}\n",
      "Bakes\n"
     ]
    }
   ],
   "source": [
    "#6.Given a dictionary containing the names and ages of a group of people, return the name of the oldest person.\n",
    "#Ex: Input:{\"Tmma\": 41, \"Ackes\": 45, \"myna\": 15, \"Benthon\": 29}\n",
    "#Output:\"Ackes\"\n",
    "d={}\n",
    "e=0\n",
    "f=\"\"\n",
    "f=int(input(\"Enter size of dictionary \"))\n",
    "for x in range(0,f):\n",
    "    k=input(\"Enter name of the person \")\n",
    "    v=int(input(\"Enter the age \"))\n",
    "    d.update({k:v})\n",
    "print(d)\n",
    "for x,y in d.items():\n",
    "    if y>e:\n",
    "        e=y\n",
    "        f=x\n",
    "    \n",
    "print(f)"
   ]
  },
  {
   "cell_type": "code",
   "execution_count": null,
   "id": "8b126fee",
   "metadata": {},
   "outputs": [
    {
     "name": "stdout",
     "output_type": "stream",
     "text": [
      "Press s to start the game: s\n",
      "Player1\n",
      "Choose from rock,paper and scissor: rock\n",
      "Player2\n",
      "Choose from rock,paper and scissor: scissor\n",
      "Player 1 won!\n"
     ]
    }
   ],
   "source": [
    "#7.Write a Python program to create a Rock, Paper, Scissor game, use two inputs for two players:\n",
    "#Conditions: -Rock beats Scissors, Scissors beats Paper, Paper beats Rock\n",
    "y=input(\"Press s to start the game: \")\n",
    "while y==\"s\" or y==\"S\":\n",
    "    p1=input(\"Player1\\nChoose from rock,paper and scissor: \")\n",
    "    p2=input(\"Player2\\nChoose from rock,paper and scissor: \")\n",
    "    if (p1==\"rock\" and p2==\"paper\") or (p1==\"paper\" and p2==\"scissors\") or (p1==\"scissors\" and p2==\"rock\"):\n",
    "        print(\"Player 2 won!\")\n",
    "    elif p1==p2:\n",
    "        print(\"It is tie\")\n",
    "    else:\n",
    "        print(\"Player 1 won!\")\n",
    "    y=input(\"Press s to continue the game \")"
   ]
  },
  {
   "cell_type": "code",
   "execution_count": 2,
   "id": "55f3f5e4",
   "metadata": {},
   "outputs": [
    {
     "name": "stdout",
     "output_type": "stream",
     "text": [
      "Enter the money you have in wallet: 10\n",
      "\n",
      "Your wallet balance:  10\n",
      "[]\n"
     ]
    }
   ],
   "source": [
    "#8. Create a program that returns a list of items that you can afford in the store with the money you have in your wallet. \n",
    "#Create a dictionary with items as key and price as values.\n",
    "#Ex: Input: {\"water bottles\":20,\"Chips\":10,\"Iphone\":49000,\"towel\":90,\"pens\":58,\"cake\":400}\n",
    "#Your wallet balance:- 50\n",
    "#Output: [“water bottles”, “chips”]\n",
    "\n",
    "store={\"water bottles\":20,\"Chips\":10,\"Iphone\":49000,\"towel\":90,\"pens\":58,\"cake\":400}\n",
    "wallet=int(input(\"Enter the money you have in wallet: \"))\n",
    "s=0;l=[]\n",
    "for x,y in store.items():\n",
    "    s+=y\n",
    "    if s<wallet:\n",
    "        l.append(x)\n",
    "print(\"\\nYour wallet balance: \",wallet)\n",
    "print(l)\n"
   ]
  },
  {
   "cell_type": "code",
   "execution_count": 3,
   "id": "ee1b564c",
   "metadata": {},
   "outputs": [
    {
     "name": "stdout",
     "output_type": "stream",
     "text": [
      "Enter the length of set1 4\n",
      "Enter a value: 1\n",
      "Enter a value: 6\n",
      "Enter a value: 4\n",
      "Enter a value: 3\n",
      "Enter the length of set2 5\n",
      "Enter a value: 2\n",
      "Enter a value: 3\n",
      "Enter a value: 4\n",
      "Enter a value: 5\n",
      "Enter a value: 6\n",
      "{'1', '2', '3', '4', '5', '6'}\n"
     ]
    }
   ],
   "source": [
    "#9. Write a Python program to create a union of sets.\n",
    "\n",
    "set1=set();set2=set()\n",
    "a=int(input(\"Enter the length of set1 \"))\n",
    "for x in range(0,a):\n",
    "    p=input(\"Enter a value: \")\n",
    "    set1.add(p)\n",
    "b=int(input(\"Enter the length of set2 \"))\n",
    "for y in range(0,b):\n",
    "    q=input(\"Enter a value: \")\n",
    "    set2.add(q)\n",
    "print(set1.union(set2))"
   ]
  },
  {
   "cell_type": "code",
   "execution_count": 4,
   "id": "8abb9a21",
   "metadata": {},
   "outputs": [
    {
     "name": "stdout",
     "output_type": "stream",
     "text": [
      "Enter the length of the set: 5\n",
      "Enter a value: 3\n",
      "Enter a value: 4\n",
      "Enter a value: 5\n",
      "Enter a value: 2\n",
      "Enter a value: 1\n",
      "\n",
      "Enter the value you want to check: 4\n",
      "4 is presnt.\n"
     ]
    }
   ],
   "source": [
    "#10.Write a Python program to check if a given value is present in a set or not(Dynamic)\n",
    "\n",
    "set1=set()\n",
    "a=int(input(\"Enter the length of the set: \"))\n",
    "for x in range(0,a):\n",
    "    p=input(\"Enter a value: \")\n",
    "    set1.update(p)\n",
    "b=input(\"\\nEnter the value you want to check: \")\n",
    "if b in set1:\n",
    "    print(b,\"is presnt.\")\n",
    "else:\n",
    "    print(b,\"not found.\")"
   ]
  },
  {
   "cell_type": "code",
   "execution_count": 5,
   "id": "8b6e3186",
   "metadata": {},
   "outputs": [
    {
     "name": "stdout",
     "output_type": "stream",
     "text": [
      "Enter a string: cat dog dog cat horse dog dog mouse horse dog mouse tiger lion tiger cat mouse snail\n",
      "{'dog': 5, 'cat': 3, 'mouse': 3}\n"
     ]
    }
   ],
   "source": [
    "#11.Write a Python program to find the occurrences of 3 most common words in a given text.\n",
    "#And make it as a dictionaries\n",
    "#Ex: Input: ”cat dog dog cat horse dog dog mouse horse dog mouse tiger lion tiger cat mouse snail”\n",
    "#Output: (“dog”:5,”cat”:3,” mouse”;3)\n",
    "\n",
    "x=input(\"Enter a string: \")\n",
    "l=x.split()\n",
    "a=0;b=0;c=0;d={};a1=\"\";b1=\"\";c1=\"\"\n",
    "for x in l:\n",
    "    if l.count(x)>a:\n",
    "        a=l.count(x)\n",
    "        a1=x\n",
    "for x in range(1,a):\n",
    "    l.remove(a1)\n",
    "for y in l:\n",
    "    if l.count(y)>b:\n",
    "        b=l.count(y)\n",
    "        b1=y\n",
    "for y in range(1,b):\n",
    "    l.remove(b1)\n",
    "for z in l:\n",
    "    if l.count(z)>c:\n",
    "        c=l.count(z)\n",
    "        c1=z\n",
    "d.update({a1:a,b1:b,c1:c})\n",
    "print(d)"
   ]
  },
  {
   "cell_type": "code",
   "execution_count": 10,
   "id": "0984564c",
   "metadata": {},
   "outputs": [
    {
     "name": "stdout",
     "output_type": "stream",
     "text": [
      "Enter the length of the dictionary: 3\n",
      "Enter the subject: tel\n",
      "Enter the marks: 44\n",
      "Enter the subject: eng\n",
      "Enter the marks: 43\n",
      "Enter the subject: hin\n",
      "Enter the marks: 42\n",
      "Subject: \tMarks:\n",
      "\n",
      "tel \t\t 44\n",
      "eng \t\t 43\n",
      "hin \t\t 42\n"
     ]
    }
   ],
   "source": [
    "#12. Write a python program that accepts name of given subject and mark, and make subject as keys in dictionaries \n",
    "#and marks as values and print the final dictionary with subjects and marks.\n",
    "\n",
    "dic={}\n",
    "l=int(input(\"Enter the length of the dictionary: \"))\n",
    "for z in range(0,l):\n",
    "    k=input(\"Enter the subject: \")\n",
    "    v=int(input(\"Enter the marks: \"))\n",
    "    dic.update({k:v})\n",
    "print(\"Subject:\",\"\\tMarks:\\n\")\n",
    "for x,y in dic.items():\n",
    "    print(x,\"\\t\\t\",y)"
   ]
  },
  {
   "cell_type": "code",
   "execution_count": null,
   "id": "c859e0e1",
   "metadata": {},
   "outputs": [],
   "source": []
  }
 ],
 "metadata": {
  "kernelspec": {
   "display_name": "Python 3 (ipykernel)",
   "language": "python",
   "name": "python3"
  },
  "language_info": {
   "codemirror_mode": {
    "name": "ipython",
    "version": 3
   },
   "file_extension": ".py",
   "mimetype": "text/x-python",
   "name": "python",
   "nbconvert_exporter": "python",
   "pygments_lexer": "ipython3",
   "version": "3.10.9"
  }
 },
 "nbformat": 4,
 "nbformat_minor": 5
}
