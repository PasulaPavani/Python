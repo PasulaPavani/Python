{
 "cells": [
  {
   "cell_type": "code",
   "execution_count": 45,
   "id": "912a0ba0",
   "metadata": {},
   "outputs": [
    {
     "name": "stdout",
     "output_type": "stream",
     "text": [
      "True\n",
      "False\n"
     ]
    }
   ],
   "source": [
    "#1 Create a function that takes a boolean variable flag and returns it as a string.\n",
    "#Examples\n",
    "#bool_to_string(True) ➞ \"True\"\n",
    "\n",
    "\n",
    "#bool_to_string(False) ➞ \"False\"\n",
    "\n",
    "def bool_to_string(x):\n",
    "    if x==True:\n",
    "        return \"True\"\n",
    "    elif x==False:\n",
    "        return \"False\"\n",
    "print(bool_to_string(True))\n",
    "print(bool_to_string(False))\n"
   ]
  },
  {
   "cell_type": "code",
   "execution_count": 3,
   "id": "de42dd90",
   "metadata": {},
   "outputs": [
    {
     "name": "stdout",
     "output_type": "stream",
     "text": [
      "False\n",
      "True\n"
     ]
    }
   ],
   "source": [
    "#2 Create a function that returns True when num1 is equal to num2; otherwise return False.\n",
    "#Examples\n",
    "#is_same_num(4, 8) ➞ False\n",
    "\n",
    "\n",
    "#is_same_num(2, 2) ➞  True\n",
    "\n",
    "\n",
    "#is_same_num(2, \"2\") ➞ False\n",
    "\n",
    "def same_num(x,y):\n",
    "    if x==y:\n",
    "        return True\n",
    "    else:\n",
    "        return False\n",
    "\n",
    "print(same_num(4,3)) \n",
    "print(same_num(5,5))\n",
    "    "
   ]
  },
  {
   "cell_type": "code",
   "execution_count": 7,
   "id": "a3595a5e",
   "metadata": {},
   "outputs": [
    {
     "name": "stdout",
     "output_type": "stream",
     "text": [
      "False\n",
      "True\n",
      "True\n"
     ]
    }
   ],
   "source": [
    "#3 Create a function that takes a number as its only argument and returns True if it's less than or equal to zero, otherwise return False.\n",
    "#Examples\n",
    "#less_than_or_equal_to_zero(5) ➞ False\n",
    "\n",
    "\n",
    "#less_than_or_equal_to_zero(0) ➞ True\n",
    "\n",
    "\n",
    "#less_than_or_equal_to_zero(-2) ➞ True\n",
    "\n",
    "def less_than_or_equal_to_zero(x):\n",
    "    if x<=0:\n",
    "        return True\n",
    "    else:\n",
    "        return False\n",
    "print(less_than_or_equal_to_zero(4))   \n",
    "print(less_than_or_equal_to_zero(0))\n",
    "print(less_than_or_equal_to_zero(-3))\n"
   ]
  },
  {
   "cell_type": "code",
   "execution_count": 2,
   "id": "d0e7d6e1",
   "metadata": {},
   "outputs": [
    {
     "name": "stdout",
     "output_type": "stream",
     "text": [
      "Hello,  Matt !\n",
      "Hello,  Helen !\n",
      "Hello, my Love!\n"
     ]
    }
   ],
   "source": [
    "#4 Emmy has written a function that returns a greeting to users. However, she's in love with Mubashir, and would like to greet him slightly differently. She added a special case in her function, but she made a mistake.\n",
    "#Can you help her?\n",
    "#Examples\n",
    "#greeting(\"Matt\") ➞ \"Hello, Matt!\"\n",
    "#greeting(\"Helen\") ➞ \"Hello, Helen!\"\n",
    "#greeting(\"Mubashir\") ➞ \"Hello, my Love!\"\n",
    "\n",
    "def greeting(x):\n",
    "    if x==\"Matt\":\n",
    "        print(\"Hello, \",x,\"!\")\n",
    "    elif x==\"Helen\":\n",
    "        print(\"Hello, \",x,\"!\")\n",
    "    elif x==\"Mubashir\":\n",
    "        print(\"Hello, my Love!\")\n",
    "        \n",
    "greeting(\"Matt\")\n",
    "greeting(\"Helen\")\n",
    "greeting(\"Mubashir\")"
   ]
  },
  {
   "cell_type": "code",
   "execution_count": 7,
   "id": "8d4b37bb",
   "metadata": {},
   "outputs": [
    {
     "name": "stdout",
     "output_type": "stream",
     "text": [
      "False\n",
      "True\n",
      "True\n",
      "True\n"
     ]
    }
   ],
   "source": [
    "#5 Create a function that takes two arguments. Both arguments are integers, a and b. Return True if one of them is 10 or if their sum is 10.\n",
    "#Examples\n",
    "#makes10(9, 10) ➞ True\n",
    "\n",
    "\n",
    "#makes10(9, 9) ➞ False\n",
    "\n",
    "\n",
    "#makes10(1, 9) ➞ True\n",
    "\n",
    "def makes10(x,y):\n",
    "    if (x==10 or y==10) or (x+y==10):\n",
    "        return True\n",
    "    else:\n",
    "        return False\n",
    "    \n",
    "print(makes10(4,5))\n",
    "print(makes10(4,6))\n",
    "print(makes10(10,5))\n",
    "print(makes10(4,10))"
   ]
  },
  {
   "cell_type": "code",
   "execution_count": 8,
   "id": "4e5bb7a1",
   "metadata": {},
   "outputs": [
    {
     "name": "stdout",
     "output_type": "stream",
     "text": [
      "True\n",
      "False\n",
      "please enter the probability in between 0 and 1\n",
      "None\n"
     ]
    }
   ],
   "source": [
    "#6 Create a function that takes three arguments prob, prize, pay and returns True if prob * prize > pay; otherwise return False.\n",
    "#To illustrate:\n",
    "#profitable_gamble(0.2, 50, 9)\n",
    "#... should yield True, since the net profit is 1 (0.2 * 50 - 9), and 1 > 9.\n",
    "def profitable_gamble(x,y,z):\n",
    "    if 0<=x<=1:\n",
    "        if x*y>z:\n",
    "            return True\n",
    "        else:\n",
    "            return False\n",
    "    else:\n",
    "        print(\"please enter the probability in between 0 and 1\")\n",
    "        \n",
    "print(profitable_gamble(0.2,50,5))\n",
    "print(profitable_gamble(0,50,0))\n",
    "print(profitable_gamble(2,50,5))\n"
   ]
  },
  {
   "cell_type": "code",
   "execution_count": 5,
   "id": "b55c227f",
   "metadata": {},
   "outputs": [],
   "source": [
    "#7 Create a function that takes an integer and returns True if it's divisible by 100, otherwise return False.\n",
    "#Examples\n",
    "#divisible(1) ➞ False\n",
    "\n",
    "\n",
    "#divisible(1000) ➞ True\n",
    "\n",
    "\n",
    "#divisible(100) ➞ True\n",
    "\n"
   ]
  },
  {
   "cell_type": "code",
   "execution_count": 9,
   "id": "c188ef3f",
   "metadata": {},
   "outputs": [
    {
     "name": "stdout",
     "output_type": "stream",
     "text": [
      "True\n",
      "False\n"
     ]
    }
   ],
   "source": [
    "#8 Create a function that takes two strings as arguments and return either True or False depending on whether the total number of characters in the first string is equal to the total number of characters in the second string.\n",
    "#Examples\n",
    "#comp(\"AB\", \"CD\") ➞ True\n",
    "\n",
    "\n",
    "#comp(\"ABC\", \"DE\") ➞ False\n",
    "\n",
    "\n",
    "#comp(\"hello\", \"edabit\") ➞ False\n",
    "\n",
    "def comp(str1,str2):\n",
    "    if len(str1)==len(str2):\n",
    "        return True\n",
    "    else:\n",
    "        return False\n",
    "    \n",
    "print(comp(\"ert\",\"fgh\")) \n",
    "print(comp(\"qwert\",\"rtyu\"))"
   ]
  },
  {
   "cell_type": "code",
   "execution_count": 10,
   "id": "46d94678",
   "metadata": {},
   "outputs": [
    {
     "name": "stdout",
     "output_type": "stream",
     "text": [
      "True\n",
      "False\n"
     ]
    }
   ],
   "source": [
    "#9 Given a string, return True if its length is even or False if the length is odd.\n",
    "#Examples\n",
    "#odd_or_even(\"apples\") ➞ True\n",
    "# The word \"apples\" has 6 characters.\n",
    "# 6 is an even number, so the program outputs True.\n",
    "\n",
    "\n",
    "#odd_or_even(\"pears\") ➞ False\n",
    "# \"pears\" has 5 letters, and 5 is odd.\n",
    "# Therefore the program outputs False.\n",
    "\n",
    "\n",
    "#odd_or_even(\"cherry\") ➞ True\n",
    "\n",
    "def odd_or_even(str):\n",
    "    if len(str)%2==0:\n",
    "        return True\n",
    "    else:\n",
    "        return False\n",
    "print(odd_or_even(\"apples\"))\n",
    "print(odd_or_even(\"pears\"))"
   ]
  },
  {
   "cell_type": "code",
   "execution_count": 13,
   "id": "19ba6c75",
   "metadata": {},
   "outputs": [
    {
     "name": "stdout",
     "output_type": "stream",
     "text": [
      "fg\n",
      "qweqweqwe\n"
     ]
    }
   ],
   "source": [
    "#10 Create a function that takes a string; we'll say that the front is the first three characters of the string. If the string length is less than three characters, the front is whatever is there. Return a new string, which is three copies of the front.\n",
    "#Examples\n",
    "#front3(\"Python\") ➞ \"PytPytPyt\"\n",
    "\n",
    "\n",
    "#front3(\"Cucumber\") ➞ \"CucCucCuc\"\n",
    "\n",
    "\n",
    "#front3(\"bioshock\") ➞ \"biobiobio\"\n",
    "\n",
    "\n",
    "def front3(str):\n",
    "    if len(str)<3:\n",
    "        return str\n",
    "    else:\n",
    "        return str[0:3]*3\n",
    "        \n",
    "        \n",
    "print(front3(\"fg\"))\n",
    "print(front3(\"qwert\"))"
   ]
  },
  {
   "cell_type": "code",
   "execution_count": 14,
   "id": "7a0eddf0",
   "metadata": {},
   "outputs": [
    {
     "name": "stdout",
     "output_type": "stream",
     "text": [
      "5\n",
      "10\n",
      "0\n"
     ]
    }
   ],
   "source": [
    "#11 Darts is a target game played by throwing feathered darts at a circular board with numbered spaces. Our darts game is the simplest of all games. The score of a single turn is calculated based on the distance from the middle. You need to create a function that takes the dart location as two cartesian coordinates (x, y) and returns a score based on the distance from the middle, aka Bullseye (x=0, y=0).\n",
    "#* Bullseye and inner circle scores = 10 points\n",
    "#* Middle ring scores = 5 points\n",
    "#* Outer ring scores = 1 point\n",
    "#* Outside the target = 0 points\n",
    "#We play it simple so a dart in the double or treble ring counts as usual and does not affect the segment score.\n",
    "#Board and circle radius is as follows:\n",
    "#* Board radius and outer circle radius = 10 units\n",
    "#* Middle circle radius = 5 units\n",
    "#* Inner circle radius = 1 unit\n",
    "#Short Description\n",
    "#Convert cartesian coordinates (x, y) to polar coordinates (R, phi) and return the score based on the R value. R > 10 gives 0 points, 10 >= R > 5 gives 1 point, 5 >= R > 1 gives 5 points, R <= 1 gives 10 points.\n",
    "#Examples\n",
    "#darts_scoring(0, 0) ➞ 10\n",
    "\n",
    "\n",
    "#darts_scoring(3, 2) ➞ 5\n",
    "\n",
    "\n",
    "#darts_scoring(0, -0.8) ➞10\n",
    "\n",
    "\n",
    "def darts_scoring(x,y):\n",
    "    if x>10:\n",
    "        return 0\n",
    "    elif 5<x<=10:\n",
    "        return 1\n",
    "    elif 1<x<=5:\n",
    "        return 5\n",
    "    else:\n",
    "        return 10\n",
    "    \n",
    "print(darts_scoring(3,6))\n",
    "print(darts_scoring(0,3))\n",
    "print(darts_scoring(11,0.4))\n",
    "    \n",
    "    \n",
    "    "
   ]
  },
  {
   "cell_type": "code",
   "execution_count": 19,
   "id": "a2c8d91e",
   "metadata": {},
   "outputs": [
    {
     "name": "stdout",
     "output_type": "stream",
     "text": [
      "True\n",
      "False\n",
      "True\n",
      "False\n"
     ]
    }
   ],
   "source": [
    "#12 Write a function that returns True if a year is a leap, otherwise return False.\n",
    "#A year is a \"leap year\" if it lasts 366 days, instead of 365 in a typical year. That extra day is added to the end of the shortest month, creating February 29.\n",
    "#A leap year occurs every four years, and will take place if the year is a multiple of four. The exception to this is a year at the beginning of a century (for example, 1900 or 2000), where the year must be divisible by 400 to be a leap year.\n",
    "#Look at the examples, and if you need help, look at the resources panel.\n",
    "#Examples\n",
    "#leap_year(1990) ➞ False\n",
    "\n",
    "\n",
    "#leap_year(1924) ➞ True\n",
    "\n",
    "\n",
    "#leap_year(2021) ➞ False\n",
    "\n",
    "def leap_year(x):\n",
    "    if (x%4==0 and x%100!=0) or x%400==0:\n",
    "        return True\n",
    "    else:\n",
    "        return False\n",
    "    \n",
    "print(leap_year(2000))\n",
    "print(leap_year(1900))\n",
    "print(leap_year(2012))        \n",
    "print(leap_year(2100))"
   ]
  },
  {
   "cell_type": "code",
   "execution_count": 29,
   "id": "cc478dff",
   "metadata": {},
   "outputs": [
    {
     "name": "stdout",
     "output_type": "stream",
     "text": [
      "False\n",
      "False\n"
     ]
    }
   ],
   "source": [
    "#13 Create a function that takes an array of hurdle heights and a jumper's jump height, and determine whether or not the hurdler can clear all the hurdles.\n",
    "#A hurdler can clear a hurdle if their jump height is greater than or equal to the hurdle height.\n",
    "#Examples\n",
    "#hurdle_jump([1, 2, 3, 4, 5], 5) ➞ True\n",
    "\n",
    "\n",
    "#hurdle_jump([5, 5, 3, 4, 5], 3) ➞ False\n",
    "\n",
    "\n",
    "#hurdle_jump([5, 4, 5, 6], 10) ➞ True\n",
    "\n",
    "#\n",
    "#hurdle_jump([1, 2, 1], 1) ➞ False\n",
    "\n",
    "def hurdle_jump(x,y):\n",
    "   for y in [x]:\n",
    "        if y<x:\n",
    "            return True\n",
    "        else:\n",
    "            return False\n",
    "print(hurdle_jump([2,4,5,3,7],8))\n",
    "print(hurdle_jump([3,4,5,7,2],4))"
   ]
  },
  {
   "cell_type": "code",
   "execution_count": 35,
   "id": "f91d898a",
   "metadata": {},
   "outputs": [
    {
     "name": "stdout",
     "output_type": "stream",
     "text": [
      "April\n",
      "July\n"
     ]
    }
   ],
   "source": [
    "#14 Create a function that takes a number (from 1 to 12) and returns its corresponding month name as a string. For example, if you're given 3 as input, your function should return \"March\", because March is the 3rd month.\n",
    "#Number\n",
    "#\tMonth Name\n",
    "#\t1\n",
    "#\tJanuary\n",
    "#\t2\n",
    "#\tFebruary\n",
    "#\t3\n",
    "#\tMarch\n",
    "#\t4\n",
    "#\tApril\n",
    "#\tMay\n",
    "#\t7\n",
    "#\tJuly\n",
    "#\t8\n",
    "#\tAugust\n",
    "#\t9\n",
    "#\tSeptember\n",
    "#\t10\n",
    "#\tOctober\n",
    "#\tNovember\n",
    "#\t12\n",
    "#\tDecember\n",
    "#\tExamples\n",
    "#month_name(3) ➞ \"March\"\n",
    "\n",
    "\n",
    "#month_name(12) ➞ \"December\"\n",
    "\n",
    "\n",
    "#month_name(6) ➞ \"June\"\n",
    "\n",
    "def month_name(x):\n",
    "    if x==1:\n",
    "        return \"January\"\n",
    "    elif x==2:\n",
    "        return \"February\"\n",
    "    elif x==3:\n",
    "        return \"March\"\n",
    "    elif x==4:\n",
    "        return \"April\"\n",
    "    elif x==5:\n",
    "        return \"May\"\n",
    "    elif x==6:\n",
    "        return \"June\"\n",
    "    elif x==7:\n",
    "        return \"July\"\n",
    "    elif x==8:\n",
    "        return \"August\"\n",
    "    elif x==9:\n",
    "        return \"September\"\n",
    "    elif x==10:\n",
    "        return \"October\"\n",
    "    elif x==11:\n",
    "        return \"November\"\n",
    "    elif x==12:\n",
    "        return \"December\"\n",
    "       \n",
    "print(month_name(4))\n",
    "print(month_name(7))\n",
    "    "
   ]
  },
  {
   "cell_type": "code",
   "execution_count": null,
   "id": "77262d92",
   "metadata": {},
   "outputs": [],
   "source": [
    "#15 Create a function that takes in a two-dimensional list and returns the number of sub-lists with only identical elements.\n",
    "#Examples\n",
    "#count_identical([\n",
    " # [1],\n",
    " # [2],\n",
    " # [3],\n",
    " # [4]\n",
    "#]) ➞ 4\n",
    "\n",
    "\n",
    "# Single-item lists still count as having identical elements.\n",
    "\n",
    "\n",
    "\n",
    "\n",
    "#count_identical([\n",
    "#  [1, 2],\n",
    "#  [2, 3],\n",
    " # [3, 4],\n",
    " # [4, 4]\n",
    "#]) ➞ 1\n",
    "\n",
    "\n",
    "\n",
    "\n",
    "#count_identical([\n",
    "#  [33, 33],\n",
    "#  [5],\n",
    "#  [\"a\", \"a\"],\n",
    "#  [2, 2, 2],\n",
    "  #[1, 2, 2],\n",
    " # [3, 1]\n",
    "#]) ➞ 4\n",
    "\n",
    "\n",
    "# 4 lists with identical elements: [33, 33], [5], [\"a\", \"a\"], and [2, 2, 2]\n",
    "\n",
    "\n",
    "\n",
    "\n",
    "#count_identical([\n",
    " # [\"@\", \"@\", \"@\", \"@\"],\n",
    " # [2, 3], [3, 4], [4, 4]\n",
    "#]) ➞ 2\n",
    "#Notes\n",
    "#Single-element lists count as (trivially) having identical elements.\n",
    "\n"
   ]
  },
  {
   "cell_type": "code",
   "execution_count": 36,
   "id": "233e2407",
   "metadata": {},
   "outputs": [
    {
     "name": "stdout",
     "output_type": "stream",
     "text": [
      "False\n",
      "True\n",
      "True\n"
     ]
    }
   ],
   "source": [
    "#16 A bartender is writing a simple program to determine whether he should serve drinks to someone. He only serves drinks to people 18 and older and when he's not on break.\n",
    "#Given the person's age, and whether break time is in session, create a function which returns whether he should serve drinks.\n",
    "#Examples\n",
    "#should_serve_drinks(17, True) ➞ False\n",
    "\n",
    "\n",
    "#should_serve_drinks(19, False) ➞ True\n",
    "\n",
    "\n",
    "#should_serve_drinks(30, True) ➞ False\n",
    "\n",
    "\n",
    "def should_serve_drinks(age,brek):\n",
    "    if age>=18 and (brek==True or brek==False):\n",
    "        return True\n",
    "    else:\n",
    "        return False\n",
    "print(should_serve_drinks(14,True))\n",
    "print(should_serve_drinks(19,False))\n",
    "print(should_serve_drinks(33,True))\n"
   ]
  },
  {
   "cell_type": "code",
   "execution_count": 39,
   "id": "d7808351",
   "metadata": {},
   "outputs": [
    {
     "name": "stdout",
     "output_type": "stream",
     "text": [
      "1\n",
      "False\n",
      "1\n",
      "1\n",
      "0\n",
      "1\n"
     ]
    }
   ],
   "source": [
    "#17 You will need to write three unfinished logic gates. Continue to write the three logic gates: AND, OR, and NOT.\n",
    "#Examples\n",
    "#AND(1, 1) ➞ 1\n",
    "#AND(0, 0) ➞ 0\n",
    "\n",
    "\n",
    "#OR(1, 0) ➞ 1\n",
    "#OR(1, 1) ➞ 1\n",
    "\n",
    "\n",
    "#NOT(0) ➞ 1\n",
    "#NOT(1) ➞ 0\n",
    "def AND(x,y):\n",
    "    if x==y:\n",
    "        return x\n",
    "    else:\n",
    "        return False\n",
    "def OR(x,y):\n",
    "    if x==0 or x==1:\n",
    "        return 1\n",
    "    elif x==1 and x==1:\n",
    "        return 1\n",
    "    else:\n",
    "        return 0\n",
    "def NOT(x):\n",
    "    if x==0:\n",
    "        return 1\n",
    "    else:\n",
    "        return 0\n",
    "    \n",
    "print(AND(1,1))\n",
    "print(AND(0,1))\n",
    "print(OR(1,0))\n",
    "print(OR(0,0))\n",
    "print(NOT(1))\n",
    "print(NOT(0))\n",
    "    \n"
   ]
  },
  {
   "cell_type": "code",
   "execution_count": 41,
   "id": "50d633e1",
   "metadata": {},
   "outputs": [
    {
     "name": "stdout",
     "output_type": "stream",
     "text": [
      "3.0\n",
      "48\n"
     ]
    }
   ],
   "source": [
    "#18 Write a function that accepts base (decimal), height (decimal) and shape (\"triangle\", \"parallelogram\") as input and calculates the area of that shape.\n",
    "#Examples\n",
    "#area_shape(2, 3, \"triangle\") ➞ 3\n",
    "\n",
    "\n",
    "#area_shape(8, 6, \"parallelogram\") ➞ 48\n",
    "\n",
    "\n",
    "#area_shape(2.9, 1.3, \"parallelogram\") ➞ 3.77\n",
    "\n",
    "def area_shape(base,height,shape):\n",
    "    if shape==\"triangle\":\n",
    "        return (0.5)*base*height\n",
    "    elif shape==\"parallelogram\":\n",
    "        return base*height\n",
    "    \n",
    "print(area_shape(2, 3, \"triangle\"))\n",
    "print(area_shape(8, 6, \"parallelogram\"))"
   ]
  },
  {
   "cell_type": "code",
   "execution_count": 42,
   "id": "d8c7d213",
   "metadata": {},
   "outputs": [
    {
     "name": "stdout",
     "output_type": "stream",
     "text": [
      "True\n",
      "False\n",
      "False\n"
     ]
    }
   ],
   "source": [
    "#19 Create a function that takes a string (a random name). If the last character of the name is an \"n\", return True, otherwise return False.\n",
    "#Examples\n",
    "#is_last_character_n(\"Aiden\") ➞ True\n",
    "\n",
    "\n",
    "#is_last_character_n(\"Piet\") ➞ False\n",
    "\n",
    "\n",
    "#is_last_character_n(\"Bert\") ➞ False\n",
    "\n",
    "\n",
    "#is_last_character_n(\"Dean\") ➞ True\n",
    "def is_last_character_n(str):\n",
    "    if str[len(str)-1]==\"n\":\n",
    "        return True\n",
    "    else:\n",
    "        return False\n",
    "    \n",
    "print(is_last_character_n(\"Aiden\")) \n",
    "print(is_last_character_n(\"Piet\"))\n",
    "print(is_last_character_n(\"Bert\"))"
   ]
  },
  {
   "cell_type": "code",
   "execution_count": 43,
   "id": "6603173d",
   "metadata": {},
   "outputs": [
    {
     "name": "stdout",
     "output_type": "stream",
     "text": [
      "False\n",
      "True\n"
     ]
    }
   ],
   "source": [
    "#20 Create a function that takes in a word and determines whether or not it is plural. A plural word is one that ends in \"s\".\n",
    "#Examples\n",
    "#3is_plural(\"changes\") ➞ True\n",
    "\n",
    "\n",
    "#is_plural(\"change\") ➞ False\n",
    "\n",
    "\n",
    "#is_plural(\"dudes\") ➞ True\n",
    "\n",
    "\n",
    "#is_plural(\"magic\") ➞ False\n",
    "\n",
    "def is_plural(str):\n",
    "    if str[len(str)-1]==\"s\":\n",
    "        return True\n",
    "    else:\n",
    "        return False\n",
    "    \n",
    "print(is_plural(\"change\"))\n",
    "print(is_plural(\"changes\") )"
   ]
  },
  {
   "cell_type": "code",
   "execution_count": 44,
   "id": "b5527429",
   "metadata": {},
   "outputs": [
    {
     "name": "stdout",
     "output_type": "stream",
     "text": [
      "odd\n",
      "even\n"
     ]
    }
   ],
   "source": [
    "#21 Create a function that takes a number as an argument and returns \"even\" for even numbers and \"odd\" for odd numbers.\n",
    "#Examples\n",
    "#isEvenOrOdd(3) ➞ \"odd\"\n",
    "\n",
    "\n",
    "#isEvenOrOdd(146) ➞ \"even\"\n",
    "\n",
    "\n",
    "#isEvenOrOdd(19) ➞ \"odd\"\n",
    "def isEvenOrOdd(x):\n",
    "    if x%2==0:\n",
    "        return \"even\"\n",
    "    else:\n",
    "        return \"odd\"\n",
    "    \n",
    "print(isEvenOrOdd(3))    \n",
    "print(isEvenOrOdd(146))"
   ]
  },
  {
   "cell_type": "code",
   "execution_count": null,
   "id": "4951a1ae",
   "metadata": {},
   "outputs": [],
   "source": []
  },
  {
   "cell_type": "code",
   "execution_count": null,
   "id": "d34e4e74",
   "metadata": {},
   "outputs": [],
   "source": []
  },
  {
   "cell_type": "code",
   "execution_count": null,
   "id": "66b8484f",
   "metadata": {},
   "outputs": [],
   "source": []
  },
  {
   "cell_type": "code",
   "execution_count": null,
   "id": "f8917154",
   "metadata": {},
   "outputs": [],
   "source": []
  },
  {
   "cell_type": "code",
   "execution_count": null,
   "id": "0d56e58d",
   "metadata": {},
   "outputs": [],
   "source": []
  },
  {
   "cell_type": "code",
   "execution_count": null,
   "id": "d648d73a",
   "metadata": {},
   "outputs": [],
   "source": []
  },
  {
   "cell_type": "code",
   "execution_count": null,
   "id": "f750e0af",
   "metadata": {},
   "outputs": [],
   "source": []
  },
  {
   "cell_type": "code",
   "execution_count": null,
   "id": "00eb90bb",
   "metadata": {},
   "outputs": [],
   "source": []
  },
  {
   "cell_type": "code",
   "execution_count": null,
   "id": "a92c2205",
   "metadata": {},
   "outputs": [],
   "source": []
  },
  {
   "cell_type": "code",
   "execution_count": null,
   "id": "ec756903",
   "metadata": {},
   "outputs": [],
   "source": []
  },
  {
   "cell_type": "code",
   "execution_count": null,
   "id": "239a7944",
   "metadata": {},
   "outputs": [],
   "source": []
  },
  {
   "cell_type": "code",
   "execution_count": null,
   "id": "d3180207",
   "metadata": {},
   "outputs": [],
   "source": []
  },
  {
   "cell_type": "code",
   "execution_count": null,
   "id": "54d3add5",
   "metadata": {},
   "outputs": [],
   "source": []
  },
  {
   "cell_type": "code",
   "execution_count": null,
   "id": "b93cfcce",
   "metadata": {},
   "outputs": [],
   "source": []
  },
  {
   "cell_type": "code",
   "execution_count": null,
   "id": "c187ef5b",
   "metadata": {},
   "outputs": [],
   "source": []
  },
  {
   "cell_type": "code",
   "execution_count": null,
   "id": "7db250eb",
   "metadata": {},
   "outputs": [],
   "source": []
  }
 ],
 "metadata": {
  "kernelspec": {
   "display_name": "Python 3 (ipykernel)",
   "language": "python",
   "name": "python3"
  },
  "language_info": {
   "codemirror_mode": {
    "name": "ipython",
    "version": 3
   },
   "file_extension": ".py",
   "mimetype": "text/x-python",
   "name": "python",
   "nbconvert_exporter": "python",
   "pygments_lexer": "ipython3",
   "version": "3.10.9"
  }
 },
 "nbformat": 4,
 "nbformat_minor": 5
}
