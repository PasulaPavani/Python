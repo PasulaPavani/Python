{
  "nbformat": 4,
  "nbformat_minor": 0,
  "metadata": {
    "colab": {
      "provenance": [],
      "authorship_tag": "ABX9TyOvVFLRm3eaS8PlWXWDe7Q8",
      "include_colab_link": true
    },
    "kernelspec": {
      "name": "python3",
      "display_name": "Python 3"
    },
    "language_info": {
      "name": "python"
    }
  },
  "cells": [
    {
      "cell_type": "markdown",
      "metadata": {
        "id": "view-in-github",
        "colab_type": "text"
      },
      "source": [
        "<a href=\"https://colab.research.google.com/github/PasulaPavani/Python/blob/main/Assignment4.ipynb\" target=\"_parent\"><img src=\"https://colab.research.google.com/assets/colab-badge.svg\" alt=\"Open In Colab\"/></a>"
      ]
    },
    {
      "cell_type": "code",
      "execution_count": 1,
      "metadata": {
        "colab": {
          "base_uri": "https://localhost:8080/"
        },
        "id": "SElgXbon6GCM",
        "outputId": "9d55bc72-b8fd-4310-adb4-15a85a9eaa41"
      },
      "outputs": [
        {
          "output_type": "stream",
          "name": "stdout",
          "text": [
            "1\n",
            "2\n",
            "3\n",
            "4\n",
            "5\n",
            "6\n"
          ]
        }
      ],
      "source": [
        "#1) Write a Python program to loop through all the elements in a list\n",
        "#Ex:\n",
        "#Input: [1,2,3,4,5,6] Output:\n",
        "#1\n",
        "#2\n",
        "#3\n",
        "#4 \n",
        "#5 \n",
        "#6\n",
        "\n",
        "x=[1,2,3,4,5,6]\n",
        "for y in range(0,6):\n",
        "    print(x[y])"
      ]
    },
    {
      "cell_type": "code",
      "source": [
        "#2. Write a Python program where you will ask the users to insert elements in a list\n",
        "\n",
        "x=[]\n",
        "a=\"\"\n",
        "b=0\n",
        "g=int(input(\"enter size of the list :\"))\n",
        "for h in range (0,g):\n",
        "  if h <=g:\n",
        "     while not(a==\"q\" or a==\"Q\"):\n",
        "        i=input(\"Please enter an element you want to insert in the list \")\n",
        "        x.insert(b,i)\n",
        "        b+=1\n",
        "  else:      \n",
        "        a=input(\"Please enter q to quit the program \")\n",
        "print(x)"
      ],
      "metadata": {
        "colab": {
          "base_uri": "https://localhost:8080/",
          "height": 588
        },
        "id": "AYMHsUs16Ibt",
        "outputId": "7b731276-fa7c-4bf2-c912-2253350ef8e6"
      },
      "execution_count": 14,
      "outputs": [
        {
          "name": "stdout",
          "output_type": "stream",
          "text": [
            "enter size of the list :5\n",
            "Please enter an element you want to insert in the list 2\n",
            "Please enter an element you want to insert in the list w\n",
            "Please enter an element you want to insert in the list t\n",
            "Please enter an element you want to insert in the list u\n",
            "Please enter an element you want to insert in the list i\n",
            "Please enter an element you want to insert in the list i\n",
            "Please enter an element you want to insert in the list 6\n",
            "Please enter an element you want to insert in the list 5\n",
            "Please enter an element you want to insert in the list g\n",
            "Please enter an element you want to insert in the list h\n",
            "Please enter an element you want to insert in the list q\n"
          ]
        },
        {
          "output_type": "error",
          "ename": "KeyboardInterrupt",
          "evalue": "ignored",
          "traceback": [
            "\u001b[0;31m---------------------------------------------------------------------------\u001b[0m",
            "\u001b[0;31mKeyboardInterrupt\u001b[0m                         Traceback (most recent call last)",
            "\u001b[0;32m<ipython-input-14-c41ba88f0166>\u001b[0m in \u001b[0;36m<cell line: 7>\u001b[0;34m()\u001b[0m\n\u001b[1;32m      8\u001b[0m   \u001b[0;32mif\u001b[0m \u001b[0mh\u001b[0m \u001b[0;34m<=\u001b[0m\u001b[0mg\u001b[0m\u001b[0;34m:\u001b[0m\u001b[0;34m\u001b[0m\u001b[0;34m\u001b[0m\u001b[0m\n\u001b[1;32m      9\u001b[0m      \u001b[0;32mwhile\u001b[0m \u001b[0;32mnot\u001b[0m\u001b[0;34m(\u001b[0m\u001b[0ma\u001b[0m\u001b[0;34m==\u001b[0m\u001b[0;34m\"q\"\u001b[0m \u001b[0;32mor\u001b[0m \u001b[0ma\u001b[0m\u001b[0;34m==\u001b[0m\u001b[0;34m\"Q\"\u001b[0m\u001b[0;34m)\u001b[0m\u001b[0;34m:\u001b[0m\u001b[0;34m\u001b[0m\u001b[0;34m\u001b[0m\u001b[0m\n\u001b[0;32m---> 10\u001b[0;31m         \u001b[0mi\u001b[0m\u001b[0;34m=\u001b[0m\u001b[0minput\u001b[0m\u001b[0;34m(\u001b[0m\u001b[0;34m\"Please enter an element you want to insert in the list \"\u001b[0m\u001b[0;34m)\u001b[0m\u001b[0;34m\u001b[0m\u001b[0;34m\u001b[0m\u001b[0m\n\u001b[0m\u001b[1;32m     11\u001b[0m         \u001b[0mx\u001b[0m\u001b[0;34m.\u001b[0m\u001b[0minsert\u001b[0m\u001b[0;34m(\u001b[0m\u001b[0mb\u001b[0m\u001b[0;34m,\u001b[0m\u001b[0mi\u001b[0m\u001b[0;34m)\u001b[0m\u001b[0;34m\u001b[0m\u001b[0;34m\u001b[0m\u001b[0m\n\u001b[1;32m     12\u001b[0m         \u001b[0mb\u001b[0m\u001b[0;34m+=\u001b[0m\u001b[0;36m1\u001b[0m\u001b[0;34m\u001b[0m\u001b[0;34m\u001b[0m\u001b[0m\n",
            "\u001b[0;32m/usr/local/lib/python3.10/dist-packages/ipykernel/kernelbase.py\u001b[0m in \u001b[0;36mraw_input\u001b[0;34m(self, prompt)\u001b[0m\n\u001b[1;32m    849\u001b[0m                 \u001b[0;34m\"raw_input was called, but this frontend does not support input requests.\"\u001b[0m\u001b[0;34m\u001b[0m\u001b[0;34m\u001b[0m\u001b[0m\n\u001b[1;32m    850\u001b[0m             )\n\u001b[0;32m--> 851\u001b[0;31m         return self._input_request(str(prompt),\n\u001b[0m\u001b[1;32m    852\u001b[0m             \u001b[0mself\u001b[0m\u001b[0;34m.\u001b[0m\u001b[0m_parent_ident\u001b[0m\u001b[0;34m,\u001b[0m\u001b[0;34m\u001b[0m\u001b[0;34m\u001b[0m\u001b[0m\n\u001b[1;32m    853\u001b[0m             \u001b[0mself\u001b[0m\u001b[0;34m.\u001b[0m\u001b[0m_parent_header\u001b[0m\u001b[0;34m,\u001b[0m\u001b[0;34m\u001b[0m\u001b[0;34m\u001b[0m\u001b[0m\n",
            "\u001b[0;32m/usr/local/lib/python3.10/dist-packages/ipykernel/kernelbase.py\u001b[0m in \u001b[0;36m_input_request\u001b[0;34m(self, prompt, ident, parent, password)\u001b[0m\n\u001b[1;32m    893\u001b[0m             \u001b[0;32mexcept\u001b[0m \u001b[0mKeyboardInterrupt\u001b[0m\u001b[0;34m:\u001b[0m\u001b[0;34m\u001b[0m\u001b[0;34m\u001b[0m\u001b[0m\n\u001b[1;32m    894\u001b[0m                 \u001b[0;31m# re-raise KeyboardInterrupt, to truncate traceback\u001b[0m\u001b[0;34m\u001b[0m\u001b[0;34m\u001b[0m\u001b[0m\n\u001b[0;32m--> 895\u001b[0;31m                 \u001b[0;32mraise\u001b[0m \u001b[0mKeyboardInterrupt\u001b[0m\u001b[0;34m(\u001b[0m\u001b[0;34m\"Interrupted by user\"\u001b[0m\u001b[0;34m)\u001b[0m \u001b[0;32mfrom\u001b[0m \u001b[0;32mNone\u001b[0m\u001b[0;34m\u001b[0m\u001b[0;34m\u001b[0m\u001b[0m\n\u001b[0m\u001b[1;32m    896\u001b[0m             \u001b[0;32mexcept\u001b[0m \u001b[0mException\u001b[0m \u001b[0;32mas\u001b[0m \u001b[0me\u001b[0m\u001b[0;34m:\u001b[0m\u001b[0;34m\u001b[0m\u001b[0;34m\u001b[0m\u001b[0m\n\u001b[1;32m    897\u001b[0m                 \u001b[0mself\u001b[0m\u001b[0;34m.\u001b[0m\u001b[0mlog\u001b[0m\u001b[0;34m.\u001b[0m\u001b[0mwarning\u001b[0m\u001b[0;34m(\u001b[0m\u001b[0;34m\"Invalid Message:\"\u001b[0m\u001b[0;34m,\u001b[0m \u001b[0mexc_info\u001b[0m\u001b[0;34m=\u001b[0m\u001b[0;32mTrue\u001b[0m\u001b[0;34m)\u001b[0m\u001b[0;34m\u001b[0m\u001b[0;34m\u001b[0m\u001b[0m\n",
            "\u001b[0;31mKeyboardInterrupt\u001b[0m: Interrupted by user"
          ]
        }
      ]
    },
    {
      "cell_type": "code",
      "source": [
        "#3. Write a Python program to remove all the odd index value from a list and only even index elements should remain\n",
        "#Ex:\n",
        "#Input: [1,2,3,4,5,6,7,”a”]\n",
        "#Output: [1,3,5,7]\n",
        "l=[]\n",
        "x=[1,2,3,4,5,6,7,\"a\"]\n",
        "for y in range(0,len(x)):\n",
        "    if y%2==0:\n",
        "        l.append(x[y])\n",
        "    else:\n",
        "        continue\n",
        "print(l)    "
      ],
      "metadata": {
        "colab": {
          "base_uri": "https://localhost:8080/"
        },
        "id": "0gZrkDu76P5W",
        "outputId": "7fc81f3b-6026-489c-fb6c-a1471e1d0e7e"
      },
      "execution_count": 9,
      "outputs": [
        {
          "output_type": "stream",
          "name": "stdout",
          "text": [
            "[1, 3, 5, 7]\n"
          ]
        }
      ]
    },
    {
      "cell_type": "code",
      "source": [
        "\n",
        "#4. Write a Python program to sum and multiply all the items in a list\n",
        "#Ex:\n",
        "#Input: [1,2,3,4] Output: sum:- 10\n",
        "#Product:- 24\n",
        "\n",
        "l=[]\n",
        "a=int(input(\"Enter the size of the list \"))\n",
        "for z in range(0,a):\n",
        "    b=int(input(\"Enter a number: \"))\n",
        "    l.append(b)\n",
        "\n",
        "s=0;p=1\n",
        "for x in l:\n",
        "    s+=x\n",
        "    p*=x\n",
        "print(\"Sum:- \"+str(s)+\"\\nProduct: \"+str(p))"
      ],
      "metadata": {
        "colab": {
          "base_uri": "https://localhost:8080/"
        },
        "id": "ZlKR-d6l8bXW",
        "outputId": "d3f481d0-8f27-4f71-baae-b52d057459e1"
      },
      "execution_count": 13,
      "outputs": [
        {
          "output_type": "stream",
          "name": "stdout",
          "text": [
            "Enter the size of the list 4\n",
            "Enter a number: 2\n",
            "Enter a number: 5\n",
            "Enter a number: 6\n",
            "Enter a number: 7\n",
            "Sum:- 20\n",
            "Product: 420\n"
          ]
        }
      ]
    },
    {
      "cell_type": "code",
      "source": [
        "#5. Write a Python program to get the maximum and minimum numbers from a list\n",
        "#Ex:\n",
        "#Input: [8,4,11,7,90]\n",
        "#Output: max: - 90 Min: - 4\n",
        "\n",
        "l=[]\n",
        "y=int(input(\"Enter the length of the list \"))\n",
        "for x in range(0,y):\n",
        "    z=int(input(\"Enter a number: \"))\n",
        "    l.append(z)\n",
        "max1=0;min1=l[0]\n",
        "for x in l:\n",
        "    a=x; b=x\n",
        "    if max1<a:\n",
        "        max1=a\n",
        "    if b<min1:\n",
        "        min1=b\n",
        "print(l)        \n",
        "print(\"Max: \",max1,\"\\nMin: \",min1)"
      ],
      "metadata": {
        "colab": {
          "base_uri": "https://localhost:8080/"
        },
        "id": "wpT8mZBq9Yd-",
        "outputId": "a060bcd9-5917-4645-8eab-3c571af1af25"
      },
      "execution_count": 18,
      "outputs": [
        {
          "output_type": "stream",
          "name": "stdout",
          "text": [
            "Enter the length of the list 6\n",
            "Enter a number: 12\n",
            "Enter a number: 54\n",
            "Enter a number: 23\n",
            "Enter a number: 78\n",
            "Enter a number: 90\n",
            "Enter a number: 224\n",
            "[12, 54, 23, 78, 90, 224]\n",
            "Max:  224 \n",
            "Min:  12\n"
          ]
        }
      ]
    },
    {
      "cell_type": "code",
      "source": [
        "#6.Write a python program to print a specified list after removing the 0th,4th and 5th elements.\n",
        "#Ex:\n",
        "#Input: ['Red', 'Green', 'White', 'Black', 'Pink', 'Yellow'] \n",
        "#Output: ['Green', 'White', 'Black']\n",
        "\n",
        "l=[]\n",
        "l1=[]\n",
        "y=int(input(\"Enter  length of the list \"))\n",
        "for x in range(0,y):\n",
        "    a=input(\"Enter a value: \")\n",
        "    l.append(a)\n",
        "\n",
        "for z in range(0,y):\n",
        "    if z==0 or z==4 or z==5:\n",
        "        continue\n",
        "    else:\n",
        "        l1.append(l[z])\n",
        "print(l1)"
      ],
      "metadata": {
        "colab": {
          "base_uri": "https://localhost:8080/"
        },
        "id": "LoPRtydBBHaP",
        "outputId": "29e9f336-adda-4fe0-f071-7227f6a9ca91"
      },
      "execution_count": 19,
      "outputs": [
        {
          "output_type": "stream",
          "name": "stdout",
          "text": [
            "Enter  length of the list 6\n",
            "Enter a value: 12\n",
            "Enter a value: 54\n",
            "Enter a value: 23\n",
            "Enter a value: 78\n",
            "Enter a value: 23\n",
            "Enter a value: 22\n",
            "['54', '23', '78']\n"
          ]
        }
      ]
    },
    {
      "cell_type": "code",
      "source": [
        "#7. Write a Python program to convert a list of characters into a string.\n",
        "\n",
        "l=[1,2,3,4,5,6]\n",
        "b=\"\"\n",
        "for x in l:\n",
        "    b+=str(x)\n",
        "print(b)\n",
        "type(b)"
      ],
      "metadata": {
        "colab": {
          "base_uri": "https://localhost:8080/"
        },
        "id": "8IfnhyTZB_hP",
        "outputId": "ff51fb06-1c0f-4a24-e348-23e161fb27c6"
      },
      "execution_count": 23,
      "outputs": [
        {
          "output_type": "stream",
          "name": "stdout",
          "text": [
            "123456\n"
          ]
        },
        {
          "output_type": "execute_result",
          "data": {
            "text/plain": [
              "str"
            ]
          },
          "metadata": {},
          "execution_count": 23
        }
      ]
    },
    {
      "cell_type": "code",
      "source": [
        "#8.Write a Python program to compute average of given lists.\n",
        "\n",
        "l=[]\n",
        "sum=0\n",
        "y=int(input(\"Enter the length of the list \"))\n",
        "for x in range(0,y):\n",
        "    z=int(input(\"Enter a number: \"))\n",
        "    l.append(z)\n",
        "    sum+=z\n",
        "avg=sum//y\n",
        "print(\"List is: \",l,\"\\nAverage is: \",avg)"
      ],
      "metadata": {
        "colab": {
          "base_uri": "https://localhost:8080/"
        },
        "id": "e1H0vjnqCi6_",
        "outputId": "2c4da97b-4f39-49d2-e477-33b9b7666268"
      },
      "execution_count": 25,
      "outputs": [
        {
          "output_type": "stream",
          "name": "stdout",
          "text": [
            "Enter the length of the list 5\n",
            "Enter a number: 23\n",
            "Enter a number: 23\n",
            "Enter a number: 23\n",
            "Enter a number: 23\n",
            "Enter a number: 23\n",
            "List is:  [23, 23, 23, 23, 23] \n",
            "Average is:  23\n"
          ]
        }
      ]
    },
    {
      "cell_type": "code",
      "source": [
        "#9.Write a Python program to count integer in a given mixed list.\n",
        "#Ex:Input: [10, “a”,2,3,5.5,1.34,” Abc”,” rt”]\n",
        "#Output: Number of integers in the list:3\n",
        "\n",
        "a=int(input(\"Enter the length of the list: \"))\n",
        "l=[];i=0\n",
        "for x in range(0,a):\n",
        "    data=input(\"Chose the datatype: int,float,complex,string: \")\n",
        "    if data==\"int\":\n",
        "        l.append(int(input(\"Enter integer data: \")))\n",
        "        i+=1\n",
        "    elif data==\"float\":\n",
        "        l.append(float(input(\"Enter float data: \")))\n",
        "    elif data==\"complex\":\n",
        "        l.append(complex(input(\"Enter complex data: \")))\n",
        "    else:\n",
        "        l.append(input(\"Enter string data: \"))\n",
        "print(\"Input: \",l)\n",
        "print(\"Number of integers in the list: \",i)"
      ],
      "metadata": {
        "colab": {
          "base_uri": "https://localhost:8080/"
        },
        "id": "0NxhvGGmC771",
        "outputId": "485f6fb2-4dff-4d46-9e60-1049ebebecba"
      },
      "execution_count": 26,
      "outputs": [
        {
          "output_type": "stream",
          "name": "stdout",
          "text": [
            "Enter the length of the list: 5\n",
            "Chose the datatype: int,float,complex,string: int\n",
            "Enter integer data: 4\n",
            "Chose the datatype: int,float,complex,string: string\n",
            "Enter string data: e\n",
            "Chose the datatype: int,float,complex,string: float\n",
            "Enter float data: 3.45\n",
            "Chose the datatype: int,float,complex,string: int\n",
            "Enter integer data: 44\n",
            "Chose the datatype: int,float,complex,string: int\n",
            "Enter integer data: 33\n",
            "Input:  [4, 'e', 3.45, 44, 33]\n",
            "Number of integers in the list:  3\n"
          ]
        }
      ]
    },
    {
      "cell_type": "code",
      "source": [
        "#10. Write a Python program to reverse the list\n",
        "\n",
        "l=[]\n",
        "a=int(input(\"Enter the length of the list: \"))\n",
        "for x in range(0,a):\n",
        "    l.append(input(\"Enter the data: \"))\n",
        "print(l)\n",
        "print(l[::-1])\n",
        "\n"
      ],
      "metadata": {
        "colab": {
          "base_uri": "https://localhost:8080/"
        },
        "id": "9rZVjOZZD3o-",
        "outputId": "18641342-9785-488c-afb9-7f51c7c3e82b"
      },
      "execution_count": 27,
      "outputs": [
        {
          "output_type": "stream",
          "name": "stdout",
          "text": [
            "Enter the length of the list: 4\n",
            "Enter the data: q\n",
            "Enter the data: e\n",
            "Enter the data: r\n",
            "Enter the data: y\n",
            "['q', 'e', 'r', 'y']\n",
            "['y', 'r', 'e', 'q']\n"
          ]
        }
      ]
    },
    {
      "cell_type": "code",
      "source": [
        "#11. Write a Python program convert a given string to a tuple\n",
        "#Ex: Input: “python1.2”\n",
        "#Output: (“p”,” y”,”t”,”h”,” o”,” n”,”1”,”.”,”2”)\n",
        "\n",
        "string=input(\"Enter a string: \")\n",
        "print(tuple(string))\n"
      ],
      "metadata": {
        "colab": {
          "base_uri": "https://localhost:8080/"
        },
        "id": "78vUcZhOE2a4",
        "outputId": "655e03a1-b638-4631-f631-f9ef2d7d245a"
      },
      "execution_count": 28,
      "outputs": [
        {
          "output_type": "stream",
          "name": "stdout",
          "text": [
            "Enter a string: rtyu87\n",
            "('r', 't', 'y', 'u', '8', '7')\n"
          ]
        }
      ]
    },
    {
      "cell_type": "code",
      "source": [],
      "metadata": {
        "id": "VKrQsDs5FKiC"
      },
      "execution_count": null,
      "outputs": []
    }
  ]
}