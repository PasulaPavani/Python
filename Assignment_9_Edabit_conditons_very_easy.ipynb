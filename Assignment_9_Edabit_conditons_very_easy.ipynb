{
 "cells": [
  {
   "cell_type": "code",
   "execution_count": 6,
   "id": "eb45ac88",
   "metadata": {},
   "outputs": [
    {
     "name": "stdout",
     "output_type": "stream",
     "text": [
      "Darth Vader is father to luke\n"
     ]
    }
   ],
   "source": [
    "#1 Luke Skywalker has family and friends. Help him remind them who is who. Given a string with a name, return the \n",
    "#relation of that person to Luke.\n",
    "# Person \tRelation\n",
    "# Darth Vader\tfather\n",
    "# Leia\t sister\n",
    "# Han\t brother in law\n",
    "# R2D2\t droid\n",
    "def relation(person):\n",
    "    d={\"Darth Vader\":\"father\",\"Leia\":\"sister\",\"Han\":\"brother in law\",\"R2d2\":\"droid\"}\n",
    "    for x in d:\n",
    "        if person==x:\n",
    "            return (person +\" is {} to luke\".format(d[x]))\n",
    "        else:\n",
    "            continue\n",
    "        \n",
    "print(relation(\"Darth Vader\"))        \n",
    "        "
   ]
  },
  {
   "cell_type": "code",
   "execution_count": null,
   "id": "e8237242",
   "metadata": {},
   "outputs": [],
   "source": [
    "#2 Create a function that takes damage and speed (attacks per second) and returns the amount of damage after a \n",
    "#given time.\n",
    "\n"
   ]
  },
  {
   "cell_type": "code",
   "execution_count": 24,
   "id": "838e5635",
   "metadata": {},
   "outputs": [
    {
     "name": "stdout",
     "output_type": "stream",
     "text": [
      "True\n",
      "True\n"
     ]
    }
   ],
   "source": [
    "#3 Create a function that takes a number as input and returns True if the sum of its digits has the same parity as\n",
    "#the entire number. Otherwise, return False.\n",
    "\n",
    "def x0(y):\n",
    "    a=0\n",
    "    b=0\n",
    "    for i in y:\n",
    "        if i.lower==\"x\":\n",
    "            a+=1\n",
    "        elif i.lower==\"o\":\n",
    "            b+=1\n",
    "        else:\n",
    "            continue\n",
    "    return(a==b)       \n",
    "    \n",
    "    \n",
    "print(x0(\"xoxoxox\"))  \n",
    "print(x0(\"xoxoxoxo\"))"
   ]
  },
  {
   "cell_type": "code",
   "execution_count": null,
   "id": "fb1b1cdf",
   "metadata": {},
   "outputs": [],
   "source": []
  },
  {
   "cell_type": "code",
   "execution_count": null,
   "id": "c5296fc3",
   "metadata": {},
   "outputs": [],
   "source": []
  }
 ],
 "metadata": {
  "kernelspec": {
   "display_name": "Python 3 (ipykernel)",
   "language": "python",
   "name": "python3"
  },
  "language_info": {
   "codemirror_mode": {
    "name": "ipython",
    "version": 3
   },
   "file_extension": ".py",
   "mimetype": "text/x-python",
   "name": "python",
   "nbconvert_exporter": "python",
   "pygments_lexer": "ipython3",
   "version": "3.10.9"
  }
 },
 "nbformat": 4,
 "nbformat_minor": 5
}
