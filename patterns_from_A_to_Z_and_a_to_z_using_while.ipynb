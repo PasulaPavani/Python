{
 "cells": [
  {
   "cell_type": "markdown",
   "id": "0f080e9d",
   "metadata": {},
   "source": [
    "# printing patterns from A to Z using 'while' :"
   ]
  },
  {
   "cell_type": "code",
   "execution_count": 1,
   "id": "337cab69",
   "metadata": {},
   "outputs": [
    {
     "name": "stdout",
     "output_type": "stream",
     "text": [
      "  * \n",
      "*   *\n",
      "* * *\n",
      "*   *\n",
      "*   *\n"
     ]
    }
   ],
   "source": [
    "x=0\n",
    "while x<5:\n",
    "    if x==0:\n",
    "        print(\"  * \")\n",
    "    elif x==1 or x==3 or x==4:\n",
    "        print(\"*   *\")\n",
    "    else:\n",
    "        print(\"* * *\")\n",
    "    x=x+1    "
   ]
  },
  {
   "cell_type": "code",
   "execution_count": 3,
   "id": "8495123e",
   "metadata": {},
   "outputs": [
    {
     "name": "stdout",
     "output_type": "stream",
     "text": [
      "* * \n",
      "*   *\n",
      "* *\n",
      "*   *\n",
      "* * \n"
     ]
    }
   ],
   "source": [
    "x=0\n",
    "while x<5:\n",
    "    if x==0 or x==4:\n",
    "        print(\"* * \")\n",
    "    elif x==1 or x==3:\n",
    "        print(\"*   *\")\n",
    "    else:\n",
    "        print(\"* *\")\n",
    "    x=x+1    "
   ]
  },
  {
   "cell_type": "code",
   "execution_count": 5,
   "id": "f323291d",
   "metadata": {},
   "outputs": [
    {
     "name": "stdout",
     "output_type": "stream",
     "text": [
      " * * *\n",
      "*\n",
      "*\n",
      "*\n",
      " * * *\n"
     ]
    }
   ],
   "source": [
    "x=0\n",
    "while x<5:\n",
    "    if x==0 or x==4:\n",
    "        print(\" * * *\")\n",
    "    else:\n",
    "        print(\"*\")\n",
    "    x=x+1        "
   ]
  },
  {
   "cell_type": "code",
   "execution_count": 6,
   "id": "d2a50ffe",
   "metadata": {},
   "outputs": [
    {
     "name": "stdout",
     "output_type": "stream",
     "text": [
      "* *\n",
      "*  *\n",
      "*   *\n",
      "*  *\n",
      "* *\n"
     ]
    }
   ],
   "source": [
    "x=0\n",
    "while x<5:\n",
    "    if x==0 or x==4:\n",
    "        print(\"* *\")\n",
    "    elif x==1 or x==3:\n",
    "        print(\"*  *\")\n",
    "    else:\n",
    "        print(\"*   *\")\n",
    "    x=x+1    "
   ]
  },
  {
   "cell_type": "code",
   "execution_count": 7,
   "id": "309b1269",
   "metadata": {},
   "outputs": [
    {
     "name": "stdout",
     "output_type": "stream",
     "text": [
      "* * *\n",
      "*\n",
      "* * *\n",
      "*\n",
      "* * *\n"
     ]
    }
   ],
   "source": [
    "x=0\n",
    "while x<5:\n",
    "    if x==0 or x==2 or x==4:\n",
    "        print(\"* * *\")\n",
    "    else:\n",
    "        print(\"*\")\n",
    "    x=x+1    "
   ]
  },
  {
   "cell_type": "code",
   "execution_count": 8,
   "id": "a45fb85d",
   "metadata": {},
   "outputs": [
    {
     "name": "stdout",
     "output_type": "stream",
     "text": [
      "* * *\n",
      "*\n",
      "* * *\n",
      "*\n",
      "*\n"
     ]
    }
   ],
   "source": [
    "x=0\n",
    "while x<5:\n",
    "    if x==0 or x==2:\n",
    "        print(\"* * *\")\n",
    "    else:\n",
    "        print(\"*\")\n",
    "    x=x+1  "
   ]
  },
  {
   "cell_type": "code",
   "execution_count": 10,
   "id": "b9ec8fb2",
   "metadata": {},
   "outputs": [
    {
     "name": "stdout",
     "output_type": "stream",
     "text": [
      "* * *\n",
      "*\n",
      "*  **\n",
      "*  **\n",
      "* * *\n"
     ]
    }
   ],
   "source": [
    "x=0\n",
    "while x<5:\n",
    "    if x==0 or x==4:\n",
    "        print(\"* * *\")\n",
    "    elif x==2 or x==3:\n",
    "        print(\"*  **\")\n",
    "    else:\n",
    "        print(\"*\")\n",
    "    x=x+1  "
   ]
  },
  {
   "cell_type": "code",
   "execution_count": 13,
   "id": "8c56ac85",
   "metadata": {},
   "outputs": [
    {
     "name": "stdout",
     "output_type": "stream",
     "text": [
      "*   *\n",
      "*   *\n",
      "* * *\n",
      "*   *\n",
      "*   *\n"
     ]
    }
   ],
   "source": [
    "x=0\n",
    "while x<5:\n",
    "    if x==0 or x==1 or x==3 or x==4:\n",
    "        print(\"*   *\")\n",
    "    else:\n",
    "        print(\"* * *\")\n",
    "    x=x+1  "
   ]
  },
  {
   "cell_type": "code",
   "execution_count": 15,
   "id": "754337fc",
   "metadata": {},
   "outputs": [
    {
     "name": "stdout",
     "output_type": "stream",
     "text": [
      "* * *\n",
      "  *\n",
      "  *\n",
      "  *\n",
      "* * *\n"
     ]
    }
   ],
   "source": [
    "x=0\n",
    "while x<5:\n",
    "    if x==0 or x==4:\n",
    "        print(\"* * *\")\n",
    "    else:\n",
    "        print(\"  *\")\n",
    "    x=x+1  "
   ]
  },
  {
   "cell_type": "code",
   "execution_count": 17,
   "id": "bd88e13f",
   "metadata": {},
   "outputs": [
    {
     "name": "stdout",
     "output_type": "stream",
     "text": [
      "* * *\n",
      "  *\n",
      "  *\n",
      "* *\n",
      "* *\n"
     ]
    }
   ],
   "source": [
    "x=0\n",
    "while x<5:\n",
    "    if x==0:\n",
    "        print(\"* * *\")\n",
    "    elif x==3 or x==4:\n",
    "        print(\"* *\")\n",
    "    else:\n",
    "        print(\"  *\")\n",
    "    x=x+1  "
   ]
  },
  {
   "cell_type": "code",
   "execution_count": 19,
   "id": "f846fa28",
   "metadata": {},
   "outputs": [
    {
     "name": "stdout",
     "output_type": "stream",
     "text": [
      "*   *\n",
      "* *\n",
      "**\n",
      "* *\n",
      "*   *\n"
     ]
    }
   ],
   "source": [
    "x=0\n",
    "while x<5:\n",
    "    if x==0 or x==4:\n",
    "        print(\"*   *\")\n",
    "    elif x==1 or x==3:\n",
    "        print(\"* *\")\n",
    "    else:\n",
    "        print(\"**\")\n",
    "    x=x+1  "
   ]
  },
  {
   "cell_type": "code",
   "execution_count": 20,
   "id": "150c8b9c",
   "metadata": {},
   "outputs": [
    {
     "name": "stdout",
     "output_type": "stream",
     "text": [
      "*\n",
      "*\n",
      "*\n",
      "*\n",
      "* * *\n"
     ]
    }
   ],
   "source": [
    "x=0\n",
    "while x<5:\n",
    "    if x==4:\n",
    "        print(\"* * *\")\n",
    "    else:\n",
    "        print(\"*\")\n",
    "    x=x+1  "
   ]
  },
  {
   "cell_type": "code",
   "execution_count": 30,
   "id": "efbeab90",
   "metadata": {},
   "outputs": [
    {
     "name": "stdout",
     "output_type": "stream",
     "text": [
      "*     *\n",
      "* * * *\n",
      "*  *  *\n",
      "*  *  *\n",
      "*     *\n"
     ]
    }
   ],
   "source": [
    "x=0\n",
    "while x<5:\n",
    "    if x==4:\n",
    "        print(\"*     *\")\n",
    "    elif x==3:\n",
    "        print(\"*  *  *\")\n",
    "    elif x==2:\n",
    "        print(\"*  *  *\")\n",
    "    elif x==1:\n",
    "        print(\"* * * *\")\n",
    "    else:\n",
    "        print(\"*     *\")\n",
    "    x=x+1  "
   ]
  },
  {
   "cell_type": "code",
   "execution_count": 37,
   "id": "1c70c761",
   "metadata": {},
   "outputs": [
    {
     "name": "stdout",
     "output_type": "stream",
     "text": [
      "*    *\n",
      "* *  *\n",
      "*  * *\n",
      "*   **\n",
      "*    *\n"
     ]
    }
   ],
   "source": [
    "x=0\n",
    "while x<5:\n",
    "    if x==0  or x==4:\n",
    "        print(\"*    *\")\n",
    "    elif x==1:\n",
    "        print(\"* *  *\")\n",
    "    elif x==3:\n",
    "        print(\"*   **\")\n",
    "    else:\n",
    "        print(\"*  * *\")\n",
    "    x=x+1  "
   ]
  },
  {
   "cell_type": "code",
   "execution_count": 39,
   "id": "226d1716",
   "metadata": {},
   "outputs": [
    {
     "name": "stdout",
     "output_type": "stream",
     "text": [
      " * * * \n",
      "*     *\n",
      "*     *\n",
      "*     *\n",
      " * * * \n"
     ]
    }
   ],
   "source": [
    "x=0\n",
    "while x<5:\n",
    "    if x==0 or x==4:\n",
    "        print(\" * * * \")\n",
    "    else:\n",
    "        print(\"*     *\")\n",
    "    x=x+1  "
   ]
  },
  {
   "cell_type": "code",
   "execution_count": 42,
   "id": "31072cc8",
   "metadata": {},
   "outputs": [
    {
     "name": "stdout",
     "output_type": "stream",
     "text": [
      "* * *\n",
      "*   *\n",
      "* * *\n",
      "* \n",
      "* \n"
     ]
    }
   ],
   "source": [
    "x=0\n",
    "while x<5:\n",
    "    if x==0  or x==2:\n",
    "        print(\"* * *\")\n",
    "    elif x==3 or x==4:\n",
    "        print(\"* \")\n",
    "    else:\n",
    "        print(\"*   *\")\n",
    "    x=x+1  "
   ]
  },
  {
   "cell_type": "code",
   "execution_count": 51,
   "id": "a1a04933",
   "metadata": {},
   "outputs": [
    {
     "name": "stdout",
     "output_type": "stream",
     "text": [
      " * * *\n",
      "*     *\n",
      "*     *\n",
      "* **  *\n",
      " *  *  * *\n"
     ]
    }
   ],
   "source": [
    "x=0\n",
    "while x<5:\n",
    "    if x==0:\n",
    "        print(\" * * *\")\n",
    "    elif x==3:\n",
    "        print(\"* **  *\")\n",
    "    elif x==4:\n",
    "        print(\" *  *  * *\")\n",
    "    else:\n",
    "        print(\"*     *\")\n",
    "    x=x+1  "
   ]
  },
  {
   "cell_type": "code",
   "execution_count": 54,
   "id": "772f2670",
   "metadata": {},
   "outputs": [
    {
     "name": "stdout",
     "output_type": "stream",
     "text": [
      "* * *\n",
      "*   *\n",
      "* *\n",
      "*  *\n",
      "*   *\n"
     ]
    }
   ],
   "source": [
    "x=0\n",
    "while x<5:\n",
    "    if x==0:\n",
    "        print(\"* * *\")\n",
    "    elif x==3 :\n",
    "        print(\"*  *\")\n",
    "    elif x==1 or x==4:\n",
    "        print(\"*   *\")\n",
    "    else:\n",
    "        print(\"* *\")\n",
    "    x=x+1  "
   ]
  },
  {
   "cell_type": "code",
   "execution_count": 55,
   "id": "d993f249",
   "metadata": {},
   "outputs": [
    {
     "name": "stdout",
     "output_type": "stream",
     "text": [
      "* * *\n",
      " *\n",
      "  *\n",
      "   *\n",
      "* * *\n"
     ]
    }
   ],
   "source": [
    "x=0\n",
    "while x<5:\n",
    "    if x==0 or x==4:\n",
    "        print(\"* * *\")\n",
    "    elif x==3 :\n",
    "        print(\"   *\")\n",
    "    elif x==2:\n",
    "        print(\"  *\")\n",
    "    elif x==1:\n",
    "        print(\" *\")\n",
    "    else:\n",
    "        print(\"  *\")\n",
    "    x=x+1  "
   ]
  },
  {
   "cell_type": "code",
   "execution_count": 56,
   "id": "ce5f9419",
   "metadata": {},
   "outputs": [
    {
     "name": "stdout",
     "output_type": "stream",
     "text": [
      "* * *\n",
      "  *\n",
      "  *\n",
      "  *\n",
      "  *\n"
     ]
    }
   ],
   "source": [
    "x=0\n",
    "while x<5:\n",
    "    if x==0:\n",
    "        print(\"* * *\")\n",
    "    else:\n",
    "        print(\"  *\")\n",
    "    x=x+1  "
   ]
  },
  {
   "cell_type": "code",
   "execution_count": 57,
   "id": "cff5fe43",
   "metadata": {},
   "outputs": [
    {
     "name": "stdout",
     "output_type": "stream",
     "text": [
      "*     *\n",
      "*     *\n",
      "*     *\n",
      "*     *\n",
      " * * *\n"
     ]
    }
   ],
   "source": [
    "x=0\n",
    "while x<5:\n",
    "    if x==4:\n",
    "        print(\" * * *\")\n",
    "    else:\n",
    "        print(\"*     *\")\n",
    "    x=x+1  "
   ]
  },
  {
   "cell_type": "code",
   "execution_count": 58,
   "id": "2bb7b8ee",
   "metadata": {},
   "outputs": [
    {
     "name": "stdout",
     "output_type": "stream",
     "text": [
      "*   *\n",
      " * *\n",
      "  *\n"
     ]
    }
   ],
   "source": [
    "x=0\n",
    "while x<3:\n",
    "    if x==0:\n",
    "        print(\"*   *\")\n",
    "    elif x==1:\n",
    "        print(\" * *\")\n",
    "    else:\n",
    "        print(\"  *\")\n",
    "    x=x+1  "
   ]
  },
  {
   "cell_type": "code",
   "execution_count": 61,
   "id": "b86f0e97",
   "metadata": {},
   "outputs": [
    {
     "name": "stdout",
     "output_type": "stream",
     "text": [
      "*   *   *\n",
      "*  * *  *\n",
      "* *  *  *\n",
      "**     **\n"
     ]
    }
   ],
   "source": [
    "x=0\n",
    "while x<4:\n",
    "    if x==0:\n",
    "        print(\"*   *   *\")\n",
    "    elif x==1:\n",
    "        print(\"*  * *  *\")\n",
    "    elif x==2:\n",
    "        print(\"* *  *  *\")\n",
    "    else:\n",
    "        print(\"**     **\")\n",
    "    x=x+1  "
   ]
  },
  {
   "cell_type": "code",
   "execution_count": 63,
   "id": "8c864d03",
   "metadata": {},
   "outputs": [
    {
     "name": "stdout",
     "output_type": "stream",
     "text": [
      "*   *\n",
      " * *\n",
      "  *\n",
      " * *\n",
      "*   *\n"
     ]
    }
   ],
   "source": [
    "x=0\n",
    "while x<5:\n",
    "    if x==0 or x==4:\n",
    "        print(\"*   *\")\n",
    "    elif x==1 or x==3:\n",
    "        print(\" * *\")\n",
    "    else:\n",
    "        print(\"  *\")\n",
    "    x=x+1  "
   ]
  },
  {
   "cell_type": "code",
   "execution_count": 64,
   "id": "715afd88",
   "metadata": {},
   "outputs": [
    {
     "name": "stdout",
     "output_type": "stream",
     "text": [
      "*   *\n",
      " * *\n",
      "  *\n",
      "  *\n",
      "  *\n"
     ]
    }
   ],
   "source": [
    "x=0\n",
    "while x<5:\n",
    "    if x==0 :\n",
    "        print(\"*   *\")\n",
    "    elif x==1 :\n",
    "        print(\" * *\")\n",
    "    else:\n",
    "        print(\"  *\")\n",
    "    x=x+1  "
   ]
  },
  {
   "cell_type": "code",
   "execution_count": 65,
   "id": "eb15131b",
   "metadata": {},
   "outputs": [
    {
     "name": "stdout",
     "output_type": "stream",
     "text": [
      "* * *\n",
      "   *\n",
      "  *\n",
      " *\n",
      "* * *\n"
     ]
    }
   ],
   "source": [
    "x=0\n",
    "while x<5:\n",
    "    if x==0 or x==4:\n",
    "        print(\"* * *\")\n",
    "    elif x==1 :\n",
    "        print(\"   *\")\n",
    "    elif x==2:\n",
    "        print(\"  *\")\n",
    "    elif x==3:\n",
    "        print(\" *\")\n",
    "    else:\n",
    "        print(\"  *\")\n",
    "    x=x+1  "
   ]
  },
  {
   "cell_type": "markdown",
   "id": "927be6c3",
   "metadata": {},
   "source": [
    "# printing patterns from a to z using 'while' :"
   ]
  },
  {
   "cell_type": "code",
   "execution_count": 5,
   "id": "273d0d86",
   "metadata": {},
   "outputs": [
    {
     "name": "stdout",
     "output_type": "stream",
     "text": [
      " * **\n",
      "*   *\n",
      "*   *\n",
      "*   *\n",
      " * * **\n"
     ]
    }
   ],
   "source": [
    "x=5\n",
    "while x>0:\n",
    "    if x==5:\n",
    "        print(\" * **\")\n",
    "    elif x==4 or x==3 or x==2:\n",
    "        print(\"*   *\")\n",
    "    else:\n",
    "        print(\" * * **\")\n",
    "    x=x-1    "
   ]
  },
  {
   "cell_type": "code",
   "execution_count": 9,
   "id": "8fe04e82",
   "metadata": {},
   "outputs": [
    {
     "name": "stdout",
     "output_type": "stream",
     "text": [
      "*\n",
      "*\n",
      "* * *\n",
      "*    *\n",
      "* * *\n"
     ]
    }
   ],
   "source": [
    "x=5\n",
    "while x>0:\n",
    "    if x==5 or x==4 :\n",
    "        print(\"*\")\n",
    "    elif x==3 or x==1:\n",
    "        print(\"* * *\")\n",
    "    else:\n",
    "        print(\"*    *\")\n",
    "    x=x-1    "
   ]
  },
  {
   "cell_type": "code",
   "execution_count": 11,
   "id": "b3d1986a",
   "metadata": {},
   "outputs": [
    {
     "name": "stdout",
     "output_type": "stream",
     "text": [
      " * * *\n",
      "*\n",
      "*\n",
      "*\n",
      " * * *\n"
     ]
    }
   ],
   "source": [
    "x=5\n",
    "while x>0:\n",
    "    if x==5 or x==1:\n",
    "        print(\" * * *\")\n",
    "    elif x==4 or x==3 or x==2:\n",
    "        print(\"*\")\n",
    "    x=x-1    \n",
    "    "
   ]
  },
  {
   "cell_type": "code",
   "execution_count": 13,
   "id": "52e571bd",
   "metadata": {},
   "outputs": [
    {
     "name": "stdout",
     "output_type": "stream",
     "text": [
      "     *\n",
      "     *\n",
      " * * *\n",
      "*    *\n",
      " * * *\n"
     ]
    }
   ],
   "source": [
    "x=5\n",
    "while x>0:\n",
    "    if x==3 or x==1:\n",
    "        print(\" * * *\")\n",
    "    elif x==5 or x==4:\n",
    "        print(\"     *\")\n",
    "    else:\n",
    "        print(\"*    *\")\n",
    "    x=x-1    \n",
    "    "
   ]
  },
  {
   "cell_type": "code",
   "execution_count": 16,
   "id": "af157b3c",
   "metadata": {},
   "outputs": [
    {
     "name": "stdout",
     "output_type": "stream",
     "text": [
      " * * *\n",
      "*    *\n",
      "* * *\n",
      "*\n",
      " * * *\n"
     ]
    }
   ],
   "source": [
    "x=5\n",
    "while x>0:\n",
    "    if x==5 or x==1:\n",
    "        print(\" * * *\")\n",
    "    elif x==4:\n",
    "        print(\"*    *\")\n",
    "    elif x==3:\n",
    "        print(\"* * *\")\n",
    "    elif x==2:\n",
    "        print(\"*\")\n",
    "    else:\n",
    "        print(\"* * *\")\n",
    "    x=x-1    \n",
    "    "
   ]
  },
  {
   "cell_type": "code",
   "execution_count": 21,
   "id": "50503282",
   "metadata": {},
   "outputs": [
    {
     "name": "stdout",
     "output_type": "stream",
     "text": [
      "   * * *\n",
      "  *    \n",
      "* * * *\n",
      "  *\n",
      "  *\n"
     ]
    }
   ],
   "source": [
    "x=5\n",
    "while x>0:\n",
    "    if x==5 :\n",
    "        print(\"   * * *\")\n",
    "    elif x==4:\n",
    "        print(\"  *    \")\n",
    "    elif x==3:\n",
    "        print(\"* * * *\")\n",
    "    else:\n",
    "        print(\"  *\")\n",
    "    x=x-1    \n",
    "    "
   ]
  },
  {
   "cell_type": "code",
   "execution_count": 27,
   "id": "9f441ea7",
   "metadata": {},
   "outputs": [
    {
     "name": "stdout",
     "output_type": "stream",
     "text": [
      " * * *\n",
      "*    *\n",
      " * * *\n",
      "     *\n",
      "*    *\n",
      " * * *\n"
     ]
    }
   ],
   "source": [
    "x=6\n",
    "while x>0:\n",
    "    if x==6 or x==1:\n",
    "        print(\" * * *\")\n",
    "    elif x==5 or x==2:\n",
    "        print(\"*    *\")\n",
    "    elif x==4:\n",
    "        print(\" * * *\")\n",
    "        \n",
    "    else :\n",
    "        print(\"     *\")\n",
    "    x=x-1    \n",
    "    "
   ]
  },
  {
   "cell_type": "code",
   "execution_count": 31,
   "id": "51b19f69",
   "metadata": {},
   "outputs": [
    {
     "name": "stdout",
     "output_type": "stream",
     "text": [
      "*\n",
      "*\n",
      "*  *  *\n",
      "*     *\n",
      "*     *\n"
     ]
    }
   ],
   "source": [
    "x=5\n",
    "while x>0:\n",
    "    if x==5 or x==4:\n",
    "        print(\"*\")\n",
    "    elif x==3:\n",
    "        print(\"*  *  *\")\n",
    "    else:\n",
    "        print(\"*     *\")\n",
    "    x=x-1    \n",
    "    "
   ]
  },
  {
   "cell_type": "code",
   "execution_count": 36,
   "id": "ec48f714",
   "metadata": {},
   "outputs": [
    {
     "name": "stdout",
     "output_type": "stream",
     "text": [
      "*\n",
      " \n",
      "*\n",
      "*\n",
      "*\n"
     ]
    }
   ],
   "source": [
    "x=5\n",
    "while x>0:\n",
    "    if x==5 :\n",
    "        print(\"*\")\n",
    "    elif x==3 or x==2 or x==1:\n",
    "        print(\"*\")\n",
    "    else:\n",
    "        print(\" \")\n",
    "    x=x-1    \n",
    "    "
   ]
  },
  {
   "cell_type": "code",
   "execution_count": 44,
   "id": "0830df63",
   "metadata": {},
   "outputs": [
    {
     "name": "stdout",
     "output_type": "stream",
     "text": [
      "   *\n",
      " \n",
      "   *\n",
      "   *\n",
      "   *\n",
      "*  *\n",
      " **\n"
     ]
    }
   ],
   "source": [
    "x=7\n",
    "\n",
    "while x>0:\n",
    "    if x==7:\n",
    "        print(\"   *\")\n",
    "    elif x==3 or x==4 or x==5:\n",
    "        print(\"   *\")\n",
    "    elif x==2 :\n",
    "        print(\"*  *\")\n",
    "    elif x==1:\n",
    "        print(\" **\")\n",
    "    else:\n",
    "        print(\" \")\n",
    "    x=x-1    \n",
    "    "
   ]
  },
  {
   "cell_type": "code",
   "execution_count": 45,
   "id": "e454f1c6",
   "metadata": {},
   "outputs": [
    {
     "name": "stdout",
     "output_type": "stream",
     "text": [
      "*\n",
      "*\n",
      "*  *\n",
      "**\n",
      "*  *\n"
     ]
    }
   ],
   "source": [
    "x=5\n",
    "while x>0:\n",
    "    if x==5  or x==4:\n",
    "        print(\"*\")\n",
    "    elif x==3 or x==1 :\n",
    "        print(\"*  *\")\n",
    "    else:\n",
    "        print(\"**\")\n",
    "    x=x-1    \n",
    "    "
   ]
  },
  {
   "cell_type": "code",
   "execution_count": 48,
   "id": "1ed90471",
   "metadata": {},
   "outputs": [
    {
     "name": "stdout",
     "output_type": "stream",
     "text": [
      " * \n",
      " * \n",
      " * \n",
      " * \n",
      "* * \n"
     ]
    }
   ],
   "source": [
    "x=5\n",
    "while x>0:\n",
    "    if x==1:\n",
    "        print(\"* * \")\n",
    "    else:\n",
    "        print(\" * \")\n",
    "    x=x-1    \n",
    "    "
   ]
  },
  {
   "cell_type": "code",
   "execution_count": 57,
   "id": "a4d857e2",
   "metadata": {},
   "outputs": [
    {
     "name": "stdout",
     "output_type": "stream",
     "text": [
      "*  *   *\n",
      "  *  *  *\n",
      "  *  *  *\n",
      "  *  *  *\n",
      "  *  *  *\n"
     ]
    }
   ],
   "source": [
    "x=5\n",
    "while x>0:\n",
    "    if x==4 or  x==3 or x==2 or x==1:\n",
    "        print(\"  *  *  *\")\n",
    "    else:\n",
    "        print(\"*  *   *\")\n",
    "    x=x-1    \n",
    "    "
   ]
  },
  {
   "cell_type": "code",
   "execution_count": 60,
   "id": "f4f9182b",
   "metadata": {},
   "outputs": [
    {
     "name": "stdout",
     "output_type": "stream",
     "text": [
      "*   *  *\n",
      "  *     *\n",
      "  *     *\n",
      "  *     *\n",
      "  *     *\n"
     ]
    }
   ],
   "source": [
    "x=5\n",
    "while x>0:\n",
    "    if x==4 or  x==3 or x==2 or x==1:\n",
    "        print(\"  *     *\")\n",
    "    else:\n",
    "        print(\"*   *  *\")\n",
    "    x=x-1    \n",
    "    "
   ]
  },
  {
   "cell_type": "code",
   "execution_count": 63,
   "id": "9d404af0",
   "metadata": {},
   "outputs": [
    {
     "name": "stdout",
     "output_type": "stream",
     "text": [
      " *  *  *\n",
      "*       *\n",
      "*       *\n",
      "*       *\n",
      " *  *  *\n"
     ]
    }
   ],
   "source": [
    "x=5\n",
    "while x>0:\n",
    "    if x==4 or  x==3 or x==2:\n",
    "        print(\"*       *\")\n",
    "    else:\n",
    "        print(\" *  *  *\")\n",
    "    x=x-1    "
   ]
  },
  {
   "cell_type": "code",
   "execution_count": 68,
   "id": "d83d9e14",
   "metadata": {},
   "outputs": [
    {
     "name": "stdout",
     "output_type": "stream",
     "text": [
      "*\n",
      "*  *  *\n",
      "*     *\n",
      "*  *  *\n",
      "*\n",
      "*\n"
     ]
    }
   ],
   "source": [
    "x=6\n",
    "while x>0:\n",
    "    if x==5 or x==3:\n",
    "        print(\"*  *  *\")\n",
    "    elif x==6  or x==1 or x==2:\n",
    "        print(\"*\")\n",
    "    else:\n",
    "        print(\"*     *\")\n",
    "    x=x-1    "
   ]
  },
  {
   "cell_type": "code",
   "execution_count": 76,
   "id": "e4495056",
   "metadata": {},
   "outputs": [
    {
     "name": "stdout",
     "output_type": "stream",
     "text": [
      " *  *\n",
      "*    *\n",
      " *  *\n",
      "     *   *\n",
      "      * *\n",
      "       *\n"
     ]
    }
   ],
   "source": [
    "x=6\n",
    "while x>0:\n",
    "    if x==6 or x==4:\n",
    "        print(\" *  *\")\n",
    "    elif x==5:\n",
    "        print(\"*    *\")\n",
    "    elif x==3:\n",
    "        print(\"     *   *\")\n",
    "    elif x==2:\n",
    "        print(\"      * *\")\n",
    "    else:\n",
    "        print(\"       *\")\n",
    "    x=x-1    "
   ]
  },
  {
   "cell_type": "code",
   "execution_count": 78,
   "id": "53dfc970",
   "metadata": {},
   "outputs": [
    {
     "name": "stdout",
     "output_type": "stream",
     "text": [
      "*    *\n",
      "  *\n",
      " * *\n",
      " * *\n",
      " * *\n",
      "  *\n"
     ]
    }
   ],
   "source": [
    "x=6\n",
    "while x>0:\n",
    "    if x==6:\n",
    "        print(\"*    *\")\n",
    "    elif x==5 or x==1:\n",
    "        print(\"  *\")\n",
    "    else:\n",
    "        print(\" * *\")\n",
    "    x=x-1   "
   ]
  },
  {
   "cell_type": "code",
   "execution_count": 88,
   "id": "9bc9edc1",
   "metadata": {},
   "outputs": [
    {
     "name": "stdout",
     "output_type": "stream",
     "text": [
      "*  *  *\n",
      "*     *\n",
      "  *\n",
      "    *\n",
      "      *\n",
      "*     *\n",
      "*  *  *\n"
     ]
    }
   ],
   "source": [
    "x=7\n",
    "while x>0:\n",
    "    if x==7 or x==1:\n",
    "        print(\"*  *  *\")\n",
    "    elif x==6 :\n",
    "        print(\"*     *\")\n",
    "    elif x==5:\n",
    "        print(\"  *\")\n",
    "    elif x==4:\n",
    "        print(\"    *\")\n",
    "    elif x==3:\n",
    "        print(\"      *\")\n",
    "    else:\n",
    "        print(\"*     *\")\n",
    "    x=x-1    "
   ]
  },
  {
   "cell_type": "code",
   "execution_count": 91,
   "id": "738647ac",
   "metadata": {},
   "outputs": [
    {
     "name": "stdout",
     "output_type": "stream",
     "text": [
      "  *\n",
      "* * *\n",
      "  *\n",
      "  *\n",
      "  *  *\n",
      "   **\n"
     ]
    }
   ],
   "source": [
    "x=5\n",
    "while x>=0:\n",
    "    if x==5 or x==3 or x==2:\n",
    "        print(\"  *\")\n",
    "    elif x==4:\n",
    "        print(\"* * *\")\n",
    "    elif x==1:\n",
    "        print(\"  *  *\")\n",
    "    else:\n",
    "        print(\"   **\")\n",
    "    x=x-1    "
   ]
  },
  {
   "cell_type": "code",
   "execution_count": 98,
   "id": "048c83e2",
   "metadata": {},
   "outputs": [
    {
     "name": "stdout",
     "output_type": "stream",
     "text": [
      "  *     *\n",
      "  *     *\n",
      "  *     *\n",
      "  *     *\n",
      "  *     *\n",
      "*  *  *\n"
     ]
    }
   ],
   "source": [
    "x=5\n",
    "while x>=0:\n",
    "    if x==5 or x==4 or x==3 or x==2 or x==1:\n",
    "        print(\"  *     *\")\n",
    "    else:\n",
    "        print(\"*  *  *\")\n",
    "    x=x-1    "
   ]
  },
  {
   "cell_type": "code",
   "execution_count": 100,
   "id": "a7d73917",
   "metadata": {},
   "outputs": [
    {
     "name": "stdout",
     "output_type": "stream",
     "text": [
      "*        *\n",
      " *      *\n",
      "  *    *\n",
      "   *  *\n",
      "    **\n"
     ]
    }
   ],
   "source": [
    "x=5\n",
    "while x>0:\n",
    "    if x==5:\n",
    "        print(\"*        *\")\n",
    "    elif x==4:\n",
    "        print(\" *      *\")\n",
    "    elif x==3:\n",
    "        print(\"  *    *\")\n",
    "    elif x==2:\n",
    "        print(\"   *  *\")\n",
    "    elif x==1:\n",
    "        print(\"    **\")\n",
    "    else:\n",
    "        print(\"     *\")\n",
    "    x=x-1    "
   ]
  },
  {
   "cell_type": "code",
   "execution_count": 105,
   "id": "92895c9a",
   "metadata": {},
   "outputs": [
    {
     "name": "stdout",
     "output_type": "stream",
     "text": [
      "*   *   *\n",
      "*   *   *\n",
      "*   *   *\n",
      "*   *   *\n",
      " * * * *\n"
     ]
    }
   ],
   "source": [
    "x=5\n",
    "while x>0:\n",
    "    if x==5 or x==4 or x==3:\n",
    "        print(\"*   *   *\")\n",
    "    elif x==2:\n",
    "        print(\"*   *   *\")\n",
    "    elif x==1:\n",
    "        print(\" * * * *\")\n",
    "    else:\n",
    "        print(\" *    *\")\n",
    "    x=x-1    "
   ]
  },
  {
   "cell_type": "code",
   "execution_count": 107,
   "id": "22f505aa",
   "metadata": {},
   "outputs": [
    {
     "name": "stdout",
     "output_type": "stream",
     "text": [
      " *      *\n",
      "*  *  *   *\n",
      "    **\n",
      "    **\n",
      "*  *  *   *\n",
      " *      *\n"
     ]
    }
   ],
   "source": [
    "x=5\n",
    "while x>=0:\n",
    "    if x==5 or x==0:\n",
    "        print(\" *      *\")\n",
    "    elif x==4 or x==1:\n",
    "        print(\"*  *  *   *\")\n",
    "    elif x==3 or x==2:\n",
    "        print(\"    **\")\n",
    "\n",
    "    x=x-1    "
   ]
  },
  {
   "cell_type": "code",
   "execution_count": 112,
   "id": "883aabcb",
   "metadata": {},
   "outputs": [
    {
     "name": "stdout",
     "output_type": "stream",
     "text": [
      "*   *\n",
      "*   *\n",
      "* * *\n",
      "    *\n",
      "*   *\n",
      " * *\n"
     ]
    }
   ],
   "source": [
    "x=5\n",
    "while x>=0:\n",
    "    if x==5 or x==4 or x==1:\n",
    "        print(\"*   *\")\n",
    "    elif x==3:\n",
    "        print(\"* * *\")\n",
    "    elif x==2:\n",
    "        print(\"    *\")\n",
    "    else:\n",
    "        print(\" * *\")\n",
    "    x=x-1    "
   ]
  },
  {
   "cell_type": "code",
   "execution_count": 117,
   "id": "e2c1fc7e",
   "metadata": {},
   "outputs": [
    {
     "name": "stdout",
     "output_type": "stream",
     "text": [
      "* * *\n",
      "    *\n",
      "  *\n",
      " *\n",
      "*\n",
      "* * *\n"
     ]
    }
   ],
   "source": [
    "x=5\n",
    "while x>=0:\n",
    "    if x==0 or x==5:\n",
    "        print(\"* * *\")\n",
    "    elif x==4 :\n",
    "        print(\"    *\")\n",
    "    elif x==3:\n",
    "        print(\"  *\")\n",
    "    elif x==2:\n",
    "        print(\" *\")\n",
    "    elif x==1:\n",
    "        print(\"*\")\n",
    "    else:\n",
    "        print(\"  *\")\n",
    "    x=x-1  "
   ]
  },
  {
   "cell_type": "code",
   "execution_count": null,
   "id": "30e88ac2",
   "metadata": {},
   "outputs": [],
   "source": []
  }
 ],
 "metadata": {
  "kernelspec": {
   "display_name": "Python 3 (ipykernel)",
   "language": "python",
   "name": "python3"
  },
  "language_info": {
   "codemirror_mode": {
    "name": "ipython",
    "version": 3
   },
   "file_extension": ".py",
   "mimetype": "text/x-python",
   "name": "python",
   "nbconvert_exporter": "python",
   "pygments_lexer": "ipython3",
   "version": "3.10.9"
  }
 },
 "nbformat": 4,
 "nbformat_minor": 5
}
