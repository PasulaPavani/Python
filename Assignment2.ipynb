{
 "cells": [
  {
   "cell_type": "code",
   "execution_count": 4,
   "id": "863be774",
   "metadata": {},
   "outputs": [
    {
     "name": "stdout",
     "output_type": "stream",
     "text": [
      "6\n",
      "7\n",
      "The product of two given numbers 6 and 7 is 42\n",
      "The division of two given numbers 6 and 7 is 0.8571428571428571\n"
     ]
    }
   ],
   "source": [
    "# 1) Write a program to accept two numbers from the user and calculate multiplication, division\n",
    "t=(\"Enter  a number two numbers to be multiplid and divided\")\n",
    "first_num=int(input())\n",
    "second_num=int(input())\n",
    "print(\"The product of two given numbers \" +str(first_num)+\" and \" + str(second_num)+ \" is \" + str(first_num*second_num))\n",
    "print(\"The division of two given numbers \" +str(first_num)+\" and \" + str(second_num)+ \" is \" + str(first_num/second_num))"
   ]
  },
  {
   "cell_type": "code",
   "execution_count": 10,
   "id": "4f8186b2",
   "metadata": {},
   "outputs": [
    {
     "name": "stdout",
     "output_type": "stream",
     "text": [
      "Enter a string : String\n",
      "Srn\n"
     ]
    }
   ],
   "source": [
    "#2)Write a python program to print the characters from a string that are present at an even index\n",
    "\n",
    "st=input(\"Enter a string : \")\n",
    "f=\"\"\n",
    "for i in range(0,len(st)):\n",
    "    if i % 2==0:\n",
    "        f+=st[i]\n",
    "    else:\n",
    "        continue\n",
    "print(f)        "
   ]
  },
  {
   "cell_type": "code",
   "execution_count": 9,
   "id": "039c31c7",
   "metadata": {},
   "outputs": [
    {
     "name": "stdout",
     "output_type": "stream",
     "text": [
      "Enter a string : string\n",
      "tig\n"
     ]
    }
   ],
   "source": [
    "#3)Write a python program to print the characters from a string that are present at an odd index\n",
    "st=input(\"Enter a string : \")\n",
    "f=\"\"\n",
    "for i in range(0,len(st)):\n",
    "    if i % 2!=0:\n",
    "        f+=st[i]\n",
    "    else:\n",
    "        continue\n",
    "print(f)        "
   ]
  },
  {
   "cell_type": "code",
   "execution_count": 12,
   "id": "f494f571",
   "metadata": {},
   "outputs": [
    {
     "name": "stdout",
     "output_type": "stream",
     "text": [
      "Enter 1st number :4\n",
      "Enter 2nd number :4\n",
      "Sum of 2 numbers is : 8\n"
     ]
    }
   ],
   "source": [
    "#4)Write a python program which will print the sum of the two numbers if the two numbers are even or it will print the difference of two numbers\n",
    "first_num=int(input(\"Enter 1st number :\"))\n",
    "second_num=int(input(\"Enter 2nd number :\"))\n",
    "if first_num%2==0 and second_num%2==0:\n",
    "    print(\"Sum of 2 numbers is :\",first_num+second_num)\n",
    "else:\n",
    "    print(\"Difference of two numbers is : \",first_num-second_num)"
   ]
  },
  {
   "cell_type": "code",
   "execution_count": 15,
   "id": "f2b182c6",
   "metadata": {},
   "outputs": [
    {
     "name": "stdout",
     "output_type": "stream",
     "text": [
      "enter a string :StringS\n",
      "StRiNgS\n"
     ]
    }
   ],
   "source": [
    "#5)Write a python program to convert all even indexed alphabets to upper and odd indexed char\n",
    "st=input(\"enter a string :\")\n",
    "s=\"\"\n",
    "for i in range(0,len(st)):\n",
    "    if i%2==0:\n",
    "        s+=st[i].upper()\n",
    "    else:\n",
    "        s+=st[i].lower()\n",
    "print(s)        \n",
    "    "
   ]
  },
  {
   "cell_type": "code",
   "execution_count": 19,
   "id": "9c0ef31c",
   "metadata": {},
   "outputs": [
    {
     "name": "stdout",
     "output_type": "stream",
     "text": [
      "enter a number 7\n",
      "False\n"
     ]
    }
   ],
   "source": [
    "#6)Write a python program which will print True if the input number is divisible by 5 or else False\n",
    "integer=int(input(\"enter a number \"))\n",
    "if integer%5==0:\n",
    "    print(\"True\")\n",
    "else:\n",
    "    print(\"False\")"
   ]
  },
  {
   "cell_type": "code",
   "execution_count": 21,
   "id": "6e4fc62c",
   "metadata": {},
   "outputs": [
    {
     "name": "stdout",
     "output_type": "stream",
     "text": [
      "enter any integer 23\n",
      "enter any integer 4\n",
      "Sum of the given numbers is  46\n"
     ]
    }
   ],
   "source": [
    "#7) Given two integer numbers return their product only if the product is greater than 1000, else return their sum.\n",
    "a1=int(input(\"enter any integer \"))\n",
    "a2=int(input(\"enter any integer \"))\n",
    "if a1*a2>1000:\n",
    "    print(\"Product of the given numbers is \",a1*a2)\n",
    "else:\n",
    "    print(\"Sum of the given numbers is \",a1+a1)\n"
   ]
  },
  {
   "cell_type": "code",
   "execution_count": 27,
   "id": "dac8972e",
   "metadata": {},
   "outputs": [
    {
     "name": "stdout",
     "output_type": "stream",
     "text": [
      "Enter 1st string :STRING\n",
      "Enter 2nd string :string\n",
      "SsIiGg\n"
     ]
    }
   ],
   "source": [
    "#8)Given two strings x, y write a program to return a newstring made of x and y’s first, middle, and last characters\n",
    "#Example:Input\n",
    "#X= ”pytho” Y= ”javas”\n",
    "#Output ”pjtvos”\n",
    "\n",
    "s1=input(\"Enter 1st string :\")\n",
    "s2=input(\"Enter 2nd string :\")\n",
    "s3=len(s1)//2\n",
    "s4=len(s2)//2\n",
    "print(s1[0]+s2[0]+s1[s3]+s2[s4]+s1[-1]+s2[-1])"
   ]
  },
  {
   "cell_type": "code",
   "execution_count": 38,
   "id": "917556d8",
   "metadata": {},
   "outputs": [
    {
     "name": "stdout",
     "output_type": "stream",
     "text": [
      "Enter any 3 names using space between namesPavani Siri Sravanthi\n",
      "3\n",
      "Name1 - Pavani\n",
      "Name2 - Siri\n",
      "Name3 - Sravanthi\n"
     ]
    }
   ],
   "source": [
    "#9)Write a python program to take three names as input from a user in the single input () function call\n",
    "#Example:Input:\n",
    "#Enter three names: - “person1 person2 person3”\n",
    "#Output:\n",
    "#Name1: - “person1” \n",
    "#Name2: - “person2” \n",
    "#Name3: - “person3”\n",
    "\n",
    "names=input(\"Enter any 3 names using space between names\")\n",
    "f=names.split(\" \")\n",
    "print(len(f))\n",
    "for k in range(0,3):\n",
    "    print(\"Name\"+str(k+1)+\" - \"+f[k])"
   ]
  },
  {
   "cell_type": "code",
   "execution_count": 42,
   "id": "eca6db99",
   "metadata": {},
   "outputs": [
    {
     "name": "stdout",
     "output_type": "stream",
     "text": [
      "Enter any string: stringstress\n",
      "first char of the string :  s\n",
      "string@tre@@\n"
     ]
    }
   ],
   "source": [
    "#10)Write a Python program to get a string from a given string where all occurrences of its first char have been changed to '@', except the first char itself. \n",
    "#Example: Input:'malayalam’\n",
    "#Output: 'malayala@'\n",
    "#Input: ' abcabab'\n",
    "#Output:‘abc@b@b’\n",
    "\n",
    "st=input(\"Enter any string: \")\n",
    "print(\"first char of the string : \",st[0])\n",
    "st2=st[0]\n",
    "st3=st[0]+\"\"\n",
    "for x in range(1,len(st)):\n",
    "    if st[x]==st2:\n",
    "        st3+=\"@\"\n",
    "    else:\n",
    "        st3+=st[x]\n",
    "print(st3)        "
   ]
  },
  {
   "cell_type": "code",
   "execution_count": 58,
   "id": "df009d31",
   "metadata": {},
   "outputs": [
    {
     "name": "stdout",
     "output_type": "stream",
     "text": [
      "Enter any string :playing\n",
      "playly\n"
     ]
    }
   ],
   "source": [
    "#11)Write a Python program to add 'ing' at the end of a given string (string length should be equal to or more than 3). If the given string already ends with 'ing' then add 'ly' instead. If the string length of the given string is less than 3, leave it unchanged\n",
    "#Example:Input:\n",
    "#'sing’\n",
    "#Output:'singing'\n",
    "#Input:' playing'\n",
    "#Output:‘playly’\n",
    "#Input:' on'\n",
    "#Output:‘on’\n",
    "\n",
    "a=input(\"Enter any string :\")\n",
    "if len(a)<=3:\n",
    "    print(a)\n",
    "elif a.endswith(\"ing\"):\n",
    "     \n",
    "    print(str(a[0:-3]+\"ly\"))\n",
    "else:\n",
    "    print(a+\"ing\")\n",
    "        "
   ]
  },
  {
   "cell_type": "code",
   "execution_count": 61,
   "id": "eefb9020",
   "metadata": {},
   "outputs": [
    {
     "name": "stdout",
     "output_type": "stream",
     "text": [
      "Enter a number: 3\n",
      "Enetr a number: 3\n",
      "False\n"
     ]
    }
   ],
   "source": [
    "#12)Write a python program that accepts two inputs num1 and num2 print True if one of them is 10 or if their sum is 10 otherwise print False\n",
    "\n",
    "num1=int(input(\"Enter a number: \"))\n",
    "num2=int(input(\"Enetr a number: \"))\n",
    "if num1==10 or num2==10 or num1+num2==10:\n",
    "    print(True)\n",
    "else:\n",
    "    print(False)\n"
   ]
  },
  {
   "cell_type": "code",
   "execution_count": 63,
   "id": "18ea3823",
   "metadata": {},
   "outputs": [
    {
     "name": "stdout",
     "output_type": "stream",
     "text": [
      "enter any number :2\n",
      "enter any number : 3\n",
      "enter any number : 1\n",
      "True\n"
     ]
    }
   ],
   "source": [
    "#13) Write a python program that accepts three inputs x, y and z print True if x*y>z otherwise False\n",
    "x=int(input(\"enter any number :\"))\n",
    "y=int(input(\"enter any number : \"))\n",
    "z=int(input(\"enter any number : \"))\n",
    "if x*y>z:\n",
    "    print(True)\n",
    "else:\n",
    "    print(False)"
   ]
  },
  {
   "cell_type": "code",
   "execution_count": 69,
   "id": "13fc7f85",
   "metadata": {},
   "outputs": [
    {
     "name": "stdout",
     "output_type": "stream",
     "text": [
      "enter the of 1st string qwerty\n",
      "enter the of 2nd string asdfg\n",
      "False\n"
     ]
    }
   ],
   "source": [
    "#14) Write a python program that accepts two strings inputs return True depending on whether the total number of characters in the first string is equal to the total number of characters in the second string\n",
    "st1=input(\"enter the of 1st string \")\n",
    "st2=input(\"enter the of 2nd string \")\n",
    "if len(st1)==len(st2):\n",
    "    print(True)\n",
    "else:\n",
    "    print(False)"
   ]
  },
  {
   "cell_type": "code",
   "execution_count": 70,
   "id": "738579ef",
   "metadata": {},
   "outputs": [
    {
     "name": "stdout",
     "output_type": "stream",
     "text": [
      "Enter a string sting\n",
      "stististi\n"
     ]
    }
   ],
   "source": [
    "#15) Write a python program that takes a string input, we'll say that the front is the first three characters of the string. If the string length is less than three characters, the front is whatever is there. Return a new string, which is three copies of the front\n",
    "st=input(\"Enter a string \")\n",
    "if len(st)<3:\n",
    "    print(st)\n",
    "else:\n",
    "    print(st[0:3]*3)"
   ]
  },
  {
   "cell_type": "code",
   "execution_count": 71,
   "id": "7bbf327b",
   "metadata": {},
   "outputs": [
    {
     "name": "stdout",
     "output_type": "stream",
     "text": [
      "enter a string strings\n",
      "Given str is plural\n"
     ]
    }
   ],
   "source": [
    "#16) Write a python program that takes in a word and determines whether or not it is plural. A plural word is one that ends in \"s\".\n",
    "st=input(\"enter a string \")\n",
    "if st.endswith(\"s\"):\n",
    "    print(\"Given str is plural\")\n",
    "else:\n",
    "    print(\"Given str is not plural\")"
   ]
  },
  {
   "cell_type": "code",
   "execution_count": 73,
   "id": "27bd9f13",
   "metadata": {},
   "outputs": [
    {
     "name": "stdout",
     "output_type": "stream",
     "text": [
      "enter the age 3\n",
      "Do not serve a drink\n"
     ]
    }
   ],
   "source": [
    "#17) A bartender is writing a simple program to determine whether he should serve drinks to someone. He only serves drinks to people 18 and older\n",
    "age=int(input(\"enter the age \"))\n",
    "if age>=18:\n",
    "    print(\"Serve a drink\")\n",
    "else:\n",
    "    print(\"Do not serve a drink\")"
   ]
  },
  {
   "cell_type": "code",
   "execution_count": 78,
   "id": "5eed0131",
   "metadata": {},
   "outputs": [
    {
     "name": "stdout",
     "output_type": "stream",
     "text": [
      "Enter the name of the person Kavitha\n",
      "Kavitha is Sister of Manoj\n"
     ]
    }
   ],
   "source": [
    "#18) Manoj Kumar has family and friends. Help him remind them who is who.\n",
    "#Given a string with a name, return the relation of that person to Manoj Kumar.\n",
    "#Person----Relation\n",
    "#Venkat   -  father\n",
    "#Letha   -  mother\n",
    "#Tarun   -  brother\n",
    "#Kavitha -  sister\n",
    "p=input(\"Enter the name of the person \")\n",
    "person=[\"Venkat\",\"Letha\",\"Tarun\",\"Kavitha\"]\n",
    "rel=[\"Father\",\"Mother\",\"Brother\",\"Sister\"]\n",
    "if p==person[0]:\n",
    "    print(person[0]+\" is \"+rel[0]+ \" of Manoj\")\n",
    "elif p==person[1]:\n",
    "    print(person[1]+\" is \"+rel[1]+ \" of Manoj\")\n",
    "elif p==person[2]:\n",
    "    print(person[2]+\" is \"+rel[2]+ \" of Manoj\")\n",
    "elif p==person[3]:\n",
    "    print(person[3]+\" is \"+rel[3]+ \" of Manoj\")    \n",
    "else:\n",
    "    print(\"There exists no relation\")\n",
    "\n"
   ]
  },
  {
   "cell_type": "code",
   "execution_count": 81,
   "id": "e21d06bb",
   "metadata": {},
   "outputs": [
    {
     "name": "stdout",
     "output_type": "stream",
     "text": [
      "Enter a string Sqwertyuiopl\n",
      "euio\n",
      "Sqwrtypl\n"
     ]
    }
   ],
   "source": [
    "#19) Write a python program that takes a string, breaks it up and returns it with vowels first, consonants second. For any character that's not a vowel (like special characters or spaces), treat them like consonants\n",
    "st=input(\"Enter a string \")\n",
    "vowels=\"\"\n",
    "consonants=\"\"\n",
    "for g in range(0,len(st)):\n",
    "    if st[g]==\"a\" or st[g]==\"A\" or st[g]==\"e\" or st[g]==\"E\" or st[g]==\"i\" or st[g]==\"I\" or st[g]==\"o\" or st[g]==\"O\" or st[g]==\"u\" or st[g]==\"U\":\n",
    "       vowels+=st[g]\n",
    "    else:\n",
    "        consonants+=st[g]\n",
    "print(vowels) \n",
    "print(consonants)\n",
    "        \n",
    "    "
   ]
  },
  {
   "cell_type": "code",
   "execution_count": null,
   "id": "8845b84a",
   "metadata": {},
   "outputs": [],
   "source": []
  },
  {
   "cell_type": "code",
   "execution_count": null,
   "id": "9811368f",
   "metadata": {},
   "outputs": [],
   "source": []
  }
 ],
 "metadata": {
  "kernelspec": {
   "display_name": "Python 3 (ipykernel)",
   "language": "python",
   "name": "python3"
  },
  "language_info": {
   "codemirror_mode": {
    "name": "ipython",
    "version": 3
   },
   "file_extension": ".py",
   "mimetype": "text/x-python",
   "name": "python",
   "nbconvert_exporter": "python",
   "pygments_lexer": "ipython3",
   "version": "3.10.9"
  }
 },
 "nbformat": 4,
 "nbformat_minor": 5
}
