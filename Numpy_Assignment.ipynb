{
 "cells": [
  {
   "cell_type": "code",
   "execution_count": 1,
   "id": "abcd46a7",
   "metadata": {},
   "outputs": [],
   "source": [
    "import numpy as np"
   ]
  },
  {
   "cell_type": "code",
   "execution_count": 2,
   "id": "fb4afe40",
   "metadata": {},
   "outputs": [],
   "source": [
    "tip=np.genfromtxt(r\"C:\\Users\\LENOVO\\Documents\\today\\tipsf.csv\",dtype=float,delimiter=\",\",skip_header=1)"
   ]
  },
  {
   "cell_type": "code",
   "execution_count": 3,
   "id": "1a146d74",
   "metadata": {},
   "outputs": [
    {
     "data": {
      "text/plain": [
       "array([[  0.  ,  16.99,   1.01, ...,   1.  ,   0.  ,   2.  ],\n",
       "       [  1.  ,  10.34,   1.66, ...,   1.  ,   0.  ,   3.  ],\n",
       "       [  2.  ,  21.01,   3.5 , ...,   1.  ,   0.  ,   3.  ],\n",
       "       ...,\n",
       "       [241.  ,  22.67,   2.  , ...,   0.  ,   0.  ,   2.  ],\n",
       "       [242.  ,  17.82,   1.75, ...,   0.  ,   0.  ,   2.  ],\n",
       "       [243.  ,  18.78,   3.  , ...,   2.  ,   0.  ,   2.  ]])"
      ]
     },
     "execution_count": 3,
     "metadata": {},
     "output_type": "execute_result"
    }
   ],
   "source": [
    "tip"
   ]
  },
  {
   "cell_type": "code",
   "execution_count": 20,
   "id": "e61ff62b",
   "metadata": {},
   "outputs": [
    {
     "name": "stdout",
     "output_type": "stream",
     "text": [
      "Total_bill value is :  4827.77\n"
     ]
    }
   ],
   "source": [
    "#1.What is total_bill value\n",
    "t=np.sum(tip[:,1],axis=0)\n",
    "print(\"Total_bill value is : \",t)"
   ]
  },
  {
   "cell_type": "code",
   "execution_count": 21,
   "id": "4bd59641",
   "metadata": {},
   "outputs": [
    {
     "name": "stdout",
     "output_type": "stream",
     "text": [
      "total_tip value is  731.5799999999999\n"
     ]
    }
   ],
   "source": [
    "#2.what is total_tip value\n",
    "k=np.sum(tip[:,2],axis=0)\n",
    "print(\"total_tip value is \",k)"
   ]
  },
  {
   "cell_type": "code",
   "execution_count": 22,
   "id": "50190fce",
   "metadata": {},
   "outputs": [
    {
     "name": "stdout",
     "output_type": "stream",
     "text": [
      "Count on sunday :  87\n",
      "Count on saturdays :  76\n",
      "Count on Thursday :  62\n",
      "Count on Friday :  19\n"
     ]
    }
   ],
   "source": [
    "#3.Count of sundays , saturdays,friday,tursday\n",
    "l=np.unique(tip[:,5],return_counts=True)\n",
    "print(\"Count on sunday : \",l[1][0])\n",
    "print(\"Count on saturdays : \",l[1][1])\n",
    "print(\"Count on Thursday : \",l[1][2])\n",
    "print(\"Count on Friday : \",l[1][3])"
   ]
  },
  {
   "cell_type": "code",
   "execution_count": 7,
   "id": "e27f9c8a",
   "metadata": {},
   "outputs": [
    {
     "name": "stdout",
     "output_type": "stream",
     "text": [
      "(array([0., 1.]), array([151,  93], dtype=int64))\n",
      "count of people who smoke: 93\n",
      "count of people who do not smoke :  151\n"
     ]
    }
   ],
   "source": [
    "#4.How many people will smoke\n",
    "k=np.unique(tip[:,4],return_counts=True)\n",
    "print(k)\n",
    "print(\"count of people who smoke:\",k[1][1])\n",
    "print(\"count of people who do not smoke : \",k[1][0])"
   ]
  },
  {
   "cell_type": "code",
   "execution_count": 12,
   "id": "6b09900a",
   "metadata": {},
   "outputs": [
    {
     "name": "stdout",
     "output_type": "stream",
     "text": [
      "number of females are  87\n",
      "number of males are  157\n"
     ]
    }
   ],
   "source": [
    "#5.number of females(0),males(1)\n",
    "j=np.unique(tip[:,3],return_counts=True)\n",
    "print(\"number of females are \",j[1][0])\n",
    "print(\"number of males are \",j[1][1])"
   ]
  },
  {
   "cell_type": "code",
   "execution_count": 13,
   "id": "415e570d",
   "metadata": {},
   "outputs": [
    {
     "name": "stdout",
     "output_type": "stream",
     "text": [
      "Average of te tips is  22.784221311475413\n"
     ]
    }
   ],
   "source": [
    "#average of the tips given \n",
    "if np.where(tip[:,3]==0):\n",
    "        p=np.average(tip[:,1]+tip[:,2],axis=0)\n",
    "print(\"Average of the tips is \",p)    "
   ]
  },
  {
   "cell_type": "code",
   "execution_count": 23,
   "id": "a7a15ed3",
   "metadata": {},
   "outputs": [
    {
     "name": "stdout",
     "output_type": "stream",
     "text": [
      "Sum of tip given by females is : 246.51\n",
      "Sum of tip given by males is : 1.75\n",
      "total females are : 87\n",
      "total males are : 157\n",
      "Average tip given by females is :  2.833448275862069\n",
      "Average tip given by males is :  0.011146496815286623\n"
     ]
    }
   ],
   "source": [
    "#6.Average tips given by male and female\n",
    "f_t=0\n",
    "f=0\n",
    "m_t=0\n",
    "m=0\n",
    "for x in range(244):\n",
    "    if int(tip[x,3]==0):\n",
    "        f+=1\n",
    "        f_t+=tip[x,2]\n",
    "    else:\n",
    "        m+=1\n",
    "        m_t=tip[x,2]\n",
    "print(\"Sum of tip given by females is :\",f_t)\n",
    "print(\"Sum of tip given by males is :\",m_t)\n",
    "print(\"total females are :\",f)\n",
    "print(\"total males are :\",m)\n",
    "\n",
    "print(\"Average tip given by females is : \",f_t/f )\n",
    "print(\"Average tip given by males is : \",m_t/m )        "
   ]
  },
  {
   "cell_type": "code",
   "execution_count": 19,
   "id": "682510ad",
   "metadata": {},
   "outputs": [
    {
     "name": "stdout",
     "output_type": "stream",
     "text": [
      "Amount spent  by females is :  1817.4600000000005\n",
      "Amount spent by males is :  3741.8900000000017\n"
     ]
    }
   ],
   "source": [
    "#7.What is the total amount spent by males and females\n",
    "f_total=0\n",
    "m_total=0\n",
    "for x in range(244):\n",
    "    if int(tip[x,3]==0):\n",
    "        f_total+=(tip[x,2]+tip[x,1])\n",
    "    else:\n",
    "        m_total+=(tip[x,2]+tip[x,1])\n",
    "\n",
    "print(\"Amount spent  by females is : \",f_total)\n",
    "print(\"Amount spent by males is : \",m_total )        "
   ]
  },
  {
   "cell_type": "code",
   "execution_count": null,
   "id": "ca3da227",
   "metadata": {},
   "outputs": [],
   "source": []
  },
  {
   "cell_type": "code",
   "execution_count": 99,
   "id": "e6a288ca",
   "metadata": {},
   "outputs": [
    {
     "name": "stdout",
     "output_type": "stream",
     "text": [
      "Min of tip given is 1.0\n"
     ]
    }
   ],
   "source": [
    "#8.What is the min and max tip given\n",
    "#min tip given\n",
    "m=np.min(tip[:,2])\n",
    "print(\"Min of tip given is\",m)"
   ]
  },
  {
   "cell_type": "code",
   "execution_count": 100,
   "id": "07c7d39e",
   "metadata": {},
   "outputs": [
    {
     "name": "stdout",
     "output_type": "stream",
     "text": [
      "Max of tip given is  10.0\n"
     ]
    }
   ],
   "source": [
    "#max tip given\n",
    "n=np.max(tip[:,2])\n",
    "print(\"Max of tip given is \",n)"
   ]
  },
  {
   "cell_type": "code",
   "execution_count": 9,
   "id": "fb7ae09d",
   "metadata": {},
   "outputs": [
    {
     "name": "stdout",
     "output_type": "stream",
     "text": [
      "The number of females went for lunch = 87\n",
      "The number of females went for dinner = 0\n",
      "The number of males went for lunch = 33\n",
      "The number of males went for dinner = 124\n"
     ]
    }
   ],
   "source": [
    "#8.How many males and females are going for lunch and dinner\n",
    "#lunch\n",
    "m_l=0\n",
    "f_l=0\n",
    "m_d=0\n",
    "f_d=0\n",
    "for x in range(244):\n",
    "    if int(tip[x,3]==0 and tip[x,6]==0):\n",
    "        f_l+=1\n",
    "    elif int(tip[x,3]==1 and tip[x,6]==0):\n",
    "        m_d+=1\n",
    "    elif int(tip[x,3]==0 and tip[x,6]==1):\n",
    "        f_l+=1\n",
    "    elif int(tip[x,3]==1 and tip[x,6]==1):\n",
    "        m_l+=1\n",
    "print(\"The number of females went for lunch =\",f_l)\n",
    "print(\"The number of females went for dinner =\",f_d)\n",
    "print(\"The number of males went for lunch =\",m_l)\n",
    "print(\"The number of males went for dinner =\",m_d)\n",
    "\n",
    "\n"
   ]
  },
  {
   "cell_type": "code",
   "execution_count": null,
   "id": "0de32bd4",
   "metadata": {},
   "outputs": [],
   "source": []
  },
  {
   "cell_type": "code",
   "execution_count": null,
   "id": "db69ec04",
   "metadata": {},
   "outputs": [],
   "source": []
  },
  {
   "cell_type": "code",
   "execution_count": null,
   "id": "1d24ed7c",
   "metadata": {},
   "outputs": [],
   "source": []
  },
  {
   "cell_type": "code",
   "execution_count": 101,
   "id": "45a707b7",
   "metadata": {},
   "outputs": [
    {
     "name": "stdout",
     "output_type": "stream",
     "text": [
      "2.569672131147541\n",
      "Average size of the family is : 3\n"
     ]
    }
   ],
   "source": [
    "#9.Find the average size\n",
    "h=np.average(tip[:,7])\n",
    "print(h)\n",
    "print(\"Average size of the family is :\",round(h))"
   ]
  },
  {
   "cell_type": "code",
   "execution_count": 10,
   "id": "0d4adc86",
   "metadata": {},
   "outputs": [
    {
     "name": "stdout",
     "output_type": "stream",
     "text": [
      "Number of male smokers are : 60\n"
     ]
    }
   ],
   "source": [
    "#10.How  many female smokers and male smokers\n",
    "#male smokers\n",
    "m_s=0\n",
    "for x in range(244):\n",
    "    if int(tip[x,3]==1 and tip[x,4]==1):\n",
    "        m_s+=1\n",
    "print(\"Number of male smokers are :\",m_s)        \n"
   ]
  },
  {
   "cell_type": "code",
   "execution_count": 11,
   "id": "0afff328",
   "metadata": {},
   "outputs": [
    {
     "name": "stdout",
     "output_type": "stream",
     "text": [
      "Number of female smoers are :  33\n"
     ]
    }
   ],
   "source": [
    "#female smokers\n",
    "f_s=0\n",
    "for x in range(244):\n",
    "    if int(tip[x,3]==0 and tip[x,4]==1):\n",
    "        f_s+=1\n",
    "\n",
    "print(\"Number of female smoers are : \",f_s)   "
   ]
  },
  {
   "cell_type": "code",
   "execution_count": null,
   "id": "968633e1",
   "metadata": {},
   "outputs": [],
   "source": []
  },
  {
   "cell_type": "code",
   "execution_count": null,
   "id": "70c6c01b",
   "metadata": {},
   "outputs": [],
   "source": []
  },
  {
   "cell_type": "code",
   "execution_count": null,
   "id": "731d35dc",
   "metadata": {},
   "outputs": [],
   "source": []
  },
  {
   "cell_type": "code",
   "execution_count": null,
   "id": "a9842fae",
   "metadata": {},
   "outputs": [],
   "source": []
  },
  {
   "cell_type": "code",
   "execution_count": null,
   "id": "1efee53b",
   "metadata": {},
   "outputs": [],
   "source": []
  }
 ],
 "metadata": {
  "kernelspec": {
   "display_name": "Python 3 (ipykernel)",
   "language": "python",
   "name": "python3"
  },
  "language_info": {
   "codemirror_mode": {
    "name": "ipython",
    "version": 3
   },
   "file_extension": ".py",
   "mimetype": "text/x-python",
   "name": "python",
   "nbconvert_exporter": "python",
   "pygments_lexer": "ipython3",
   "version": "3.10.9"
  }
 },
 "nbformat": 4,
 "nbformat_minor": 5
}
